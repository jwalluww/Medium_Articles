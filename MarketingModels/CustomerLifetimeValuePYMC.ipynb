{
 "cells": [
  {
   "cell_type": "markdown",
   "metadata": {},
   "source": [
    "# Customer Lifetime Value Model using PYMC\n",
    "- Justin Wall"
   ]
  },
  {
   "cell_type": "markdown",
   "metadata": {},
   "source": [
    "## Goals\n",
    "Build Customer Lifetime Value model\n",
    "- Distinguish active customers from inactive customers\n",
    "- Generate transaction forecasts for individual customers\n",
    "- Predict the purchase volume of the entire customer base\n",
    "\n",
    "Tools\n",
    "- PYMC for probabilistic programming\n",
    "- Lifetimes for the dataset, but it's not a maintained library so we will skip it for the actual implementation"
   ]
  },
  {
   "cell_type": "markdown",
   "metadata": {},
   "source": [
    "<br>"
   ]
  },
  {
   "cell_type": "markdown",
   "metadata": {},
   "source": [
    "***"
   ]
  },
  {
   "cell_type": "markdown",
   "metadata": {},
   "source": [
    "<br>"
   ]
  },
  {
   "cell_type": "markdown",
   "metadata": {},
   "source": [
    "## Import Data & Libraries"
   ]
  },
  {
   "cell_type": "code",
   "execution_count": 24,
   "metadata": {},
   "outputs": [],
   "source": [
    "import pandas as pd \n",
    "import numpy as np \n",
    "\n",
    "import matplotlib.pyplot as plt \n",
    "import seaborn as sns\n",
    "import arviz as az\n",
    "\n",
    "import pymc as pm\n",
    "import pytensor.tensor as pt\n",
    "from lifetimes import BetaGeoFitter\n",
    "from lifetimes.datasets import load_cdnow_summary"
   ]
  },
  {
   "cell_type": "code",
   "execution_count": 16,
   "metadata": {},
   "outputs": [
    {
     "name": "stdout",
     "output_type": "stream",
     "text": [
      "<class 'pandas.core.frame.DataFrame'>\n",
      "Index: 2357 entries, 1 to 2357\n",
      "Data columns (total 3 columns):\n",
      " #   Column     Non-Null Count  Dtype  \n",
      "---  ------     --------------  -----  \n",
      " 0   frequency  2357 non-null   int64  \n",
      " 1   recency    2357 non-null   float64\n",
      " 2   T          2357 non-null   float64\n",
      "dtypes: float64(2), int64(1)\n",
      "memory usage: 73.7 KB\n"
     ]
    }
   ],
   "source": [
    "df = load_cdnow_summary(index_col=[0])\n",
    "df.info()"
   ]
  },
  {
   "cell_type": "code",
   "execution_count": 17,
   "metadata": {},
   "outputs": [
    {
     "data": {
      "text/html": [
       "<div>\n",
       "<style scoped>\n",
       "    .dataframe tbody tr th:only-of-type {\n",
       "        vertical-align: middle;\n",
       "    }\n",
       "\n",
       "    .dataframe tbody tr th {\n",
       "        vertical-align: top;\n",
       "    }\n",
       "\n",
       "    .dataframe thead th {\n",
       "        text-align: right;\n",
       "    }\n",
       "</style>\n",
       "<table border=\"1\" class=\"dataframe\">\n",
       "  <thead>\n",
       "    <tr style=\"text-align: right;\">\n",
       "      <th></th>\n",
       "      <th>frequency</th>\n",
       "      <th>recency</th>\n",
       "      <th>T</th>\n",
       "    </tr>\n",
       "    <tr>\n",
       "      <th>ID</th>\n",
       "      <th></th>\n",
       "      <th></th>\n",
       "      <th></th>\n",
       "    </tr>\n",
       "  </thead>\n",
       "  <tbody>\n",
       "    <tr>\n",
       "      <th>1</th>\n",
       "      <td>2</td>\n",
       "      <td>30.43</td>\n",
       "      <td>38.86</td>\n",
       "    </tr>\n",
       "    <tr>\n",
       "      <th>2</th>\n",
       "      <td>1</td>\n",
       "      <td>1.71</td>\n",
       "      <td>38.86</td>\n",
       "    </tr>\n",
       "    <tr>\n",
       "      <th>3</th>\n",
       "      <td>0</td>\n",
       "      <td>0.00</td>\n",
       "      <td>38.86</td>\n",
       "    </tr>\n",
       "    <tr>\n",
       "      <th>4</th>\n",
       "      <td>0</td>\n",
       "      <td>0.00</td>\n",
       "      <td>38.86</td>\n",
       "    </tr>\n",
       "    <tr>\n",
       "      <th>5</th>\n",
       "      <td>0</td>\n",
       "      <td>0.00</td>\n",
       "      <td>38.86</td>\n",
       "    </tr>\n",
       "  </tbody>\n",
       "</table>\n",
       "</div>"
      ],
      "text/plain": [
       "    frequency  recency      T\n",
       "ID                           \n",
       "1           2    30.43  38.86\n",
       "2           1     1.71  38.86\n",
       "3           0     0.00  38.86\n",
       "4           0     0.00  38.86\n",
       "5           0     0.00  38.86"
      ]
     },
     "execution_count": 17,
     "metadata": {},
     "output_type": "execute_result"
    }
   ],
   "source": [
    "df.head()"
   ]
  },
  {
   "cell_type": "markdown",
   "metadata": {},
   "source": [
    "<br>"
   ]
  },
  {
   "cell_type": "markdown",
   "metadata": {},
   "source": [
    "***"
   ]
  },
  {
   "cell_type": "markdown",
   "metadata": {},
   "source": [
    "<br>"
   ]
  },
  {
   "cell_type": "markdown",
   "metadata": {},
   "source": [
    "## Exploratory Data Analysis"
   ]
  },
  {
   "cell_type": "code",
   "execution_count": 18,
   "metadata": {},
   "outputs": [
    {
     "data": {
      "text/plain": [
       "frequency\n",
       "0     1411\n",
       "1      439\n",
       "2      214\n",
       "3      100\n",
       "4       62\n",
       "5       38\n",
       "6       29\n",
       "7       23\n",
       "8        7\n",
       "10       5\n",
       "Name: count, dtype: int64"
      ]
     },
     "execution_count": 18,
     "metadata": {},
     "output_type": "execute_result"
    }
   ],
   "source": [
    "# Count of time periods the customer has a purchase in\n",
    "df['frequency'].value_counts(dropna=False).head(10)"
   ]
  },
  {
   "cell_type": "code",
   "execution_count": 19,
   "metadata": {},
   "outputs": [
    {
     "data": {
      "text/plain": [
       "recency\n",
       "0.00     1411\n",
       "1.57       10\n",
       "25.86       9\n",
       "2.14        9\n",
       "20.86       9\n",
       "27.71       9\n",
       "21.14       9\n",
       "7.57        8\n",
       "24.43       8\n",
       "2.00        8\n",
       "Name: count, dtype: int64"
      ]
     },
     "execution_count": 19,
     "metadata": {},
     "output_type": "execute_result"
    }
   ],
   "source": [
    "# Duration between first and last purchase\n",
    "df['recency'].value_counts(dropna=False).head(10)"
   ]
  },
  {
   "cell_type": "code",
   "execution_count": 20,
   "metadata": {},
   "outputs": [
    {
     "data": {
      "text/plain": [
       "T\n",
       "33.71    43\n",
       "29.86    40\n",
       "31.14    37\n",
       "32.14    36\n",
       "34.14    36\n",
       "30.86    36\n",
       "34.00    36\n",
       "36.14    35\n",
       "32.29    35\n",
       "32.00    34\n",
       "Name: count, dtype: int64"
      ]
     },
     "execution_count": 20,
     "metadata": {},
     "output_type": "execute_result"
    }
   ],
   "source": [
    "# Duration between first purchase and now\n",
    "df['T'].value_counts(dropna=False).head(10)"
   ]
  },
  {
   "cell_type": "markdown",
   "metadata": {},
   "source": [
    "<br>"
   ]
  },
  {
   "cell_type": "markdown",
   "metadata": {},
   "source": [
    "***"
   ]
  },
  {
   "cell_type": "markdown",
   "metadata": {},
   "source": [
    "<br>"
   ]
  },
  {
   "cell_type": "markdown",
   "metadata": {},
   "source": [
    "## CLV Modeling"
   ]
  },
  {
   "cell_type": "markdown",
   "metadata": {},
   "source": [
    "### BG/NBD Model for predicting the count of future transactions\n",
    "Beta Goemetric Negative Binomial Distribution shows transactions over time and tells when customers become inactive. All we need here is recency and frequency during a time period as a customer. Customers will then purchase at a random interval during the time range and have a certain probability of becoming inactive after that."
   ]
  },
  {
   "cell_type": "code",
   "execution_count": 33,
   "metadata": {},
   "outputs": [],
   "source": [
    "# Get some variables together here\n",
    "n = df.shape[0] # number of customers\n",
    "x = df['frequency'].values # number of repeat purchases\n",
    "t_x = df['recency'].values # duration between first and last purchase\n",
    "T = df['T'].values # duration between first purchase and now\n",
    "int_vec = np.vectorize(int) # vectorize the int function\n",
    "x_zero = int_vec(x>0) # indicator for whether the customer has purchased more than once"
   ]
  },
  {
   "cell_type": "code",
   "execution_count": 34,
   "metadata": {},
   "outputs": [],
   "source": [
    "# It's always difficult to start at the top of the PYMC model, so I have numbers below to tell you where to start to best understand this model.\n",
    "with pm.Model() as model_full:\n",
    "\n",
    "    # Hyperpriors for the Gamma distribution parameters - lambda's prior\n",
    "    a = pm.HalfNormal(name=\"a\", sigma=10)\n",
    "    b = pm.HalfNormal(name=\"b\", sigma=10)\n",
    "    # 'a' and 'b' are the hyperparameters for the Beta distribution of 'p'.\n",
    "    # The HalfNormal distribution ensure these values are non-negative, with a standard deviation of 10.\n",
    "\n",
    "    # Hyperpriors for the Beta distribution parameters (p's prior)\n",
    "    alpha = pm.HalfNormal(name=\"alpha\", sigma=10)\n",
    "    r = pm.HalfNormal(name=\"r\", sigma=10)\n",
    "    # 'alpha' and 'r' are the hyperparameters for the Gamma distribution of 'lambda'.\n",
    "    # Again, the HalfNormal distribution ensure these values are non-negative, with a standard deviation of 10.\n",
    "\n",
    "    # Define customer-level latent variables\n",
    "    lam = pm.Gamma(name=\"lam\", alpha=r, beta=alpha, shape=len(df))\n",
    "    # 'lam' (lambda) represents the purchase rate for each customer.\n",
    "    # Modeled as a Gamma distribution with hyperparameters 'r' and 'alpha'.\n",
    "    # 'shape=len(df)' ensures that we have a separate lambda for each customer.\n",
    "\n",
    "    p = pm.Beta(name=\"p\", alpha=a, beta=b, shape=len(df))\n",
    "    # 'p' represents the dropout probability for each customer.\n",
    "    # Modeled as a Beta distribution with hyperparametesr 'a' and 'b'.\n",
    "    # 'shape=len(df)' ensures a separate dropout probability for each customer.\n",
    "\n",
    "    # Define the custom log-likelihood function\n",
    "    def logp(x, t_x, T, x_zero):\n",
    "        # x: Number of repeat transactions per customer\n",
    "        # t_x: Recency of the last purchase\n",
    "        # T: Duration of observation for each customer\n",
    "        # x_zero: Indicator for customers with no repeat purchases (x == 0)\n",
    "\n",
    "        # Term A: Contribution to likelihood from observed transactions\n",
    "        log_term_a = x * pt.log(1 - p) + x * pt.log(lam) - t_x * lam\n",
    "        # `log_term_a` calculates the log-probability of observed purchases.\n",
    "        # - `pt.log(1 - p)`: Log of the probability the customer remains active after each purchase.\n",
    "        # - `pt.log(lam)`: Log of the purchase rate.\n",
    "        # - `-t_x * lam`: Accounts for the time elapsed since the last purchase.\n",
    "\n",
    "        # Term B: Contribution from survival/dropout\n",
    "        term_b_1 = -lam * (T - t_x)\n",
    "        term_b_2 = pt.log(p) - pt.log(1 - p)\n",
    "        # `term_b_1`: Accounts for the probability of no purchases between `t_x` and `T`.\n",
    "        # `term_b_2`: Log-odds of dropout.\n",
    "\n",
    "        log_term_b = pm.math.switch(\n",
    "            x_zero, pm.math.logaddexp(term_b_1, term_b_2), term_b_1\n",
    "        )\n",
    "        # `log_term_b`: Handles two cases:\n",
    "        # - If `x_zero` is True (no repeat purchases), combines dropout and survival likelihoods.\n",
    "        # - Otherwise, only considers survival likelihood.\n",
    "\n",
    "        return pt.sum(log_term_a) + pt.sum(log_term_b)\n",
    "        # Summing the log-likelihood terms across all customers.\n",
    "\n",
    "    # Define the likelihood function\n",
    "    likelihood = pm.Potential(\n",
    "        name=\"likelihood\",\n",
    "        var=logp(x=x, t_x=t_x, T=T, x_zero=x_zero),\n",
    "    )\n",
    "    # `pm.Potential` allows defining a custom likelihood function.\n",
    "    # `logp` calculates the log-likelihood for the observed data.\n"
   ]
  },
  {
   "cell_type": "code",
   "execution_count": 35,
   "metadata": {},
   "outputs": [
    {
     "data": {
      "image/svg+xml": [
       "<?xml version=\"1.0\" encoding=\"UTF-8\" standalone=\"no\"?>\n",
       "<!DOCTYPE svg PUBLIC \"-//W3C//DTD SVG 1.1//EN\"\n",
       " \"http://www.w3.org/Graphics/SVG/1.1/DTD/svg11.dtd\">\n",
       "<!-- Generated by graphviz version 9.0.0 (0)\n",
       " -->\n",
       "<!-- Pages: 1 -->\n",
       "<svg width=\"526pt\" height=\"335pt\"\n",
       " viewBox=\"0.00 0.00 525.97 335.15\" xmlns=\"http://www.w3.org/2000/svg\" xmlns:xlink=\"http://www.w3.org/1999/xlink\">\n",
       "<g id=\"graph0\" class=\"graph\" transform=\"scale(1 1) rotate(0) translate(4 331.15)\">\n",
       "<polygon fill=\"white\" stroke=\"none\" points=\"-4,4 -4,-331.15 521.97,-331.15 521.97,4 -4,4\"/>\n",
       "<g id=\"clust1\" class=\"cluster\">\n",
       "<title>cluster2357</title>\n",
       "<path fill=\"none\" stroke=\"black\" d=\"M188.98,-96.02C188.98,-96.02 341.98,-96.02 341.98,-96.02 347.98,-96.02 353.98,-102.02 353.98,-108.02 353.98,-108.02 353.98,-205.83 353.98,-205.83 353.98,-211.83 347.98,-217.83 341.98,-217.83 341.98,-217.83 188.98,-217.83 188.98,-217.83 182.98,-217.83 176.98,-211.83 176.98,-205.83 176.98,-205.83 176.98,-108.02 176.98,-108.02 176.98,-102.02 182.98,-96.02 188.98,-96.02\"/>\n",
       "<text text-anchor=\"middle\" x=\"332.48\" y=\"-103.22\" font-family=\"Times New Roman,serif\" font-size=\"14.00\">2357</text>\n",
       "</g>\n",
       "<!-- b -->\n",
       "<g id=\"node1\" class=\"node\">\n",
       "<title>b</title>\n",
       "<ellipse fill=\"none\" stroke=\"black\" cx=\"57.98\" cy=\"-286.49\" rx=\"57.98\" ry=\"40.66\"/>\n",
       "<text text-anchor=\"middle\" x=\"57.98\" y=\"-297.94\" font-family=\"Times New Roman,serif\" font-size=\"14.00\">b</text>\n",
       "<text text-anchor=\"middle\" x=\"57.98\" y=\"-281.44\" font-family=\"Times New Roman,serif\" font-size=\"14.00\">~</text>\n",
       "<text text-anchor=\"middle\" x=\"57.98\" y=\"-264.94\" font-family=\"Times New Roman,serif\" font-size=\"14.00\">HalfNormal</text>\n",
       "</g>\n",
       "<!-- p -->\n",
       "<g id=\"node7\" class=\"node\">\n",
       "<title>p</title>\n",
       "<ellipse fill=\"none\" stroke=\"black\" cx=\"213.98\" cy=\"-169.18\" rx=\"28.81\" ry=\"40.66\"/>\n",
       "<text text-anchor=\"middle\" x=\"213.98\" y=\"-180.63\" font-family=\"Times New Roman,serif\" font-size=\"14.00\">p</text>\n",
       "<text text-anchor=\"middle\" x=\"213.98\" y=\"-164.13\" font-family=\"Times New Roman,serif\" font-size=\"14.00\">~</text>\n",
       "<text text-anchor=\"middle\" x=\"213.98\" y=\"-147.63\" font-family=\"Times New Roman,serif\" font-size=\"14.00\">Beta</text>\n",
       "</g>\n",
       "<!-- b&#45;&gt;p -->\n",
       "<g id=\"edge3\" class=\"edge\">\n",
       "<title>b&#45;&gt;p</title>\n",
       "<path fill=\"none\" stroke=\"black\" d=\"M97.35,-256.39C122.69,-237.66 155.3,-213.55 179.6,-195.59\"/>\n",
       "<polygon fill=\"black\" stroke=\"black\" points=\"181.62,-198.45 187.58,-189.69 177.46,-192.82 181.62,-198.45\"/>\n",
       "</g>\n",
       "<!-- likelihood -->\n",
       "<g id=\"node2\" class=\"node\">\n",
       "<title>likelihood</title>\n",
       "<polygon fill=\"lightgrey\" stroke=\"black\" points=\"312.13,-25.78 312.13,-62.24 280.41,-88.02 235.55,-88.02 203.83,-62.24 203.83,-25.78 235.55,0 280.41,0 312.13,-25.78\"/>\n",
       "<text text-anchor=\"middle\" x=\"257.98\" y=\"-55.46\" font-family=\"Times New Roman,serif\" font-size=\"14.00\">likelihood</text>\n",
       "<text text-anchor=\"middle\" x=\"257.98\" y=\"-38.96\" font-family=\"Times New Roman,serif\" font-size=\"14.00\">~</text>\n",
       "<text text-anchor=\"middle\" x=\"257.98\" y=\"-22.46\" font-family=\"Times New Roman,serif\" font-size=\"14.00\">Potential</text>\n",
       "</g>\n",
       "<!-- r -->\n",
       "<g id=\"node3\" class=\"node\">\n",
       "<title>r</title>\n",
       "<ellipse fill=\"none\" stroke=\"black\" cx=\"325.98\" cy=\"-286.49\" rx=\"57.98\" ry=\"40.66\"/>\n",
       "<text text-anchor=\"middle\" x=\"325.98\" y=\"-297.94\" font-family=\"Times New Roman,serif\" font-size=\"14.00\">r</text>\n",
       "<text text-anchor=\"middle\" x=\"325.98\" y=\"-281.44\" font-family=\"Times New Roman,serif\" font-size=\"14.00\">~</text>\n",
       "<text text-anchor=\"middle\" x=\"325.98\" y=\"-264.94\" font-family=\"Times New Roman,serif\" font-size=\"14.00\">HalfNormal</text>\n",
       "</g>\n",
       "<!-- lam -->\n",
       "<g id=\"node6\" class=\"node\">\n",
       "<title>lam</title>\n",
       "<ellipse fill=\"none\" stroke=\"black\" cx=\"302.98\" cy=\"-169.18\" rx=\"42.6\" ry=\"40.66\"/>\n",
       "<text text-anchor=\"middle\" x=\"302.98\" y=\"-180.63\" font-family=\"Times New Roman,serif\" font-size=\"14.00\">lam</text>\n",
       "<text text-anchor=\"middle\" x=\"302.98\" y=\"-164.13\" font-family=\"Times New Roman,serif\" font-size=\"14.00\">~</text>\n",
       "<text text-anchor=\"middle\" x=\"302.98\" y=\"-147.63\" font-family=\"Times New Roman,serif\" font-size=\"14.00\">Gamma</text>\n",
       "</g>\n",
       "<!-- r&#45;&gt;lam -->\n",
       "<g id=\"edge2\" class=\"edge\">\n",
       "<title>r&#45;&gt;lam</title>\n",
       "<path fill=\"none\" stroke=\"black\" d=\"M318.07,-245.81C316.46,-237.75 314.75,-229.16 313.08,-220.78\"/>\n",
       "<polygon fill=\"black\" stroke=\"black\" points=\"316.52,-220.15 311.13,-211.03 309.65,-221.52 316.52,-220.15\"/>\n",
       "</g>\n",
       "<!-- alpha -->\n",
       "<g id=\"node4\" class=\"node\">\n",
       "<title>alpha</title>\n",
       "<ellipse fill=\"none\" stroke=\"black\" cx=\"459.98\" cy=\"-286.49\" rx=\"57.98\" ry=\"40.66\"/>\n",
       "<text text-anchor=\"middle\" x=\"459.98\" y=\"-297.94\" font-family=\"Times New Roman,serif\" font-size=\"14.00\">alpha</text>\n",
       "<text text-anchor=\"middle\" x=\"459.98\" y=\"-281.44\" font-family=\"Times New Roman,serif\" font-size=\"14.00\">~</text>\n",
       "<text text-anchor=\"middle\" x=\"459.98\" y=\"-264.94\" font-family=\"Times New Roman,serif\" font-size=\"14.00\">HalfNormal</text>\n",
       "</g>\n",
       "<!-- alpha&#45;&gt;lam -->\n",
       "<g id=\"edge1\" class=\"edge\">\n",
       "<title>alpha&#45;&gt;lam</title>\n",
       "<path fill=\"none\" stroke=\"black\" d=\"M420.37,-256.39C397.51,-239.61 368.77,-218.5 345.45,-201.37\"/>\n",
       "<polygon fill=\"black\" stroke=\"black\" points=\"347.83,-198.77 337.7,-195.67 343.68,-204.41 347.83,-198.77\"/>\n",
       "</g>\n",
       "<!-- a -->\n",
       "<g id=\"node5\" class=\"node\">\n",
       "<title>a</title>\n",
       "<ellipse fill=\"none\" stroke=\"black\" cx=\"191.98\" cy=\"-286.49\" rx=\"57.98\" ry=\"40.66\"/>\n",
       "<text text-anchor=\"middle\" x=\"191.98\" y=\"-297.94\" font-family=\"Times New Roman,serif\" font-size=\"14.00\">a</text>\n",
       "<text text-anchor=\"middle\" x=\"191.98\" y=\"-281.44\" font-family=\"Times New Roman,serif\" font-size=\"14.00\">~</text>\n",
       "<text text-anchor=\"middle\" x=\"191.98\" y=\"-264.94\" font-family=\"Times New Roman,serif\" font-size=\"14.00\">HalfNormal</text>\n",
       "</g>\n",
       "<!-- a&#45;&gt;p -->\n",
       "<g id=\"edge4\" class=\"edge\">\n",
       "<title>a&#45;&gt;p</title>\n",
       "<path fill=\"none\" stroke=\"black\" d=\"M199.55,-245.81C201.14,-237.47 202.84,-228.58 204.49,-219.93\"/>\n",
       "<polygon fill=\"black\" stroke=\"black\" points=\"207.9,-220.73 206.34,-210.25 201.03,-219.42 207.9,-220.73\"/>\n",
       "</g>\n",
       "<!-- lam&#45;&gt;likelihood -->\n",
       "<g id=\"edge5\" class=\"edge\">\n",
       "<title>lam&#45;&gt;likelihood</title>\n",
       "<path fill=\"none\" stroke=\"black\" d=\"M289.11,-130.22C285.51,-120.35 281.56,-109.54 277.72,-99.02\"/>\n",
       "<polygon fill=\"black\" stroke=\"black\" points=\"281.01,-97.84 274.29,-89.65 274.44,-100.24 281.01,-97.84\"/>\n",
       "</g>\n",
       "<!-- p&#45;&gt;likelihood -->\n",
       "<g id=\"edge6\" class=\"edge\">\n",
       "<title>p&#45;&gt;likelihood</title>\n",
       "<path fill=\"none\" stroke=\"black\" d=\"M226.83,-132.22C230.56,-121.78 234.71,-110.15 238.74,-98.86\"/>\n",
       "<polygon fill=\"black\" stroke=\"black\" points=\"241.97,-100.22 242.04,-89.63 235.38,-97.87 241.97,-100.22\"/>\n",
       "</g>\n",
       "</g>\n",
       "</svg>\n"
      ],
      "text/plain": [
       "<graphviz.graphs.Digraph at 0x245668b61d0>"
      ]
     },
     "execution_count": 35,
     "metadata": {},
     "output_type": "execute_result"
    }
   ],
   "source": [
    "# Visualize the model as graph to understand the relationships between variables\n",
    "pm.model_to_graphviz(model=model_full)"
   ]
  },
  {
   "cell_type": "code",
   "execution_count": null,
   "metadata": {},
   "outputs": [
    {
     "name": "stderr",
     "output_type": "stream",
     "text": [
      "Auto-assigning NUTS sampler...\n",
      "Initializing NUTS using jitter+adapt_diag...\n",
      "Multiprocess sampling (4 chains in 4 jobs)\n",
      "NUTS: [a, b, alpha, r, lam, p]\n"
     ]
    },
    {
     "data": {
      "application/vnd.jupyter.widget-view+json": {
       "model_id": "365ade25f6a34812b45baa3f44383c50",
       "version_major": 2,
       "version_minor": 0
      },
      "text/plain": [
       "Output()"
      ]
     },
     "metadata": {},
     "output_type": "display_data"
    }
   ],
   "source": [
    "# This model should align with what would be obtained from the `lifetimes` package.\n",
    "with model_full:\n",
    "    trace_full = pm.sample(\n",
    "        tune=2000,\n",
    "        draws=4000,\n",
    "        chains=4,\n",
    "        target_accept=0.95,\n",
    "        # nuts_sampler=\"numpyro\",\n",
    "    )"
   ]
  },
  {
   "cell_type": "markdown",
   "metadata": {},
   "source": [
    "<br>"
   ]
  },
  {
   "cell_type": "markdown",
   "metadata": {},
   "source": [
    "***"
   ]
  },
  {
   "cell_type": "markdown",
   "metadata": {},
   "source": [
    "<br>"
   ]
  },
  {
   "cell_type": "markdown",
   "metadata": {},
   "source": [
    "## Sources\n",
    "- https://juanitorduz.github.io/bg_nbd_pymc/\n",
    "    - PYMC: Dr. Juan Camilo Orduz, full explanation of CLV probabilistic modeling using PYMC\n",
    "- https://towardsdatascience.com/measuring-customers-value-using-python-lifetimes-d8b19a04e9c1\n",
    "    - Great explanation of BG/NBD modeling, but uses lifeitmes to train. Then nice explanation of testing the model.\n",
    "- "
   ]
  },
  {
   "cell_type": "markdown",
   "metadata": {},
   "source": [
    "# "
   ]
  }
 ],
 "metadata": {
  "kernelspec": {
   "display_name": "pymc_env",
   "language": "python",
   "name": "python3"
  },
  "language_info": {
   "codemirror_mode": {
    "name": "ipython",
    "version": 3
   },
   "file_extension": ".py",
   "mimetype": "text/x-python",
   "name": "python",
   "nbconvert_exporter": "python",
   "pygments_lexer": "ipython3",
   "version": "3.11.9"
  }
 },
 "nbformat": 4,
 "nbformat_minor": 2
}
