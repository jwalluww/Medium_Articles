{
 "cells": [
  {
   "cell_type": "markdown",
   "metadata": {},
   "source": [
    "# Causal ML, Uplift Modeling Part 1"
   ]
  },
  {
   "cell_type": "markdown",
   "metadata": {},
   "source": [
    "## Import Libraries & Data"
   ]
  },
  {
   "cell_type": "code",
   "execution_count": 1,
   "metadata": {},
   "outputs": [],
   "source": [
    "# Import necessary libraries\n",
    "import pandas as pd\n",
    "import numpy as np\n",
    "from sklearn.ensemble import RandomForestClassifier\n",
    "from sklearn.model_selection import train_test_split\n",
    "import matplotlib.pyplot as plt\n",
    "from sklift.metrics import uplift_at_k,qini_auc_score\n",
    "from sklift.datasets import fetch_hillstrom"
   ]
  },
  {
   "cell_type": "code",
   "execution_count": 62,
   "metadata": {},
   "outputs": [
    {
     "name": "stdout",
     "output_type": "stream",
     "text": [
      "<class 'pandas.core.frame.DataFrame'>\n",
      "RangeIndex: 64000 entries, 0 to 63999\n",
      "Data columns (total 10 columns):\n",
      " #   Column           Non-Null Count  Dtype  \n",
      "---  ------           --------------  -----  \n",
      " 0   recency          64000 non-null  int64  \n",
      " 1   history_segment  64000 non-null  object \n",
      " 2   history          64000 non-null  float64\n",
      " 3   mens             64000 non-null  int64  \n",
      " 4   womens           64000 non-null  int64  \n",
      " 5   zip_code         64000 non-null  object \n",
      " 6   newbie           64000 non-null  int64  \n",
      " 7   channel          64000 non-null  object \n",
      " 8   segment          64000 non-null  object \n",
      " 9   visit            64000 non-null  int64  \n",
      "dtypes: float64(1), int64(5), object(4)\n",
      "memory usage: 4.9+ MB\n",
      "None\n",
      "recency            0\n",
      "history_segment    0\n",
      "history            0\n",
      "mens               0\n",
      "womens             0\n",
      "zip_code           0\n",
      "newbie             0\n",
      "channel            0\n",
      "segment            0\n",
      "visit              0\n",
      "dtype: int64\n"
     ]
    }
   ],
   "source": [
    "# 1. Load Hillstrom dataset\n",
    "def load_hillstrom():\n",
    "    dataset = fetch_hillstrom()\n",
    "    df = dataset.data\n",
    "    df['segment'] = dataset.treatment\n",
    "    df['visit'] = dataset.target\n",
    "    print(df.info())\n",
    "    print(df.isna().sum())\n",
    "    return df\n",
    "\n",
    "df = load_hillstrom()"
   ]
  },
  {
   "cell_type": "markdown",
   "metadata": {},
   "source": [
    "## Explore Data"
   ]
  },
  {
   "cell_type": "code",
   "execution_count": 63,
   "metadata": {},
   "outputs": [
    {
     "data": {
      "text/plain": [
       "segment\n",
       "Womens E-Mail    21387\n",
       "Mens E-Mail      21307\n",
       "No E-Mail        21306\n",
       "Name: count, dtype: int64"
      ]
     },
     "execution_count": 63,
     "metadata": {},
     "output_type": "execute_result"
    }
   ],
   "source": [
    "# The treatment\n",
    "df['segment'].value_counts()"
   ]
  },
  {
   "cell_type": "code",
   "execution_count": 64,
   "metadata": {},
   "outputs": [
    {
     "data": {
      "text/plain": [
       "treatment\n",
       "1    0.500012\n",
       "0    0.499988\n",
       "Name: proportion, dtype: float64"
      ]
     },
     "execution_count": 64,
     "metadata": {},
     "output_type": "execute_result"
    }
   ],
   "source": [
    "# There appears to be 2 segments, let's just use the mens email to start\n",
    "df = df.loc[df['segment'].isin(['Mens E-Mail','No E-Mail'])]\n",
    "df['treatment'] = df['segment'].map({'Mens E-Mail':1,'No E-Mail':0})\n",
    "df['treatment'].value_counts(normalize=True)"
   ]
  },
  {
   "cell_type": "code",
   "execution_count": 65,
   "metadata": {},
   "outputs": [
    {
     "data": {
      "text/plain": [
       "target\n",
       "0    36457\n",
       "1     6156\n",
       "Name: count, dtype: int64"
      ]
     },
     "execution_count": 65,
     "metadata": {},
     "output_type": "execute_result"
    }
   ],
   "source": [
    "# This dataset has visit, conversion, and revenue as the target variables, we are going to use visit as the target variable\n",
    "df['target'] = df['visit'].copy()\n",
    "df['target'].value_counts()"
   ]
  },
  {
   "cell_type": "code",
   "execution_count": 66,
   "metadata": {},
   "outputs": [
    {
     "data": {
      "text/plain": [
       "mens\n",
       "1    23526\n",
       "0    19087\n",
       "Name: count, dtype: int64"
      ]
     },
     "execution_count": 66,
     "metadata": {},
     "output_type": "execute_result"
    }
   ],
   "source": [
    "df['mens'].value_counts()"
   ]
  },
  {
   "cell_type": "code",
   "execution_count": 67,
   "metadata": {},
   "outputs": [
    {
     "data": {
      "text/plain": [
       "womens\n",
       "1    23417\n",
       "0    19196\n",
       "Name: count, dtype: int64"
      ]
     },
     "execution_count": 67,
     "metadata": {},
     "output_type": "execute_result"
    }
   ],
   "source": [
    "df['womens'].value_counts()"
   ]
  },
  {
   "cell_type": "code",
   "execution_count": 68,
   "metadata": {},
   "outputs": [
    {
     "data": {
      "text/plain": [
       "history_segment\n",
       "1) $0 - $100        15336\n",
       "2) $100 - $200       9527\n",
       "3) $200 - $350       8134\n",
       "4) $350 - $500       4221\n",
       "5) $500 - $750       3249\n",
       "6) $750 - $1,000     1266\n",
       "7) $1,000 +           880\n",
       "Name: count, dtype: int64"
      ]
     },
     "execution_count": 68,
     "metadata": {},
     "output_type": "execute_result"
    }
   ],
   "source": [
    "df['history_segment'].value_counts()"
   ]
  },
  {
   "cell_type": "code",
   "execution_count": 69,
   "metadata": {},
   "outputs": [
    {
     "data": {
      "text/plain": [
       "count    42613.000000\n",
       "mean       241.859315\n",
       "std        256.574723\n",
       "min         29.990000\n",
       "25%         64.500000\n",
       "50%        157.000000\n",
       "75%        325.210000\n",
       "max       3345.930000\n",
       "Name: history, dtype: float64"
      ]
     },
     "execution_count": 69,
     "metadata": {},
     "output_type": "execute_result"
    }
   ],
   "source": [
    "df['history'].describe()"
   ]
  },
  {
   "cell_type": "code",
   "execution_count": 70,
   "metadata": {},
   "outputs": [
    {
     "data": {
      "text/plain": [
       "recency\n",
       "1     5934\n",
       "2     5074\n",
       "10    5022\n",
       "9     4330\n",
       "3     3899\n",
       "4     3406\n",
       "6     3048\n",
       "5     2985\n",
       "7     2720\n",
       "8     2337\n",
       "11    2316\n",
       "12    1542\n",
       "Name: count, dtype: int64"
      ]
     },
     "execution_count": 70,
     "metadata": {},
     "output_type": "execute_result"
    }
   ],
   "source": [
    "df['recency'].value_counts()"
   ]
  },
  {
   "cell_type": "code",
   "execution_count": 71,
   "metadata": {},
   "outputs": [
    {
     "data": {
      "text/plain": [
       "newbie\n",
       "1    21381\n",
       "0    21232\n",
       "Name: count, dtype: int64"
      ]
     },
     "execution_count": 71,
     "metadata": {},
     "output_type": "execute_result"
    }
   ],
   "source": [
    "df['newbie'].value_counts()"
   ]
  },
  {
   "cell_type": "code",
   "execution_count": 72,
   "metadata": {},
   "outputs": [
    {
     "data": {
      "text/plain": [
       "channel\n",
       "Web             18863\n",
       "Phone           18567\n",
       "Multichannel     5183\n",
       "Name: count, dtype: int64"
      ]
     },
     "execution_count": 72,
     "metadata": {},
     "output_type": "execute_result"
    }
   ],
   "source": [
    "df['channel'].value_counts()"
   ]
  },
  {
   "cell_type": "code",
   "execution_count": 73,
   "metadata": {},
   "outputs": [
    {
     "data": {
      "text/plain": [
       "zip_code\n",
       "Surburban    19126\n",
       "Urban        17105\n",
       "Rural         6382\n",
       "Name: count, dtype: int64"
      ]
     },
     "execution_count": 73,
     "metadata": {},
     "output_type": "execute_result"
    }
   ],
   "source": [
    "df['zip_code'].value_counts()"
   ]
  },
  {
   "cell_type": "code",
   "execution_count": 75,
   "metadata": {},
   "outputs": [],
   "source": [
    "df = pd.get_dummies(df, columns=['zip_code'], drop_first=True, dtype=int)  # Encode categorical variable\n",
    "df = pd.get_dummies(df, columns=['channel'], drop_first=True, dtype=int)  # Encode categorical variable\n",
    "df = df.drop(columns=['history_segment','segment','visit'])"
   ]
  },
  {
   "cell_type": "code",
   "execution_count": 76,
   "metadata": {},
   "outputs": [
    {
     "data": {
      "text/html": [
       "<div>\n",
       "<style scoped>\n",
       "    .dataframe tbody tr th:only-of-type {\n",
       "        vertical-align: middle;\n",
       "    }\n",
       "\n",
       "    .dataframe tbody tr th {\n",
       "        vertical-align: top;\n",
       "    }\n",
       "\n",
       "    .dataframe thead th {\n",
       "        text-align: right;\n",
       "    }\n",
       "</style>\n",
       "<table border=\"1\" class=\"dataframe\">\n",
       "  <thead>\n",
       "    <tr style=\"text-align: right;\">\n",
       "      <th></th>\n",
       "      <th>recency</th>\n",
       "      <th>history</th>\n",
       "      <th>mens</th>\n",
       "      <th>womens</th>\n",
       "      <th>newbie</th>\n",
       "      <th>treatment</th>\n",
       "      <th>target</th>\n",
       "      <th>zip_code_Surburban</th>\n",
       "      <th>zip_code_Urban</th>\n",
       "      <th>channel_Phone</th>\n",
       "      <th>channel_Web</th>\n",
       "    </tr>\n",
       "  </thead>\n",
       "  <tbody>\n",
       "    <tr>\n",
       "      <th>1</th>\n",
       "      <td>6</td>\n",
       "      <td>329.08</td>\n",
       "      <td>1</td>\n",
       "      <td>1</td>\n",
       "      <td>1</td>\n",
       "      <td>0</td>\n",
       "      <td>0</td>\n",
       "      <td>0</td>\n",
       "      <td>0</td>\n",
       "      <td>0</td>\n",
       "      <td>1</td>\n",
       "    </tr>\n",
       "    <tr>\n",
       "      <th>3</th>\n",
       "      <td>9</td>\n",
       "      <td>675.83</td>\n",
       "      <td>1</td>\n",
       "      <td>0</td>\n",
       "      <td>1</td>\n",
       "      <td>1</td>\n",
       "      <td>0</td>\n",
       "      <td>0</td>\n",
       "      <td>0</td>\n",
       "      <td>0</td>\n",
       "      <td>1</td>\n",
       "    </tr>\n",
       "    <tr>\n",
       "      <th>8</th>\n",
       "      <td>9</td>\n",
       "      <td>675.07</td>\n",
       "      <td>1</td>\n",
       "      <td>1</td>\n",
       "      <td>1</td>\n",
       "      <td>1</td>\n",
       "      <td>0</td>\n",
       "      <td>0</td>\n",
       "      <td>0</td>\n",
       "      <td>1</td>\n",
       "      <td>0</td>\n",
       "    </tr>\n",
       "    <tr>\n",
       "      <th>13</th>\n",
       "      <td>2</td>\n",
       "      <td>101.64</td>\n",
       "      <td>0</td>\n",
       "      <td>1</td>\n",
       "      <td>0</td>\n",
       "      <td>1</td>\n",
       "      <td>1</td>\n",
       "      <td>0</td>\n",
       "      <td>1</td>\n",
       "      <td>0</td>\n",
       "      <td>1</td>\n",
       "    </tr>\n",
       "    <tr>\n",
       "      <th>14</th>\n",
       "      <td>4</td>\n",
       "      <td>241.42</td>\n",
       "      <td>0</td>\n",
       "      <td>1</td>\n",
       "      <td>1</td>\n",
       "      <td>0</td>\n",
       "      <td>0</td>\n",
       "      <td>0</td>\n",
       "      <td>0</td>\n",
       "      <td>0</td>\n",
       "      <td>0</td>\n",
       "    </tr>\n",
       "  </tbody>\n",
       "</table>\n",
       "</div>"
      ],
      "text/plain": [
       "    recency  history  mens  womens  newbie  treatment  target  \\\n",
       "1         6   329.08     1       1       1          0       0   \n",
       "3         9   675.83     1       0       1          1       0   \n",
       "8         9   675.07     1       1       1          1       0   \n",
       "13        2   101.64     0       1       0          1       1   \n",
       "14        4   241.42     0       1       1          0       0   \n",
       "\n",
       "    zip_code_Surburban  zip_code_Urban  channel_Phone  channel_Web  \n",
       "1                    0               0              0            1  \n",
       "3                    0               0              0            1  \n",
       "8                    0               0              1            0  \n",
       "13                   0               1              0            1  \n",
       "14                   0               0              0            0  "
      ]
     },
     "execution_count": 76,
     "metadata": {},
     "output_type": "execute_result"
    }
   ],
   "source": [
    "df.head()"
   ]
  },
  {
   "cell_type": "code",
   "execution_count": 78,
   "metadata": {},
   "outputs": [
    {
     "data": {
      "text/html": [
       "<div>\n",
       "<style scoped>\n",
       "    .dataframe tbody tr th:only-of-type {\n",
       "        vertical-align: middle;\n",
       "    }\n",
       "\n",
       "    .dataframe tbody tr th {\n",
       "        vertical-align: top;\n",
       "    }\n",
       "\n",
       "    .dataframe thead th {\n",
       "        text-align: right;\n",
       "    }\n",
       "</style>\n",
       "<table border=\"1\" class=\"dataframe\">\n",
       "  <thead>\n",
       "    <tr style=\"text-align: right;\">\n",
       "      <th></th>\n",
       "      <th>recency</th>\n",
       "      <th>history</th>\n",
       "      <th>mens</th>\n",
       "      <th>womens</th>\n",
       "      <th>newbie</th>\n",
       "      <th>target</th>\n",
       "      <th>zip_code_Surburban</th>\n",
       "      <th>zip_code_Urban</th>\n",
       "      <th>channel_Phone</th>\n",
       "      <th>channel_Web</th>\n",
       "    </tr>\n",
       "    <tr>\n",
       "      <th>treatment</th>\n",
       "      <th></th>\n",
       "      <th></th>\n",
       "      <th></th>\n",
       "      <th></th>\n",
       "      <th></th>\n",
       "      <th></th>\n",
       "      <th></th>\n",
       "      <th></th>\n",
       "      <th></th>\n",
       "      <th></th>\n",
       "    </tr>\n",
       "  </thead>\n",
       "  <tbody>\n",
       "    <tr>\n",
       "      <th>0</th>\n",
       "      <td>5.749695</td>\n",
       "      <td>240.882653</td>\n",
       "      <td>0.553224</td>\n",
       "      <td>0.547639</td>\n",
       "      <td>0.501971</td>\n",
       "      <td>0.106167</td>\n",
       "      <td>0.451751</td>\n",
       "      <td>0.400920</td>\n",
       "      <td>0.437764</td>\n",
       "      <td>0.439923</td>\n",
       "    </tr>\n",
       "    <tr>\n",
       "      <th>1</th>\n",
       "      <td>5.773642</td>\n",
       "      <td>242.835931</td>\n",
       "      <td>0.550946</td>\n",
       "      <td>0.551415</td>\n",
       "      <td>0.501525</td>\n",
       "      <td>0.182757</td>\n",
       "      <td>0.445910</td>\n",
       "      <td>0.401887</td>\n",
       "      <td>0.433660</td>\n",
       "      <td>0.445394</td>\n",
       "    </tr>\n",
       "  </tbody>\n",
       "</table>\n",
       "</div>"
      ],
      "text/plain": [
       "            recency     history      mens    womens    newbie    target  \\\n",
       "treatment                                                                 \n",
       "0          5.749695  240.882653  0.553224  0.547639  0.501971  0.106167   \n",
       "1          5.773642  242.835931  0.550946  0.551415  0.501525  0.182757   \n",
       "\n",
       "           zip_code_Surburban  zip_code_Urban  channel_Phone  channel_Web  \n",
       "treatment                                                                  \n",
       "0                    0.451751        0.400920       0.437764     0.439923  \n",
       "1                    0.445910        0.401887       0.433660     0.445394  "
      ]
     },
     "execution_count": 78,
     "metadata": {},
     "output_type": "execute_result"
    }
   ],
   "source": [
    "# It appears everything is just about equal in terms of the treatment group and the control group for feature means, except the target which is ok\n",
    "df.groupby('treatment').mean()"
   ]
  },
  {
   "cell_type": "markdown",
   "metadata": {},
   "source": [
    "## Split Train Test"
   ]
  },
  {
   "cell_type": "code",
   "execution_count": 79,
   "metadata": {},
   "outputs": [],
   "source": [
    "# 2. Split data into train/test\n",
    "def split_data(df):\n",
    "    X = df.drop(columns=['treatment', 'target'])\n",
    "    y = df['target']\n",
    "    treatment = df['treatment']\n",
    "    return train_test_split(X, y, treatment, test_size=0.3, random_state=42)\n",
    "\n",
    "X_train, X_test, y_train, y_test, t_train, t_test = split_data(df)"
   ]
  },
  {
   "cell_type": "markdown",
   "metadata": {},
   "source": [
    "## Run Two Model Approach, the traditional uplift model approach"
   ]
  },
  {
   "cell_type": "code",
   "execution_count": 80,
   "metadata": {},
   "outputs": [],
   "source": [
    "# 3. Two-Model Approach\n",
    "def two_model_approach(X_train, y_train, t_train, X_test):\n",
    "    model_treatment = RandomForestClassifier(random_state=42)\n",
    "    model_control = RandomForestClassifier(random_state=42)\n",
    "\n",
    "    # Train separate models for treatment and control\n",
    "    model_treatment.fit(X_train[t_train == 1], y_train[t_train == 1])\n",
    "    model_control.fit(X_train[t_train == 0], y_train[t_train == 0])\n",
    "\n",
    "    # Predict probabilities\n",
    "    uplift_treatment = model_treatment.predict_proba(X_test)[:, 1]\n",
    "    uplift_control = model_control.predict_proba(X_test)[:, 1]\n",
    "\n",
    "    uplift = uplift_treatment - uplift_control\n",
    "    return uplift\n",
    "\n",
    "uplift_two_model = two_model_approach(X_train, y_train, t_train, X_test)"
   ]
  },
  {
   "cell_type": "code",
   "execution_count": 5,
   "metadata": {},
   "outputs": [],
   "source": [
    "# 4. S-Learner\n",
    "def single_model(X_train, y_train, t_train, X_test):\n",
    "    X_train_s = X_train.copy()\n",
    "    X_train_s['treatment'] = t_train\n",
    "\n",
    "    X_test_s = X_test.copy()\n",
    "    X_test_s['treatment'] = 1  # Predict as if treated\n",
    "    X_test_c = X_test.copy()\n",
    "    X_test_c['treatment'] = 0  # Predict as if control\n",
    "\n",
    "    model = RandomForestClassifier(random_state=42)\n",
    "    model.fit(X_train_s, y_train)\n",
    "\n",
    "    uplift_treatment = model.predict_proba(X_test_s)[:, 1]\n",
    "    uplift_control = model.predict_proba(X_test_c)[:, 1]\n",
    "\n",
    "    uplift = uplift_treatment - uplift_control\n",
    "    return uplift\n",
    "\n",
    "uplift_s_learner = single_model(X_train, y_train, t_train, X_test)"
   ]
  },
  {
   "cell_type": "code",
   "execution_count": 6,
   "metadata": {},
   "outputs": [
    {
     "name": "stdout",
     "output_type": "stream",
     "text": [
      "### Two-Model Approach Evaluation ###\n",
      "Two-Model Qini Score: 0.0170\n"
     ]
    },
    {
     "data": {
      "image/png": "[encoded data removed]",
      "text/plain": [
       "<Figure size 640x480 with 1 Axes>"
      ]
     },
     "metadata": {},
     "output_type": "display_data"
    },
    {
     "name": "stdout",
     "output_type": "stream",
     "text": [
      "### S-Learner Evaluation ###\n",
      "S-Learner Qini Score: 0.0147\n"
     ]
    },
    {
     "data": {
      "image/png": "[encoded data removed]",
      "text/plain": [
       "<Figure size 640x480 with 1 Axes>"
      ]
     },
     "metadata": {},
     "output_type": "display_data"
    }
   ],
   "source": [
    "# 5. Enhanced Qini Evaluation\n",
    "def evaluate_qini(uplift, y_test, t_test, model_name):\n",
    "    qini = qini_auc_score(y_test, uplift, t_test)\n",
    "\n",
    "    # Use a loop to calculate uplift at different percentages\n",
    "    k_values = [i / 100 for i in range(1, 100)]  # Generate k as float values from 0.01 to 1\n",
    "    uplift_cumulative = []\n",
    "\n",
    "    for k in k_values:\n",
    "        uplift_k = uplift_at_k(y_test, uplift, t_test, strategy='overall', k=k)\n",
    "        uplift_cumulative.append(uplift_k)\n",
    "\n",
    "    print(f\"{model_name} Qini Score: {qini:.4f}\")\n",
    "\n",
    "    # Plot the Qini Curve\n",
    "    plt.plot(k_values, uplift_cumulative, label=f'{model_name} Model')\n",
    "    plt.plot([0, 1], [0, max(uplift_cumulative)], '--', label='Random')\n",
    "    plt.xlabel('Proportion of Population Targeted')\n",
    "    plt.ylabel('Cumulative Uplift')\n",
    "    plt.title(f'Qini Curve - {model_name}')\n",
    "    plt.legend()\n",
    "    plt.show()\n",
    "\n",
    "# Compare Two-Model and S-Learner\n",
    "print(\"### Two-Model Approach Evaluation ###\")\n",
    "evaluate_qini(uplift_two_model, y_test, t_test, \"Two-Model\")\n",
    "\n",
    "print(\"### S-Learner Evaluation ###\")\n",
    "evaluate_qini(uplift_s_learner, y_test, t_test, \"S-Learner\")\n"
   ]
  },
  {
   "cell_type": "code",
   "execution_count": 23,
   "metadata": {},
   "outputs": [
    {
     "name": "stdout",
     "output_type": "stream",
     "text": [
      "\n",
      "### Qini Score Comparison ###\n",
      "       Model  Qini Score\n",
      "0  Two-Model    0.016977\n",
      "1  S-Learner    0.014739\n"
     ]
    }
   ],
   "source": [
    "# 6. Tabular Comparison of Qini Scores\n",
    "qini_two_model = qini_auc_score(y_test, uplift_two_model, t_test)\n",
    "qini_s_learner = qini_auc_score(y_test, uplift_s_learner, t_test)\n",
    "\n",
    "comparison_df = pd.DataFrame({\n",
    "    'Model': ['Two-Model', 'S-Learner'],\n",
    "    'Qini Score': [qini_two_model, qini_s_learner]\n",
    "})\n",
    "print(\"\\n### Qini Score Comparison ###\")\n",
    "print(comparison_df)"
   ]
  },
  {
   "cell_type": "code",
   "execution_count": null,
   "metadata": {},
   "outputs": [],
   "source": []
  }
 ],
 "metadata": {
  "kernelspec": {
   "display_name": "pymc_env",
   "language": "python",
   "name": "python3"
  },
  "language_info": {
   "codemirror_mode": {
    "name": "ipython",
    "version": 3
   },
   "file_extension": ".py",
   "mimetype": "text/x-python",
   "name": "python",
   "nbconvert_exporter": "python",
   "pygments_lexer": "ipython3",
   "version": "3.11.9"
  }
 },
 "nbformat": 4,
 "nbformat_minor": 2
}
