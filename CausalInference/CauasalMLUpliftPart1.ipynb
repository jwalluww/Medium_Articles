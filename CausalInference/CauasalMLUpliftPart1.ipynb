{
 "cells": [
  {
   "cell_type": "markdown",
   "metadata": {},
   "source": [
    "# Causal ML, Uplift Modeling Part 1"
   ]
  },
  {
   "cell_type": "markdown",
   "metadata": {},
   "source": [
    "## Import Libraries & Data"
   ]
  },
  {
   "cell_type": "code",
   "execution_count": 1,
   "metadata": {},
   "outputs": [],
   "source": [
    "# Import necessary libraries\n",
    "import pandas as pd\n",
    "import numpy as np\n",
    "from sklearn.ensemble import RandomForestClassifier\n",
    "import matplotlib.pyplot as plt\n",
    "from sklift.metrics import uplift_at_k,qini_auc_score\n",
    "from sklift.datasets import fetch_hillstrom # our dataset!\n",
    "from xgboost import XGBClassifier\n",
    "from sklearn.model_selection import train_test_split, cross_val_score\n",
    "import optuna\n",
    "from sklearn.metrics import roc_auc_score, log_loss\n",
    "from causalml.metrics import auuc_score\n",
    "import seaborn as sns"
   ]
  },
  {
   "cell_type": "code",
   "execution_count": 2,
   "metadata": {},
   "outputs": [
    {
     "name": "stdout",
     "output_type": "stream",
     "text": [
      "Are there any null values in this dataframe?\n",
      "\n",
      "recency            0\n",
      "history_segment    0\n",
      "history            0\n",
      "mens               0\n",
      "womens             0\n",
      "zip_code           0\n",
      "newbie             0\n",
      "channel            0\n",
      "segment            0\n",
      "visit              0\n",
      "dtype: int64\n",
      "\n",
      "\n",
      "\n",
      "\n",
      "What does the dataframe look like? What datatypes are the features?\n",
      "\n",
      "<class 'pandas.core.frame.DataFrame'>\n",
      "RangeIndex: 64000 entries, 0 to 63999\n",
      "Data columns (total 10 columns):\n",
      " #   Column           Non-Null Count  Dtype  \n",
      "---  ------           --------------  -----  \n",
      " 0   recency          64000 non-null  int64  \n",
      " 1   history_segment  64000 non-null  object \n",
      " 2   history          64000 non-null  float64\n",
      " 3   mens             64000 non-null  int64  \n",
      " 4   womens           64000 non-null  int64  \n",
      " 5   zip_code         64000 non-null  object \n",
      " 6   newbie           64000 non-null  int64  \n",
      " 7   channel          64000 non-null  object \n",
      " 8   segment          64000 non-null  object \n",
      " 9   visit            64000 non-null  int64  \n",
      "dtypes: float64(1), int64(5), object(4)\n",
      "memory usage: 4.9+ MB\n",
      "None\n"
     ]
    }
   ],
   "source": [
    "# Load Hillstrom dataset\n",
    "def load_hillstrom():\n",
    "    dataset = fetch_hillstrom(target_col='visit')\n",
    "    df = dataset.data\n",
    "    # Segment has 3 options, womens email, mens email and no email, so we can create 'treatment' by choosing one of the two treatments here\n",
    "    df['segment'] = dataset.treatment\n",
    "    # There are 3 outcomes, visit, conversion and spend, we can choose one of them as our target\n",
    "    df['visit'] = dataset.target\n",
    "    print(\"Are there any null values in this dataframe?\\n\")\n",
    "    print(df.isna().sum())\n",
    "    print(\"\\n\\n\\n\")\n",
    "    print(\"What does the dataframe look like? What datatypes are the features?\\n\")\n",
    "    print(df.info())\n",
    "    return df\n",
    "\n",
    "df = load_hillstrom()"
   ]
  },
  {
   "cell_type": "markdown",
   "metadata": {},
   "source": [
    "## Explore Data"
   ]
  },
  {
   "cell_type": "code",
   "execution_count": 3,
   "metadata": {},
   "outputs": [
    {
     "data": {
      "text/plain": [
       "segment\n",
       "Womens E-Mail    21387\n",
       "Mens E-Mail      21307\n",
       "No E-Mail        21306\n",
       "Name: count, dtype: int64"
      ]
     },
     "execution_count": 3,
     "metadata": {},
     "output_type": "execute_result"
    }
   ],
   "source": [
    "# The treatment\n",
    "df['segment'].value_counts()"
   ]
  },
  {
   "cell_type": "code",
   "execution_count": 4,
   "metadata": {},
   "outputs": [
    {
     "data": {
      "text/plain": [
       "treatment\n",
       "1    0.500012\n",
       "0    0.499988\n",
       "Name: proportion, dtype: float64"
      ]
     },
     "execution_count": 4,
     "metadata": {},
     "output_type": "execute_result"
    }
   ],
   "source": [
    "# Let's just use men's email first and create a treatment variable to 1/0 the treatment/control\n",
    "df = df.loc[df['segment'].isin(['Mens E-Mail','No E-Mail'])]\n",
    "df['treatment'] = df['segment'].map({'Mens E-Mail':1,'No E-Mail':0})\n",
    "df['treatment'].value_counts(normalize=True)"
   ]
  },
  {
   "cell_type": "code",
   "execution_count": 5,
   "metadata": {},
   "outputs": [
    {
     "data": {
      "text/plain": [
       "target\n",
       "0    36457\n",
       "1     6156\n",
       "Name: count, dtype: int64"
      ]
     },
     "execution_count": 5,
     "metadata": {},
     "output_type": "execute_result"
    }
   ],
   "source": [
    "# This dataset has visit, conversion, and revenue as the target variables, we are going to use visit as the target variable\n",
    "df['target'] = df['visit'].copy()\n",
    "df['target'].value_counts()"
   ]
  },
  {
   "cell_type": "code",
   "execution_count": 6,
   "metadata": {},
   "outputs": [
    {
     "data": {
      "text/plain": [
       "mens\n",
       "1    23526\n",
       "0    19087\n",
       "Name: count, dtype: int64"
      ]
     },
     "execution_count": 6,
     "metadata": {},
     "output_type": "execute_result"
    }
   ],
   "source": [
    "# Customer purchased mens merchandise in the past year\n",
    "df['mens'].value_counts()"
   ]
  },
  {
   "cell_type": "code",
   "execution_count": 7,
   "metadata": {},
   "outputs": [
    {
     "data": {
      "text/plain": [
       "womens\n",
       "1    23417\n",
       "0    19196\n",
       "Name: count, dtype: int64"
      ]
     },
     "execution_count": 7,
     "metadata": {},
     "output_type": "execute_result"
    }
   ],
   "source": [
    "# Customer purchased womens merchandise in the past year\n",
    "df['womens'].value_counts()"
   ]
  },
  {
   "cell_type": "code",
   "execution_count": 8,
   "metadata": {},
   "outputs": [
    {
     "data": {
      "text/plain": [
       "mens  womens\n",
       "0     1         19087\n",
       "1     0         19196\n",
       "      1          4330\n",
       "dtype: int64"
      ]
     },
     "execution_count": 8,
     "metadata": {},
     "output_type": "execute_result"
    }
   ],
   "source": [
    "# Only a few customers purchased from both mens and womens merch in the past year\n",
    "df.groupby(['mens','womens']).size()"
   ]
  },
  {
   "cell_type": "code",
   "execution_count": 9,
   "metadata": {},
   "outputs": [
    {
     "data": {
      "text/plain": [
       "history_segment\n",
       "1) $0 - $100        15336\n",
       "2) $100 - $200       9527\n",
       "3) $200 - $350       8134\n",
       "4) $350 - $500       4221\n",
       "5) $500 - $750       3249\n",
       "6) $750 - $1,000     1266\n",
       "7) $1,000 +           880\n",
       "Name: count, dtype: int64"
      ]
     },
     "execution_count": 9,
     "metadata": {},
     "output_type": "execute_result"
    }
   ],
   "source": [
    "# segments for TTM spend\n",
    "df['history_segment'].value_counts()"
   ]
  },
  {
   "cell_type": "code",
   "execution_count": 10,
   "metadata": {},
   "outputs": [
    {
     "data": {
      "text/plain": [
       "count    42613.000000\n",
       "mean       241.859315\n",
       "std        256.574723\n",
       "min         29.990000\n",
       "25%         64.500000\n",
       "50%        157.000000\n",
       "75%        325.210000\n",
       "max       3345.930000\n",
       "Name: history, dtype: float64"
      ]
     },
     "execution_count": 10,
     "metadata": {},
     "output_type": "execute_result"
    }
   ],
   "source": [
    "# Actual TTM spend\n",
    "df['history'].describe()"
   ]
  },
  {
   "cell_type": "code",
   "execution_count": 11,
   "metadata": {},
   "outputs": [
    {
     "data": {
      "text/plain": [
       "recency\n",
       "1     5934\n",
       "2     5074\n",
       "10    5022\n",
       "9     4330\n",
       "3     3899\n",
       "4     3406\n",
       "6     3048\n",
       "5     2985\n",
       "7     2720\n",
       "8     2337\n",
       "11    2316\n",
       "12    1542\n",
       "Name: count, dtype: int64"
      ]
     },
     "execution_count": 11,
     "metadata": {},
     "output_type": "execute_result"
    }
   ],
   "source": [
    "# Months since last purchase\n",
    "df['recency'].value_counts()"
   ]
  },
  {
   "cell_type": "code",
   "execution_count": 12,
   "metadata": {},
   "outputs": [
    {
     "data": {
      "text/plain": [
       "newbie\n",
       "1    21381\n",
       "0    21232\n",
       "Name: count, dtype: int64"
      ]
     },
     "execution_count": 12,
     "metadata": {},
     "output_type": "execute_result"
    }
   ],
   "source": [
    "# New custome in past year\n",
    "df['newbie'].value_counts()"
   ]
  },
  {
   "cell_type": "code",
   "execution_count": 13,
   "metadata": {},
   "outputs": [
    {
     "data": {
      "text/plain": [
       "channel\n",
       "Web             18863\n",
       "Phone           18567\n",
       "Multichannel     5183\n",
       "Name: count, dtype: int64"
      ]
     },
     "execution_count": 13,
     "metadata": {},
     "output_type": "execute_result"
    }
   ],
   "source": [
    "# TTM purchase channels - must be an old dataset given the phone count\n",
    "df['channel'].value_counts()"
   ]
  },
  {
   "cell_type": "code",
   "execution_count": 14,
   "metadata": {},
   "outputs": [
    {
     "data": {
      "text/plain": [
       "zip_code\n",
       "Surburban    19126\n",
       "Urban        17105\n",
       "Rural         6382\n",
       "Name: count, dtype: int64"
      ]
     },
     "execution_count": 14,
     "metadata": {},
     "output_type": "execute_result"
    }
   ],
   "source": [
    "# Classifies urban rural and suburban\n",
    "df['zip_code'].value_counts()"
   ]
  },
  {
   "cell_type": "code",
   "execution_count": 15,
   "metadata": {},
   "outputs": [],
   "source": [
    "# Binarize the zip code and channel variables\n",
    "df = pd.get_dummies(df, columns=['zip_code'], drop_first=True, dtype=int)  # Encode categorical variable\n",
    "df = pd.get_dummies(df, columns=['channel'], drop_first=True, dtype=int)  # Encode categorical variable\n",
    "df = df.drop(columns=['history_segment','segment','visit']) # Drop unnecessary features"
   ]
  },
  {
   "cell_type": "code",
   "execution_count": 16,
   "metadata": {},
   "outputs": [
    {
     "data": {
      "text/html": [
       "<div>\n",
       "<style scoped>\n",
       "    .dataframe tbody tr th:only-of-type {\n",
       "        vertical-align: middle;\n",
       "    }\n",
       "\n",
       "    .dataframe tbody tr th {\n",
       "        vertical-align: top;\n",
       "    }\n",
       "\n",
       "    .dataframe thead th {\n",
       "        text-align: right;\n",
       "    }\n",
       "</style>\n",
       "<table border=\"1\" class=\"dataframe\">\n",
       "  <thead>\n",
       "    <tr style=\"text-align: right;\">\n",
       "      <th></th>\n",
       "      <th>recency</th>\n",
       "      <th>history</th>\n",
       "      <th>mens</th>\n",
       "      <th>womens</th>\n",
       "      <th>newbie</th>\n",
       "      <th>treatment</th>\n",
       "      <th>target</th>\n",
       "      <th>zip_code_Surburban</th>\n",
       "      <th>zip_code_Urban</th>\n",
       "      <th>channel_Phone</th>\n",
       "      <th>channel_Web</th>\n",
       "    </tr>\n",
       "  </thead>\n",
       "  <tbody>\n",
       "    <tr>\n",
       "      <th>1</th>\n",
       "      <td>6</td>\n",
       "      <td>329.08</td>\n",
       "      <td>1</td>\n",
       "      <td>1</td>\n",
       "      <td>1</td>\n",
       "      <td>0</td>\n",
       "      <td>0</td>\n",
       "      <td>0</td>\n",
       "      <td>0</td>\n",
       "      <td>0</td>\n",
       "      <td>1</td>\n",
       "    </tr>\n",
       "    <tr>\n",
       "      <th>3</th>\n",
       "      <td>9</td>\n",
       "      <td>675.83</td>\n",
       "      <td>1</td>\n",
       "      <td>0</td>\n",
       "      <td>1</td>\n",
       "      <td>1</td>\n",
       "      <td>0</td>\n",
       "      <td>0</td>\n",
       "      <td>0</td>\n",
       "      <td>0</td>\n",
       "      <td>1</td>\n",
       "    </tr>\n",
       "    <tr>\n",
       "      <th>8</th>\n",
       "      <td>9</td>\n",
       "      <td>675.07</td>\n",
       "      <td>1</td>\n",
       "      <td>1</td>\n",
       "      <td>1</td>\n",
       "      <td>1</td>\n",
       "      <td>0</td>\n",
       "      <td>0</td>\n",
       "      <td>0</td>\n",
       "      <td>1</td>\n",
       "      <td>0</td>\n",
       "    </tr>\n",
       "    <tr>\n",
       "      <th>13</th>\n",
       "      <td>2</td>\n",
       "      <td>101.64</td>\n",
       "      <td>0</td>\n",
       "      <td>1</td>\n",
       "      <td>0</td>\n",
       "      <td>1</td>\n",
       "      <td>1</td>\n",
       "      <td>0</td>\n",
       "      <td>1</td>\n",
       "      <td>0</td>\n",
       "      <td>1</td>\n",
       "    </tr>\n",
       "    <tr>\n",
       "      <th>14</th>\n",
       "      <td>4</td>\n",
       "      <td>241.42</td>\n",
       "      <td>0</td>\n",
       "      <td>1</td>\n",
       "      <td>1</td>\n",
       "      <td>0</td>\n",
       "      <td>0</td>\n",
       "      <td>0</td>\n",
       "      <td>0</td>\n",
       "      <td>0</td>\n",
       "      <td>0</td>\n",
       "    </tr>\n",
       "  </tbody>\n",
       "</table>\n",
       "</div>"
      ],
      "text/plain": [
       "    recency  history  mens  womens  newbie  treatment  target  \\\n",
       "1         6   329.08     1       1       1          0       0   \n",
       "3         9   675.83     1       0       1          1       0   \n",
       "8         9   675.07     1       1       1          1       0   \n",
       "13        2   101.64     0       1       0          1       1   \n",
       "14        4   241.42     0       1       1          0       0   \n",
       "\n",
       "    zip_code_Surburban  zip_code_Urban  channel_Phone  channel_Web  \n",
       "1                    0               0              0            1  \n",
       "3                    0               0              0            1  \n",
       "8                    0               0              1            0  \n",
       "13                   0               1              0            1  \n",
       "14                   0               0              0            0  "
      ]
     },
     "execution_count": 16,
     "metadata": {},
     "output_type": "execute_result"
    }
   ],
   "source": [
    "# One grand view of our final dataset! Looks ready for modeling.\n",
    "df.head()"
   ]
  },
  {
   "cell_type": "code",
   "execution_count": 17,
   "metadata": {},
   "outputs": [
    {
     "data": {
      "text/html": [
       "<div>\n",
       "<style scoped>\n",
       "    .dataframe tbody tr th:only-of-type {\n",
       "        vertical-align: middle;\n",
       "    }\n",
       "\n",
       "    .dataframe tbody tr th {\n",
       "        vertical-align: top;\n",
       "    }\n",
       "\n",
       "    .dataframe thead th {\n",
       "        text-align: right;\n",
       "    }\n",
       "</style>\n",
       "<table border=\"1\" class=\"dataframe\">\n",
       "  <thead>\n",
       "    <tr style=\"text-align: right;\">\n",
       "      <th></th>\n",
       "      <th>recency</th>\n",
       "      <th>history</th>\n",
       "      <th>mens</th>\n",
       "      <th>womens</th>\n",
       "      <th>newbie</th>\n",
       "      <th>target</th>\n",
       "      <th>zip_code_Surburban</th>\n",
       "      <th>zip_code_Urban</th>\n",
       "      <th>channel_Phone</th>\n",
       "      <th>channel_Web</th>\n",
       "    </tr>\n",
       "    <tr>\n",
       "      <th>treatment</th>\n",
       "      <th></th>\n",
       "      <th></th>\n",
       "      <th></th>\n",
       "      <th></th>\n",
       "      <th></th>\n",
       "      <th></th>\n",
       "      <th></th>\n",
       "      <th></th>\n",
       "      <th></th>\n",
       "      <th></th>\n",
       "    </tr>\n",
       "  </thead>\n",
       "  <tbody>\n",
       "    <tr>\n",
       "      <th>0</th>\n",
       "      <td>5.749695</td>\n",
       "      <td>240.882653</td>\n",
       "      <td>0.553224</td>\n",
       "      <td>0.547639</td>\n",
       "      <td>0.501971</td>\n",
       "      <td>0.106167</td>\n",
       "      <td>0.451751</td>\n",
       "      <td>0.400920</td>\n",
       "      <td>0.437764</td>\n",
       "      <td>0.439923</td>\n",
       "    </tr>\n",
       "    <tr>\n",
       "      <th>1</th>\n",
       "      <td>5.773642</td>\n",
       "      <td>242.835931</td>\n",
       "      <td>0.550946</td>\n",
       "      <td>0.551415</td>\n",
       "      <td>0.501525</td>\n",
       "      <td>0.182757</td>\n",
       "      <td>0.445910</td>\n",
       "      <td>0.401887</td>\n",
       "      <td>0.433660</td>\n",
       "      <td>0.445394</td>\n",
       "    </tr>\n",
       "  </tbody>\n",
       "</table>\n",
       "</div>"
      ],
      "text/plain": [
       "            recency     history      mens    womens    newbie    target  \\\n",
       "treatment                                                                 \n",
       "0          5.749695  240.882653  0.553224  0.547639  0.501971  0.106167   \n",
       "1          5.773642  242.835931  0.550946  0.551415  0.501525  0.182757   \n",
       "\n",
       "           zip_code_Surburban  zip_code_Urban  channel_Phone  channel_Web  \n",
       "treatment                                                                  \n",
       "0                    0.451751        0.400920       0.437764     0.439923  \n",
       "1                    0.445910        0.401887       0.433660     0.445394  "
      ]
     },
     "execution_count": 17,
     "metadata": {},
     "output_type": "execute_result"
    }
   ],
   "source": [
    "# It appears everything is just about equal in terms of the treatment group and the control group for feature means, except the target which is ok\n",
    "df.groupby('treatment').mean()\n",
    "\n",
    "# Even if it wasn't, we could still run the model using the covariates as features, but would need to adjust for the imbalance in the treatment groups"
   ]
  },
  {
   "cell_type": "markdown",
   "metadata": {},
   "source": [
    "## Feature Engineering to improve model"
   ]
  },
  {
   "cell_type": "code",
   "execution_count": 51,
   "metadata": {},
   "outputs": [
    {
     "data": {
      "text/html": [
       "<div>\n",
       "<style scoped>\n",
       "    .dataframe tbody tr th:only-of-type {\n",
       "        vertical-align: middle;\n",
       "    }\n",
       "\n",
       "    .dataframe tbody tr th {\n",
       "        vertical-align: top;\n",
       "    }\n",
       "\n",
       "    .dataframe thead th {\n",
       "        text-align: right;\n",
       "    }\n",
       "</style>\n",
       "<table border=\"1\" class=\"dataframe\">\n",
       "  <thead>\n",
       "    <tr style=\"text-align: right;\">\n",
       "      <th></th>\n",
       "      <th>recency</th>\n",
       "      <th>history</th>\n",
       "      <th>mens</th>\n",
       "      <th>womens</th>\n",
       "      <th>newbie</th>\n",
       "      <th>treatment</th>\n",
       "      <th>target</th>\n",
       "      <th>zip_code_Surburban</th>\n",
       "      <th>zip_code_Urban</th>\n",
       "      <th>channel_Phone</th>\n",
       "      <th>channel_Web</th>\n",
       "    </tr>\n",
       "  </thead>\n",
       "  <tbody>\n",
       "    <tr>\n",
       "      <th>1</th>\n",
       "      <td>6</td>\n",
       "      <td>329.08</td>\n",
       "      <td>1</td>\n",
       "      <td>1</td>\n",
       "      <td>1</td>\n",
       "      <td>0</td>\n",
       "      <td>0</td>\n",
       "      <td>0</td>\n",
       "      <td>0</td>\n",
       "      <td>0</td>\n",
       "      <td>1</td>\n",
       "    </tr>\n",
       "    <tr>\n",
       "      <th>3</th>\n",
       "      <td>9</td>\n",
       "      <td>675.83</td>\n",
       "      <td>1</td>\n",
       "      <td>0</td>\n",
       "      <td>1</td>\n",
       "      <td>1</td>\n",
       "      <td>0</td>\n",
       "      <td>0</td>\n",
       "      <td>0</td>\n",
       "      <td>0</td>\n",
       "      <td>1</td>\n",
       "    </tr>\n",
       "    <tr>\n",
       "      <th>8</th>\n",
       "      <td>9</td>\n",
       "      <td>675.07</td>\n",
       "      <td>1</td>\n",
       "      <td>1</td>\n",
       "      <td>1</td>\n",
       "      <td>1</td>\n",
       "      <td>0</td>\n",
       "      <td>0</td>\n",
       "      <td>0</td>\n",
       "      <td>1</td>\n",
       "      <td>0</td>\n",
       "    </tr>\n",
       "    <tr>\n",
       "      <th>13</th>\n",
       "      <td>2</td>\n",
       "      <td>101.64</td>\n",
       "      <td>0</td>\n",
       "      <td>1</td>\n",
       "      <td>0</td>\n",
       "      <td>1</td>\n",
       "      <td>1</td>\n",
       "      <td>0</td>\n",
       "      <td>1</td>\n",
       "      <td>0</td>\n",
       "      <td>1</td>\n",
       "    </tr>\n",
       "    <tr>\n",
       "      <th>14</th>\n",
       "      <td>4</td>\n",
       "      <td>241.42</td>\n",
       "      <td>0</td>\n",
       "      <td>1</td>\n",
       "      <td>1</td>\n",
       "      <td>0</td>\n",
       "      <td>0</td>\n",
       "      <td>0</td>\n",
       "      <td>0</td>\n",
       "      <td>0</td>\n",
       "      <td>0</td>\n",
       "    </tr>\n",
       "  </tbody>\n",
       "</table>\n",
       "</div>"
      ],
      "text/plain": [
       "    recency  history  mens  womens  newbie  treatment  target  \\\n",
       "1         6   329.08     1       1       1          0       0   \n",
       "3         9   675.83     1       0       1          1       0   \n",
       "8         9   675.07     1       1       1          1       0   \n",
       "13        2   101.64     0       1       0          1       1   \n",
       "14        4   241.42     0       1       1          0       0   \n",
       "\n",
       "    zip_code_Surburban  zip_code_Urban  channel_Phone  channel_Web  \n",
       "1                    0               0              0            1  \n",
       "3                    0               0              0            1  \n",
       "8                    0               0              1            0  \n",
       "13                   0               1              0            1  \n",
       "14                   0               0              0            0  "
      ]
     },
     "execution_count": 51,
     "metadata": {},
     "output_type": "execute_result"
    }
   ],
   "source": [
    "df.head()"
   ]
  },
  {
   "cell_type": "code",
   "execution_count": 56,
   "metadata": {},
   "outputs": [
    {
     "name": "stdout",
     "output_type": "stream",
     "text": [
      "                   recency\n",
      "treatment target          \n",
      "0         0       5.849874\n",
      "          1       4.906278\n",
      "1         0       5.906736\n",
      "          1       5.178480\n",
      "                     history\n",
      "treatment target            \n",
      "0         0       235.229693\n",
      "          1       288.475482\n",
      "1         0       234.395038\n",
      "          1       280.581505\n",
      "                      mens\n",
      "treatment target          \n",
      "0         0       0.548047\n",
      "          1       0.596817\n",
      "1         0       0.541951\n",
      "          1       0.591166\n",
      "                    womens\n",
      "treatment target          \n",
      "0         0       0.544423\n",
      "          1       0.574713\n",
      "1         0       0.543847\n",
      "          1       0.585259\n",
      "                    newbie\n",
      "treatment target          \n",
      "0         0       0.517328\n",
      "          1       0.372679\n",
      "1         0       0.519095\n",
      "          1       0.422958\n",
      "                  treatment\n",
      "treatment target           \n",
      "0         0             0.0\n",
      "          1             0.0\n",
      "1         0             1.0\n",
      "          1             1.0\n",
      "                  target\n",
      "treatment target        \n",
      "0         0          0.0\n",
      "          1          1.0\n",
      "1         0          0.0\n",
      "          1          1.0\n",
      "                  zip_code_Surburban\n",
      "treatment target                    \n",
      "0         0                 0.455367\n",
      "          1                 0.421309\n",
      "1         0                 0.451042\n",
      "          1                 0.422958\n",
      "                  zip_code_Urban\n",
      "treatment target                \n",
      "0         0             0.405114\n",
      "          1             0.365606\n",
      "1         0             0.404985\n",
      "          1             0.388033\n",
      "                  channel_Phone\n",
      "treatment target               \n",
      "0         0            0.447070\n",
      "          1            0.359416\n",
      "1         0            0.444266\n",
      "          1            0.386235\n",
      "                  channel_Web\n",
      "treatment target             \n",
      "0         0          0.433680\n",
      "          1          0.492485\n",
      "1         0          0.439040\n",
      "          1          0.473806\n"
     ]
    }
   ],
   "source": [
    "for i in df.columns.to_list():\n",
    "    print(df.groupby(['treatment','target']).agg({i:'mean'}))"
   ]
  },
  {
   "cell_type": "markdown",
   "metadata": {},
   "source": [
    "## Split Train Test Treatment"
   ]
  },
  {
   "cell_type": "code",
   "execution_count": 18,
   "metadata": {},
   "outputs": [],
   "source": [
    "# Split data into train/test\n",
    "def split_data(df):\n",
    "    X = df.drop(columns=['treatment', 'target'])\n",
    "    y = df['target']\n",
    "    treatment = df['treatment']\n",
    "    return train_test_split(X, y, treatment, test_size=0.3, random_state=42)\n",
    "\n",
    "X_train, X_test, y_train, y_test, t_train, t_test = split_data(df)"
   ]
  },
  {
   "cell_type": "markdown",
   "metadata": {},
   "source": [
    "## Run Two-Model and Single-Model Approaches"
   ]
  },
  {
   "cell_type": "code",
   "execution_count": 19,
   "metadata": {},
   "outputs": [],
   "source": [
    "# Model Optimization with Optuna\n",
    "def optimize_model(trial, X, y, model_type):\n",
    "    # Set the hyperparameters to optimize and the ranges for xgboost\n",
    "    if model_type == 'xgboost':\n",
    "        params = {\n",
    "            'n_estimators': trial.suggest_int('n_estimators', 50, 300),\n",
    "            'max_depth': trial.suggest_int('max_depth', 3, 10),\n",
    "            'learning_rate': trial.suggest_float('learning_rate', 0.01, 0.3, log=True),\n",
    "            'subsample': trial.suggest_float('subsample', 0.6, 1.0),\n",
    "            'colsample_bytree': trial.suggest_float('colsample_bytree', 0.6, 1.0),\n",
    "            'gamma': trial.suggest_float('gamma', 0, 5),\n",
    "        }\n",
    "        model = XGBClassifier(**params, eval_metric='logloss')\n",
    "        # Even though the eval metric for xgboost is logloss, we are evaluating the hyperparameters on maximizing AUC\n",
    "    # Set the hyperparameters to optimize the ranges for random forest\n",
    "    elif model_type == 'random_forest':\n",
    "        params = {\n",
    "            'n_estimators': trial.suggest_int('n_estimators', 50, 300),\n",
    "            'max_depth': trial.suggest_int('max_depth', 3, 20),\n",
    "            'min_samples_split': trial.suggest_int('min_samples_split', 2, 10),\n",
    "            'min_samples_leaf': trial.suggest_int('min_samples_leaf', 1, 10),\n",
    "            'max_features': trial.suggest_float('max_features', 0.6, 1.0),\n",
    "        }\n",
    "        model = RandomForestClassifier(**params, random_state=42)\n",
    "    else:\n",
    "        raise ValueError(\"Unsupported model type\")\n",
    "\n",
    "    scores = cross_val_score(model, X, y, cv=3, scoring='roc_auc')\n",
    "    return np.mean(scores)"
   ]
  },
  {
   "cell_type": "code",
   "execution_count": 20,
   "metadata": {},
   "outputs": [],
   "source": [
    "# Run Optuna for Both Models\n",
    "def run_optuna(X, y, model_type, model_seg, n_trials=50):\n",
    "    # Create a study object to maximize the AUC\n",
    "    study = optuna.create_study(direction='maximize')\n",
    "    # optimize the study based on the input parameters\n",
    "    study.optimize(lambda trial: optimize_model(trial, X, y, model_type), n_trials=n_trials)\n",
    "    print(f\"Best parameters for {model_type} for {model_seg}: {study.best_params}\")\n",
    "    return study.best_params"
   ]
  },
  {
   "cell_type": "code",
   "execution_count": 21,
   "metadata": {},
   "outputs": [],
   "source": [
    "# Train and Evaluate Models\n",
    "def train_and_evaluate(X_train, X_test, y_train, y_test, params, model_type, model_seg):\n",
    "    # We'll look at xgboost and random forest, this is to train the final mdoel after optuna works it's magic\n",
    "    if model_type == 'xgboost':\n",
    "        model = XGBClassifier(**params,  eval_metric='logloss')\n",
    "    elif model_type == 'random_forest':\n",
    "        model = RandomForestClassifier(**params, random_state=42)\n",
    "    else:\n",
    "        raise ValueError(\"Unsupported model type\")\n",
    "\n",
    "    # Fit the model and predict probabilities on the test dataset\n",
    "    model.fit(X_train, y_train)\n",
    "    y_pred = model.predict_proba(X_test)[:, 1]\n",
    "\n",
    "    # Grab the AUC & LogLoss metrics for the best model\n",
    "    auc = roc_auc_score(y_test, y_pred)\n",
    "    logloss = log_loss(y_test, y_pred)\n",
    "    print(f\"{model_type} AUC for {model_seg}: {auc:.4f}\\n{model_type} Log Loss for {model_seg}: {logloss:.4f}\")\n",
    "    return model,y_pred"
   ]
  },
  {
   "cell_type": "code",
   "execution_count": 22,
   "metadata": {},
   "outputs": [],
   "source": [
    "# Optimize and Train Separate Models for Two-Model Approach\n",
    "def two_model_approach_with_optuna(X_train, X_test, y_train, y_test, t_train):\n",
    "    \n",
    "    # Use function run_optuna to optimize the treatment model for xgboost and random forest adn return the optimal hyperparameters\n",
    "\n",
    "    # Optimize treatment model for xgboost and random forest\n",
    "    X_treatment = X_train[t_train == 1]\n",
    "    y_treatment = y_train[t_train == 1]\n",
    "    params_treatment_xgboost = run_optuna(X_treatment, y_treatment, 'xgboost','treatment')\n",
    "    params_treatment_randomforest = run_optuna(X_treatment, y_treatment, 'random_forest','treatment')\n",
    "\n",
    "    # Optimize control model for xgboost and random forest\n",
    "    X_control = X_train[t_train == 0]\n",
    "    y_control = y_train[t_train == 0]\n",
    "    params_control_xgboost = run_optuna(X_control, y_control, 'xgboost','control')\n",
    "    params_control_randomforest = run_optuna(X_control, y_control, 'random_forest','control')\n",
    "\n",
    "\n",
    "    # Optimize single model for xgboost and random forest\n",
    "    X_single_train = X_train.copy()\n",
    "    X_single_train['treatment'] = t_train\n",
    "    X_single_test_1 = X_test.copy()\n",
    "    X_single_test_1['treatment'] = 1\n",
    "    X_single_test_0 = X_test.copy()\n",
    "    X_single_test_0['treatment'] = 0\n",
    "    params_single_xgboost = run_optuna(X_single_train, y_train, 'xgboost','single')\n",
    "    params_single_randomforest = run_optuna(X_single_train, y_train, 'random_forest','single')\n",
    "\n",
    "    # Train final models using function train_and_evaluate\n",
    "    model_treatment_xgboost,preds_treatment_xgboost = train_and_evaluate(X_treatment, X_test, y_treatment, y_test, params_treatment_xgboost, 'xgboost','treatment')\n",
    "    model_treatment_randomforest,preds_treatment_randomforest = train_and_evaluate(X_treatment, X_test, y_treatment, y_test, params_treatment_randomforest, 'random_forest','treatment')\n",
    "    model_control_xgboost,preds_control_xgboost = train_and_evaluate(X_control, X_test, y_control, y_test, params_control_xgboost, 'xgboost','control')\n",
    "    model_control_randomforest,preds_control_randomforest = train_and_evaluate(X_control, X_test, y_control, y_test, params_control_randomforest, 'random_forest','control')\n",
    "    model_single_1_xgboost,preds_single_1_xgboost = train_and_evaluate(X_single_train, X_single_test_1, y_train, y_test, params_single_xgboost, 'xgboost','single_1')\n",
    "    model_single_1_randomforest,preds_single_1_randomforest = train_and_evaluate(X_single_train, X_single_test_1, y_train, y_test, params_single_randomforest, 'random_forest','single_1')\n",
    "    model_single_0_xgboost,preds_single_0_xgboost = train_and_evaluate(X_single_train, X_single_test_0, y_train, y_test, params_single_xgboost, 'xgboost','single_0')\n",
    "    model_single_0_randomforest,preds_single_0_randomforest = train_and_evaluate(X_single_train, X_single_test_0, y_train, y_test, params_single_randomforest, 'random_forest','single_0')\n",
    "\n",
    "    return model_treatment_xgboost, preds_treatment_xgboost, model_treatment_randomforest, preds_treatment_randomforest, model_control_xgboost, preds_control_xgboost, model_control_randomforest, preds_control_randomforest, model_single_1_xgboost, preds_single_1_xgboost, model_single_1_randomforest, preds_single_1_randomforest, model_single_0_xgboost, preds_single_0_xgboost, model_single_0_randomforest, preds_single_0_randomforest"
   ]
  },
  {
   "cell_type": "code",
   "execution_count": 23,
   "metadata": {},
   "outputs": [
    {
     "name": "stderr",
     "output_type": "stream",
     "text": [
      "[I 2024-12-25 13:12:10,039] A new study created in memory with name: no-name-946e918b-4f6d-423f-a155-6ea6d7ae1d07\n"
     ]
    },
    {
     "name": "stderr",
     "output_type": "stream",
     "text": [
      "[I 2024-12-25 13:12:12,125] Trial 0 finished with value: 0.5791443541901439 and parameters: {'n_estimators': 113, 'max_depth': 10, 'learning_rate': 0.13205100009051454, 'subsample': 0.9301100898842714, 'colsample_bytree': 0.8965340160991835, 'gamma': 0.5521337510835472}. Best is trial 0 with value: 0.5791443541901439.\n",
      "[I 2024-12-25 13:12:12,734] Trial 1 finished with value: 0.6113616214806551 and parameters: {'n_estimators': 181, 'max_depth': 8, 'learning_rate': 0.026722963344520907, 'subsample': 0.7174897393629115, 'colsample_bytree': 0.6911736721621276, 'gamma': 2.6691471330547993}. Best is trial 1 with value: 0.6113616214806551.\n",
      "[I 2024-12-25 13:12:13,125] Trial 2 finished with value: 0.6116319547458193 and parameters: {'n_estimators': 80, 'max_depth': 6, 'learning_rate': 0.014873339925677794, 'subsample': 0.6043598377382912, 'colsample_bytree': 0.7034117800765782, 'gamma': 2.6644171599390742}. Best is trial 2 with value: 0.6116319547458193.\n",
      "[I 2024-12-25 13:12:14,077] Trial 3 finished with value: 0.582401310688716 and parameters: {'n_estimators': 285, 'max_depth': 4, 'learning_rate': 0.12967126722029737, 'subsample': 0.8021181428078885, 'colsample_bytree': 0.9063508551252352, 'gamma': 0.42696052010103014}. Best is trial 2 with value: 0.6116319547458193.\n",
      "[I 2024-12-25 13:12:14,385] Trial 4 finished with value: 0.6164227441000786 and parameters: {'n_estimators': 98, 'max_depth': 4, 'learning_rate': 0.09493252167707614, 'subsample': 0.667280328507497, 'colsample_bytree': 0.8424032996834885, 'gamma': 4.813677097522525}. Best is trial 4 with value: 0.6164227441000786.\n",
      "[I 2024-12-25 13:12:14,759] Trial 5 finished with value: 0.6107620355966448 and parameters: {'n_estimators': 68, 'max_depth': 7, 'learning_rate': 0.010894116025030461, 'subsample': 0.6430711803370445, 'colsample_bytree': 0.7418717319402856, 'gamma': 2.607636386378479}. Best is trial 4 with value: 0.6164227441000786.\n",
      "[I 2024-12-25 13:12:15,097] Trial 6 finished with value: 0.6130921766137266 and parameters: {'n_estimators': 80, 'max_depth': 8, 'learning_rate': 0.09355332988667903, 'subsample': 0.7360793519670811, 'colsample_bytree': 0.614747273558259, 'gamma': 3.0401410165076714}. Best is trial 4 with value: 0.6164227441000786.\n",
      "[I 2024-12-25 13:12:15,689] Trial 7 finished with value: 0.6147290013114411 and parameters: {'n_estimators': 198, 'max_depth': 3, 'learning_rate': 0.01754500944816457, 'subsample': 0.9151417055181582, 'colsample_bytree': 0.7477968020796376, 'gamma': 2.165856261501382}. Best is trial 4 with value: 0.6164227441000786.\n",
      "[I 2024-12-25 13:12:15,952] Trial 8 finished with value: 0.6126266210372354 and parameters: {'n_estimators': 67, 'max_depth': 10, 'learning_rate': 0.057448657382200466, 'subsample': 0.704062117313974, 'colsample_bytree': 0.7133848014689351, 'gamma': 4.504758158217456}. Best is trial 4 with value: 0.6164227441000786.\n",
      "[I 2024-12-25 13:12:16,603] Trial 9 finished with value: 0.6112438316915786 and parameters: {'n_estimators': 225, 'max_depth': 6, 'learning_rate': 0.03094964298539103, 'subsample': 0.9013601942505484, 'colsample_bytree': 0.9035560773868021, 'gamma': 3.558075756735677}. Best is trial 4 with value: 0.6164227441000786.\n",
      "[I 2024-12-25 13:12:16,959] Trial 10 finished with value: 0.6116889421027435 and parameters: {'n_estimators': 132, 'max_depth': 4, 'learning_rate': 0.28902227312169854, 'subsample': 0.8232217645725177, 'colsample_bytree': 0.9807423824517549, 'gamma': 4.916213615093641}. Best is trial 4 with value: 0.6164227441000786.\n",
      "[I 2024-12-25 13:12:17,495] Trial 11 finished with value: 0.6137490931865203 and parameters: {'n_estimators': 204, 'max_depth': 3, 'learning_rate': 0.0429333196298506, 'subsample': 0.9883146758546308, 'colsample_bytree': 0.8126949899329444, 'gamma': 1.5694055039203727}. Best is trial 4 with value: 0.6164227441000786.\n",
      "[I 2024-12-25 13:12:17,999] Trial 12 finished with value: 0.6128159022898871 and parameters: {'n_estimators': 141, 'max_depth': 3, 'learning_rate': 0.02118467548306549, 'subsample': 0.8729352842215607, 'colsample_bytree': 0.8038312264901917, 'gamma': 1.6065814535143716}. Best is trial 4 with value: 0.6164227441000786.\n",
      "[I 2024-12-25 13:12:18,622] Trial 13 finished with value: 0.6117242335822753 and parameters: {'n_estimators': 258, 'max_depth': 5, 'learning_rate': 0.06274413296803294, 'subsample': 0.9689176731790381, 'colsample_bytree': 0.8460016137766597, 'gamma': 3.7809093552040034}. Best is trial 4 with value: 0.6164227441000786.\n",
      "[I 2024-12-25 13:12:19,052] Trial 14 finished with value: 0.6065188466697925 and parameters: {'n_estimators': 166, 'max_depth': 4, 'learning_rate': 0.2783691624415351, 'subsample': 0.855151235046618, 'colsample_bytree': 0.7601105208345487, 'gamma': 1.6320735218996132}. Best is trial 4 with value: 0.6164227441000786.\n",
      "[I 2024-12-25 13:12:19,600] Trial 15 finished with value: 0.6161958056098903 and parameters: {'n_estimators': 238, 'max_depth': 3, 'learning_rate': 0.08860921486167038, 'subsample': 0.7599813149715551, 'colsample_bytree': 0.6441801265280591, 'gamma': 3.9110050369814413}. Best is trial 4 with value: 0.6164227441000786.\n",
      "[I 2024-12-25 13:12:20,130] Trial 16 finished with value: 0.6167944188048051 and parameters: {'n_estimators': 246, 'max_depth': 5, 'learning_rate': 0.1632340426450585, 'subsample': 0.6573792593204465, 'colsample_bytree': 0.6102546428041986, 'gamma': 4.222857119648289}. Best is trial 16 with value: 0.6167944188048051.\n",
      "[I 2024-12-25 13:12:20,718] Trial 17 finished with value: 0.6138289873964394 and parameters: {'n_estimators': 277, 'max_depth': 5, 'learning_rate': 0.18251373191084616, 'subsample': 0.6597070228184906, 'colsample_bytree': 0.9749705038506086, 'gamma': 4.453001664398134}. Best is trial 16 with value: 0.6167944188048051.\n",
      "[I 2024-12-25 13:12:21,172] Trial 18 finished with value: 0.6122981982436019 and parameters: {'n_estimators': 110, 'max_depth': 5, 'learning_rate': 0.18070021823086108, 'subsample': 0.6662938519993915, 'colsample_bytree': 0.8628988209636438, 'gamma': 4.738421663202919}. Best is trial 16 with value: 0.6167944188048051.\n",
      "[I 2024-12-25 13:12:21,662] Trial 19 finished with value: 0.6144831985939839 and parameters: {'n_estimators': 154, 'max_depth': 7, 'learning_rate': 0.09610752646827403, 'subsample': 0.6018120475280945, 'colsample_bytree': 0.6553423812122045, 'gamma': 4.175438045548742}. Best is trial 16 with value: 0.6167944188048051.\n",
      "[I 2024-12-25 13:12:21,935] Trial 20 finished with value: 0.6081851080622326 and parameters: {'n_estimators': 50, 'max_depth': 5, 'learning_rate': 0.20013378401231838, 'subsample': 0.7698326086573841, 'colsample_bytree': 0.7816890075504015, 'gamma': 3.311331892425506}. Best is trial 16 with value: 0.6167944188048051.\n",
      "[I 2024-12-25 13:12:22,557] Trial 21 finished with value: 0.6154083846490117 and parameters: {'n_estimators': 243, 'max_depth': 4, 'learning_rate': 0.09458950542698037, 'subsample': 0.7543360379452214, 'colsample_bytree': 0.6119863893149415, 'gamma': 3.828003753086122}. Best is trial 16 with value: 0.6167944188048051.\n",
      "[I 2024-12-25 13:12:23,097] Trial 22 finished with value: 0.6154086760203477 and parameters: {'n_estimators': 227, 'max_depth': 3, 'learning_rate': 0.07571241777705187, 'subsample': 0.6901710375833915, 'colsample_bytree': 0.6643064924901151, 'gamma': 4.1626857045926355}. Best is trial 16 with value: 0.6167944188048051.\n",
      "[I 2024-12-25 13:12:23,663] Trial 23 finished with value: 0.6168224665751176 and parameters: {'n_estimators': 258, 'max_depth': 4, 'learning_rate': 0.13764396360415318, 'subsample': 0.6348576674371512, 'colsample_bytree': 0.6347090841976748, 'gamma': 4.997017043879158}. Best is trial 23 with value: 0.6168224665751176.\n",
      "[I 2024-12-25 13:12:24,285] Trial 24 finished with value: 0.6161830116592042 and parameters: {'n_estimators': 299, 'max_depth': 6, 'learning_rate': 0.13061580444381937, 'subsample': 0.6321095598308394, 'colsample_bytree': 0.605656171502, 'gamma': 4.947883199983762}. Best is trial 23 with value: 0.6168224665751176.\n",
      "[I 2024-12-25 13:12:24,963] Trial 25 finished with value: 0.6146300435305817 and parameters: {'n_estimators': 262, 'max_depth': 4, 'learning_rate': 0.04451017690210725, 'subsample': 0.6907622247494717, 'colsample_bytree': 0.8378351522867411, 'gamma': 4.4593903063240425}. Best is trial 23 with value: 0.6168224665751176.\n",
      "[I 2024-12-25 13:12:25,453] Trial 26 finished with value: 0.6160325124119591 and parameters: {'n_estimators': 205, 'max_depth': 5, 'learning_rate': 0.1451951373462067, 'subsample': 0.6355166713127379, 'colsample_bytree': 0.6745295873925229, 'gamma': 4.92298738284501}. Best is trial 23 with value: 0.6168224665751176.\n",
      "[I 2024-12-25 13:12:26,013] Trial 27 finished with value: 0.6162781010705775 and parameters: {'n_estimators': 260, 'max_depth': 4, 'learning_rate': 0.21864210382510288, 'subsample': 0.6709554128907602, 'colsample_bytree': 0.6352617531574156, 'gamma': 4.147089435963775}. Best is trial 23 with value: 0.6168224665751176.\n",
      "[I 2024-12-25 13:12:26,622] Trial 28 finished with value: 0.6099829148609331 and parameters: {'n_estimators': 179, 'max_depth': 6, 'learning_rate': 0.1521281149286872, 'subsample': 0.6171296365299288, 'colsample_bytree': 0.9341797146799655, 'gamma': 3.2363666469883756}. Best is trial 23 with value: 0.6168224665751176.\n",
      "[I 2024-12-25 13:12:27,143] Trial 29 finished with value: 0.6007791443152518 and parameters: {'n_estimators': 103, 'max_depth': 5, 'learning_rate': 0.11468889200299952, 'subsample': 0.7254121067619669, 'colsample_bytree': 0.7207923897372137, 'gamma': 1.0833858647488497}. Best is trial 23 with value: 0.6168224665751176.\n",
      "[I 2024-12-25 13:12:27,676] Trial 30 finished with value: 0.6147257012119568 and parameters: {'n_estimators': 218, 'max_depth': 4, 'learning_rate': 0.07126647893507584, 'subsample': 0.6728102142349452, 'colsample_bytree': 0.8736349477003069, 'gamma': 4.55272808260947}. Best is trial 23 with value: 0.6168224665751176.\n",
      "[I 2024-12-25 13:12:28,238] Trial 31 finished with value: 0.6157544776801338 and parameters: {'n_estimators': 255, 'max_depth': 4, 'learning_rate': 0.2313544379498481, 'subsample': 0.6714521298775666, 'colsample_bytree': 0.6302486845939249, 'gamma': 4.16092515762623}. Best is trial 23 with value: 0.6168224665751176.\n",
      "[I 2024-12-25 13:12:29,285] Trial 32 finished with value: 0.5742775723608536 and parameters: {'n_estimators': 273, 'max_depth': 4, 'learning_rate': 0.2337533979239819, 'subsample': 0.6420484726433126, 'colsample_bytree': 0.6779104644766536, 'gamma': 0.06397601155913302}. Best is trial 23 with value: 0.6168224665751176.\n",
      "[I 2024-12-25 13:12:29,988] Trial 33 finished with value: 0.6111221772366087 and parameters: {'n_estimators': 293, 'max_depth': 5, 'learning_rate': 0.165289399210815, 'subsample': 0.705868551587113, 'colsample_bytree': 0.636567989727924, 'gamma': 4.231920715068178}. Best is trial 23 with value: 0.6168224665751176.\n",
      "[I 2024-12-25 13:12:30,622] Trial 34 finished with value: 0.6120418837491086 and parameters: {'n_estimators': 241, 'max_depth': 10, 'learning_rate': 0.11494277441858904, 'subsample': 0.624610408731295, 'colsample_bytree': 0.6838560230087642, 'gamma': 3.5549094633903495}. Best is trial 23 with value: 0.6168224665751176.\n",
      "[I 2024-12-25 13:12:31,217] Trial 35 finished with value: 0.6152335560495272 and parameters: {'n_estimators': 274, 'max_depth': 3, 'learning_rate': 0.22084123214126097, 'subsample': 0.6603109156360927, 'colsample_bytree': 0.6287235794279787, 'gamma': 4.701755014470807}. Best is trial 23 with value: 0.6168224665751176.\n",
      "[I 2024-12-25 13:12:31,869] Trial 36 finished with value: 0.6072136559117779 and parameters: {'n_estimators': 251, 'max_depth': 6, 'learning_rate': 0.1223945941220527, 'subsample': 0.7334824904815708, 'colsample_bytree': 0.7016128706914706, 'gamma': 2.306462735329378}. Best is trial 23 with value: 0.6168224665751176.\n",
      "[I 2024-12-25 13:12:32,423] Trial 37 finished with value: 0.610932220166474 and parameters: {'n_estimators': 190, 'max_depth': 9, 'learning_rate': 0.15251629073683093, 'subsample': 0.7847488901110035, 'colsample_bytree': 0.6005572621034496, 'gamma': 2.8233527663036355}. Best is trial 23 with value: 0.6168224665751176.\n",
      "[I 2024-12-25 13:12:32,960] Trial 38 finished with value: 0.6107662540879103 and parameters: {'n_estimators': 215, 'max_depth': 4, 'learning_rate': 0.2586514305886129, 'subsample': 0.6931391597389926, 'colsample_bytree': 0.7734908865565832, 'gamma': 3.932250006920073}. Best is trial 23 with value: 0.6168224665751176.\n",
      "[I 2024-12-25 13:12:33,601] Trial 39 finished with value: 0.6150871249894115 and parameters: {'n_estimators': 288, 'max_depth': 7, 'learning_rate': 0.20472372782917522, 'subsample': 0.6053635549531865, 'colsample_bytree': 0.7316295978247611, 'gamma': 4.721151457145172}. Best is trial 23 with value: 0.6168224665751176.\n",
      "[I 2024-12-25 13:12:33,966] Trial 40 finished with value: 0.6144881837950699 and parameters: {'n_estimators': 95, 'max_depth': 5, 'learning_rate': 0.11196174497280191, 'subsample': 0.6501469353083904, 'colsample_bytree': 0.9327850490860037, 'gamma': 4.3638977333691775}. Best is trial 23 with value: 0.6168224665751176.\n",
      "[I 2024-12-25 13:12:34,639] Trial 41 finished with value: 0.6154365675894343 and parameters: {'n_estimators': 236, 'max_depth': 3, 'learning_rate': 0.09614680854092461, 'subsample': 0.75229895944752, 'colsample_bytree': 0.6481907576227531, 'gamma': 3.9267958744483056}. Best is trial 23 with value: 0.6168224665751176.\n",
      "[I 2024-12-25 13:12:35,278] Trial 42 finished with value: 0.615592364737827 and parameters: {'n_estimators': 268, 'max_depth': 3, 'learning_rate': 0.08068223981210686, 'subsample': 0.8118856371740304, 'colsample_bytree': 0.6445402460623326, 'gamma': 3.551128354749828}. Best is trial 23 with value: 0.6168224665751176.\n",
      "[I 2024-12-25 13:12:35,874] Trial 43 finished with value: 0.6149457670135495 and parameters: {'n_estimators': 237, 'max_depth': 3, 'learning_rate': 0.08728691458312177, 'subsample': 0.6803835914408211, 'colsample_bytree': 0.625224824090653, 'gamma': 4.643716617796133}. Best is trial 23 with value: 0.6168224665751176.\n",
      "[I 2024-12-25 13:12:36,387] Trial 44 finished with value: 0.6148494837777346 and parameters: {'n_estimators': 131, 'max_depth': 4, 'learning_rate': 0.0506084845524144, 'subsample': 0.7136846342429366, 'colsample_bytree': 0.6587801706546809, 'gamma': 4.004060058311023}. Best is trial 23 with value: 0.6168224665751176.\n",
      "[I 2024-12-25 13:12:37,190] Trial 45 finished with value: 0.6113842670209368 and parameters: {'n_estimators': 250, 'max_depth': 3, 'learning_rate': 0.010210461366914255, 'subsample': 0.7474848121615968, 'colsample_bytree': 0.8192540531041583, 'gamma': 4.973533985338612}. Best is trial 23 with value: 0.6168224665751176.\n",
      "[I 2024-12-25 13:12:37,804] Trial 46 finished with value: 0.6142787928718849 and parameters: {'n_estimators': 283, 'max_depth': 4, 'learning_rate': 0.14143645343499472, 'subsample': 0.8394680945757231, 'colsample_bytree': 0.6885355578856516, 'gamma': 3.3038863706624992}. Best is trial 23 with value: 0.6168224665751176.\n",
      "[I 2024-12-25 13:12:38,240] Trial 47 finished with value: 0.6160419325991433 and parameters: {'n_estimators': 161, 'max_depth': 3, 'learning_rate': 0.06423386231608963, 'subsample': 0.650808425418965, 'colsample_bytree': 0.6196451130754194, 'gamma': 3.7040271146429014}. Best is trial 23 with value: 0.6168224665751176.\n",
      "[I 2024-12-25 13:12:38,675] Trial 48 finished with value: 0.6149083499914748 and parameters: {'n_estimators': 190, 'max_depth': 4, 'learning_rate': 0.1750725379535849, 'subsample': 0.7786808953426558, 'colsample_bytree': 0.6994665005514561, 'gamma': 4.338789320230088}. Best is trial 23 with value: 0.6168224665751176.\n",
      "[I 2024-12-25 13:12:39,225] Trial 49 finished with value: 0.6165003145701334 and parameters: {'n_estimators': 226, 'max_depth': 5, 'learning_rate': 0.1069296751926288, 'subsample': 0.6185125350887392, 'colsample_bytree': 0.8878222037594878, 'gamma': 4.77432273060104}. Best is trial 23 with value: 0.6168224665751176.\n",
      "[I 2024-12-25 13:12:39,228] A new study created in memory with name: no-name-fbd0e2d1-d930-49f9-8c2a-4b0fa6d276b1\n"
     ]
    },
    {
     "name": "stdout",
     "output_type": "stream",
     "text": [
      "Best parameters for xgboost for treatment: {'n_estimators': 258, 'max_depth': 4, 'learning_rate': 0.13764396360415318, 'subsample': 0.6348576674371512, 'colsample_bytree': 0.6347090841976748, 'gamma': 4.997017043879158}\n"
     ]
    },
    {
     "name": "stderr",
     "output_type": "stream",
     "text": [
      "[I 2024-12-25 13:12:47,383] Trial 0 finished with value: 0.5836997911750474 and parameters: {'n_estimators': 256, 'max_depth': 17, 'min_samples_split': 2, 'min_samples_leaf': 10, 'max_features': 0.6183467918375942}. Best is trial 0 with value: 0.5836997911750474.\n",
      "[I 2024-12-25 13:12:48,969] Trial 1 finished with value: 0.5967157773897821 and parameters: {'n_estimators': 55, 'max_depth': 8, 'min_samples_split': 2, 'min_samples_leaf': 1, 'max_features': 0.6150816797895859}. Best is trial 1 with value: 0.5967157773897821.\n",
      "[I 2024-12-25 13:12:55,424] Trial 2 finished with value: 0.5655374321517578 and parameters: {'n_estimators': 114, 'max_depth': 14, 'min_samples_split': 4, 'min_samples_leaf': 1, 'max_features': 0.9864136237737671}. Best is trial 1 with value: 0.5967157773897821.\n",
      "[I 2024-12-25 13:13:00,414] Trial 3 finished with value: 0.5842207322825833 and parameters: {'n_estimators': 111, 'max_depth': 11, 'min_samples_split': 10, 'min_samples_leaf': 8, 'max_features': 0.9972725676826268}. Best is trial 1 with value: 0.5967157773897821.\n",
      "[I 2024-12-25 13:13:02,772] Trial 4 finished with value: 0.5788955501627462 and parameters: {'n_estimators': 54, 'max_depth': 20, 'min_samples_split': 5, 'min_samples_leaf': 9, 'max_features': 0.8562392599098205}. Best is trial 1 with value: 0.5967157773897821.\n",
      "[I 2024-12-25 13:13:09,281] Trial 5 finished with value: 0.6048805846253952 and parameters: {'n_estimators': 259, 'max_depth': 6, 'min_samples_split': 2, 'min_samples_leaf': 2, 'max_features': 0.7551612412279848}. Best is trial 5 with value: 0.6048805846253952.\n",
      "[I 2024-12-25 13:13:16,096] Trial 6 finished with value: 0.6011866225322208 and parameters: {'n_estimators': 234, 'max_depth': 7, 'min_samples_split': 10, 'min_samples_leaf': 10, 'max_features': 0.8006506853921985}. Best is trial 5 with value: 0.6048805846253952.\n",
      "[I 2024-12-25 13:13:26,148] Trial 7 finished with value: 0.5782447054537894 and parameters: {'n_estimators': 217, 'max_depth': 15, 'min_samples_split': 9, 'min_samples_leaf': 8, 'max_features': 0.9346831285455199}. Best is trial 5 with value: 0.6048805846253952.\n",
      "[I 2024-12-25 13:13:37,537] Trial 8 finished with value: 0.5781643191400155 and parameters: {'n_estimators': 246, 'max_depth': 15, 'min_samples_split': 2, 'min_samples_leaf': 8, 'max_features': 0.9533514615778217}. Best is trial 5 with value: 0.6048805846253952.\n",
      "[I 2024-12-25 13:13:44,559] Trial 9 finished with value: 0.570198092900318 and parameters: {'n_estimators': 180, 'max_depth': 13, 'min_samples_split': 5, 'min_samples_leaf': 3, 'max_features': 0.6928873566685698}. Best is trial 5 with value: 0.6048805846253952.\n",
      "[I 2024-12-25 13:13:49,119] Trial 10 finished with value: 0.6031900775863193 and parameters: {'n_estimators': 292, 'max_depth': 3, 'min_samples_split': 7, 'min_samples_leaf': 5, 'max_features': 0.7166865756319}. Best is trial 5 with value: 0.6048805846253952.\n",
      "[I 2024-12-25 13:13:53,792] Trial 11 finished with value: 0.6029274854030305 and parameters: {'n_estimators': 300, 'max_depth': 3, 'min_samples_split': 7, 'min_samples_leaf': 5, 'max_features': 0.721786199974192}. Best is trial 5 with value: 0.6048805846253952.\n",
      "[I 2024-12-25 13:13:58,584] Trial 12 finished with value: 0.6029274854030305 and parameters: {'n_estimators': 300, 'max_depth': 3, 'min_samples_split': 7, 'min_samples_leaf': 5, 'max_features': 0.7329933351703719}. Best is trial 5 with value: 0.6048805846253952.\n",
      "[I 2024-12-25 13:14:05,775] Trial 13 finished with value: 0.6045552942003831 and parameters: {'n_estimators': 271, 'max_depth': 6, 'min_samples_split': 8, 'min_samples_leaf': 3, 'max_features': 0.7837350575990771}. Best is trial 5 with value: 0.6048805846253952.\n",
      "[I 2024-12-25 13:14:11,554] Trial 14 finished with value: 0.6012978102925773 and parameters: {'n_estimators': 196, 'max_depth': 7, 'min_samples_split': 8, 'min_samples_leaf': 3, 'max_features': 0.815491932831992}. Best is trial 5 with value: 0.6048805846253952.\n",
      "[I 2024-12-25 13:14:22,369] Trial 15 finished with value: 0.5849821443119422 and parameters: {'n_estimators': 268, 'max_depth': 10, 'min_samples_split': 4, 'min_samples_leaf': 3, 'max_features': 0.884821032092625}. Best is trial 5 with value: 0.6048805846253952.\n",
      "[I 2024-12-25 13:14:25,701] Trial 16 finished with value: 0.6060091974966818 and parameters: {'n_estimators': 134, 'max_depth': 5, 'min_samples_split': 8, 'min_samples_leaf': 2, 'max_features': 0.7633909328658133}. Best is trial 16 with value: 0.6060091974966818.\n",
      "[I 2024-12-25 13:14:29,366] Trial 17 finished with value: 0.6058891692385535 and parameters: {'n_estimators': 144, 'max_depth': 5, 'min_samples_split': 6, 'min_samples_leaf': 2, 'max_features': 0.7566203953048348}. Best is trial 16 with value: 0.6060091974966818.\n",
      "[I 2024-12-25 13:14:34,635] Trial 18 finished with value: 0.5922676378387352 and parameters: {'n_estimators': 142, 'max_depth': 9, 'min_samples_split': 6, 'min_samples_leaf': 6, 'max_features': 0.6745599798811878}. Best is trial 16 with value: 0.6060091974966818.\n",
      "[I 2024-12-25 13:14:37,860] Trial 19 finished with value: 0.607056146204494 and parameters: {'n_estimators': 148, 'max_depth': 5, 'min_samples_split': 8, 'min_samples_leaf': 2, 'max_features': 0.6571461390138325}. Best is trial 19 with value: 0.607056146204494.\n",
      "[I 2024-12-25 13:14:39,977] Trial 20 finished with value: 0.6062764445889294 and parameters: {'n_estimators': 93, 'max_depth': 5, 'min_samples_split': 9, 'min_samples_leaf': 4, 'max_features': 0.6578203327243914}. Best is trial 19 with value: 0.607056146204494.\n",
      "[I 2024-12-25 13:14:42,125] Trial 21 finished with value: 0.6062764445889294 and parameters: {'n_estimators': 93, 'max_depth': 5, 'min_samples_split': 9, 'min_samples_leaf': 4, 'max_features': 0.6596190043248229}. Best is trial 19 with value: 0.607056146204494.\n",
      "[I 2024-12-25 13:14:44,022] Trial 22 finished with value: 0.6059329379330963 and parameters: {'n_estimators': 85, 'max_depth': 5, 'min_samples_split': 9, 'min_samples_leaf': 4, 'max_features': 0.6527063937599711}. Best is trial 19 with value: 0.607056146204494.\n",
      "[I 2024-12-25 13:14:46,441] Trial 23 finished with value: 0.5915794191950362 and parameters: {'n_estimators': 82, 'max_depth': 9, 'min_samples_split': 9, 'min_samples_leaf': 6, 'max_features': 0.6404404807241595}. Best is trial 19 with value: 0.607056146204494.\n",
      "[I 2024-12-25 13:14:48,251] Trial 24 finished with value: 0.6046866398882039 and parameters: {'n_estimators': 88, 'max_depth': 4, 'min_samples_split': 10, 'min_samples_leaf': 4, 'max_features': 0.6730758832843836}. Best is trial 19 with value: 0.607056146204494.\n",
      "[I 2024-12-25 13:14:53,745] Trial 25 finished with value: 0.6028283093637227 and parameters: {'n_estimators': 159, 'max_depth': 7, 'min_samples_split': 9, 'min_samples_leaf': 4, 'max_features': 0.6002408915843869}. Best is trial 19 with value: 0.607056146204494.\n",
      "[I 2024-12-25 13:14:58,764] Trial 26 finished with value: 0.5795489655067235 and parameters: {'n_estimators': 108, 'max_depth': 12, 'min_samples_split': 8, 'min_samples_leaf': 7, 'max_features': 0.6459557579298303}. Best is trial 19 with value: 0.607056146204494.\n",
      "[I 2024-12-25 13:15:03,506] Trial 27 finished with value: 0.5903901633885795 and parameters: {'n_estimators': 126, 'max_depth': 9, 'min_samples_split': 9, 'min_samples_leaf': 4, 'max_features': 0.6873645944352597}. Best is trial 19 with value: 0.607056146204494.\n",
      "[I 2024-12-25 13:15:07,284] Trial 28 finished with value: 0.6056791321156042 and parameters: {'n_estimators': 165, 'max_depth': 4, 'min_samples_split': 10, 'min_samples_leaf': 2, 'max_features': 0.7119674162014289}. Best is trial 19 with value: 0.607056146204494.\n",
      "[I 2024-12-25 13:15:10,353] Trial 29 finished with value: 0.5625561486612767 and parameters: {'n_estimators': 70, 'max_depth': 18, 'min_samples_split': 7, 'min_samples_leaf': 1, 'max_features': 0.6365852271233228}. Best is trial 19 with value: 0.607056146204494.\n",
      "[I 2024-12-25 13:15:12,801] Trial 30 finished with value: 0.6047446528647353 and parameters: {'n_estimators': 104, 'max_depth': 6, 'min_samples_split': 8, 'min_samples_leaf': 6, 'max_features': 0.6204442354322275}. Best is trial 19 with value: 0.607056146204494.\n",
      "[I 2024-12-25 13:15:15,725] Trial 31 finished with value: 0.6067249071041924 and parameters: {'n_estimators': 131, 'max_depth': 5, 'min_samples_split': 8, 'min_samples_leaf': 2, 'max_features': 0.6665371528585655}. Best is trial 19 with value: 0.607056146204494.\n",
      "[I 2024-12-25 13:15:20,418] Trial 32 finished with value: 0.597767142190961 and parameters: {'n_estimators': 154, 'max_depth': 8, 'min_samples_split': 9, 'min_samples_leaf': 1, 'max_features': 0.663563350219264}. Best is trial 19 with value: 0.607056146204494.\n",
      "[I 2024-12-25 13:15:22,458] Trial 33 finished with value: 0.6064696926318379 and parameters: {'n_estimators': 121, 'max_depth': 4, 'min_samples_split': 8, 'min_samples_leaf': 3, 'max_features': 0.603652306438588}. Best is trial 19 with value: 0.607056146204494.\n",
      "[I 2024-12-25 13:15:24,573] Trial 34 finished with value: 0.6065702695440544 and parameters: {'n_estimators': 123, 'max_depth': 4, 'min_samples_split': 7, 'min_samples_leaf': 2, 'max_features': 0.6065081494116099}. Best is trial 19 with value: 0.607056146204494.\n",
      "[I 2024-12-25 13:15:26,793] Trial 35 finished with value: 0.6066860351543923 and parameters: {'n_estimators': 126, 'max_depth': 4, 'min_samples_split': 7, 'min_samples_leaf': 1, 'max_features': 0.601071576203968}. Best is trial 19 with value: 0.607056146204494.\n",
      "[I 2024-12-25 13:15:29,561] Trial 36 finished with value: 0.6042001798788493 and parameters: {'n_estimators': 180, 'max_depth': 3, 'min_samples_split': 6, 'min_samples_leaf': 1, 'max_features': 0.6190615016537281}. Best is trial 19 with value: 0.607056146204494.\n",
      "[I 2024-12-25 13:15:33,421] Trial 37 finished with value: 0.599298965968868 and parameters: {'n_estimators': 128, 'max_depth': 8, 'min_samples_split': 7, 'min_samples_leaf': 1, 'max_features': 0.6275961217704874}. Best is trial 19 with value: 0.607056146204494.\n",
      "[I 2024-12-25 13:15:39,697] Trial 38 finished with value: 0.6052353461135908 and parameters: {'n_estimators': 202, 'max_depth': 6, 'min_samples_split': 5, 'min_samples_leaf': 2, 'max_features': 0.6908001794101868}. Best is trial 19 with value: 0.607056146204494.\n",
      "[I 2024-12-25 13:15:42,551] Trial 39 finished with value: 0.6070858553227109 and parameters: {'n_estimators': 144, 'max_depth': 4, 'min_samples_split': 7, 'min_samples_leaf': 2, 'max_features': 0.603691051351009}. Best is trial 39 with value: 0.6070858553227109.\n",
      "[I 2024-12-25 13:15:48,513] Trial 40 finished with value: 0.60149156792118 and parameters: {'n_estimators': 170, 'max_depth': 7, 'min_samples_split': 6, 'min_samples_leaf': 1, 'max_features': 0.8290516064088769}. Best is trial 39 with value: 0.6070858553227109.\n",
      "[I 2024-12-25 13:15:51,158] Trial 41 finished with value: 0.6071820061550873 and parameters: {'n_estimators': 147, 'max_depth': 4, 'min_samples_split': 7, 'min_samples_leaf': 2, 'max_features': 0.6013008138602488}. Best is trial 41 with value: 0.6071820061550873.\n",
      "[I 2024-12-25 13:15:54,051] Trial 42 finished with value: 0.6071710837311902 and parameters: {'n_estimators': 149, 'max_depth': 4, 'min_samples_split': 7, 'min_samples_leaf': 2, 'max_features': 0.6279762239077952}. Best is trial 41 with value: 0.6071820061550873.\n",
      "[I 2024-12-25 13:15:56,238] Trial 43 finished with value: 0.603649410697227 and parameters: {'n_estimators': 146, 'max_depth': 3, 'min_samples_split': 5, 'min_samples_leaf': 2, 'max_features': 0.6298777492263592}. Best is trial 41 with value: 0.6071820061550873.\n",
      "[I 2024-12-25 13:16:02,098] Trial 44 finished with value: 0.6048785923901435 and parameters: {'n_estimators': 192, 'max_depth': 6, 'min_samples_split': 8, 'min_samples_leaf': 3, 'max_features': 0.6997581347049072}. Best is trial 41 with value: 0.6071820061550873.\n",
      "[I 2024-12-25 13:16:05,228] Trial 45 finished with value: 0.6071993877107534 and parameters: {'n_estimators': 178, 'max_depth': 4, 'min_samples_split': 7, 'min_samples_leaf': 2, 'max_features': 0.6380904001834491}. Best is trial 45 with value: 0.6071993877107534.\n",
      "[I 2024-12-25 13:16:08,415] Trial 46 finished with value: 0.6040313861403427 and parameters: {'n_estimators': 222, 'max_depth': 3, 'min_samples_split': 7, 'min_samples_leaf': 3, 'max_features': 0.6204901224691278}. Best is trial 45 with value: 0.6071993877107534.\n",
      "[I 2024-12-25 13:16:11,457] Trial 47 finished with value: 0.6071693287573446 and parameters: {'n_estimators': 181, 'max_depth': 4, 'min_samples_split': 6, 'min_samples_leaf': 2, 'max_features': 0.6411360357609038}. Best is trial 45 with value: 0.6071993877107534.\n",
      "[I 2024-12-25 13:16:14,536] Trial 48 finished with value: 0.6071733474530123 and parameters: {'n_estimators': 185, 'max_depth': 4, 'min_samples_split': 6, 'min_samples_leaf': 3, 'max_features': 0.6386276068436545}. Best is trial 45 with value: 0.6071993877107534.\n",
      "[I 2024-12-25 13:16:22,983] Trial 49 finished with value: 0.5810856624520376 and parameters: {'n_estimators': 209, 'max_depth': 17, 'min_samples_split': 4, 'min_samples_leaf': 10, 'max_features': 0.8736654287196683}. Best is trial 45 with value: 0.6071993877107534.\n",
      "[I 2024-12-25 13:16:22,987] A new study created in memory with name: no-name-5e5a71f7-f557-43e5-9447-ba542a58407c\n"
     ]
    },
    {
     "name": "stdout",
     "output_type": "stream",
     "text": [
      "Best parameters for random_forest for treatment: {'n_estimators': 178, 'max_depth': 4, 'min_samples_split': 7, 'min_samples_leaf': 2, 'max_features': 0.6380904001834491}\n"
     ]
    },
    {
     "name": "stderr",
     "output_type": "stream",
     "text": [
      "[I 2024-12-25 13:16:23,498] Trial 0 finished with value: 0.6084599463569288 and parameters: {'n_estimators': 173, 'max_depth': 8, 'learning_rate': 0.20400203463013308, 'subsample': 0.8648943586128917, 'colsample_bytree': 0.7527711626857335, 'gamma': 0.7432186221639353}. Best is trial 0 with value: 0.6084599463569288.\n",
      "[I 2024-12-25 13:16:23,833] Trial 1 finished with value: 0.6341610057445509 and parameters: {'n_estimators': 154, 'max_depth': 6, 'learning_rate': 0.12043192228291452, 'subsample': 0.989898920845675, 'colsample_bytree': 0.9251485377249785, 'gamma': 2.7860160214631886}. Best is trial 1 with value: 0.6341610057445509.\n",
      "[I 2024-12-25 13:16:24,163] Trial 2 finished with value: 0.6364362818904231 and parameters: {'n_estimators': 154, 'max_depth': 10, 'learning_rate': 0.2745702590145814, 'subsample': 0.9623873463774413, 'colsample_bytree': 0.7327323164778725, 'gamma': 3.5227666481221687}. Best is trial 2 with value: 0.6364362818904231.\n",
      "[I 2024-12-25 13:16:25,130] Trial 3 finished with value: 0.6033808015272454 and parameters: {'n_estimators': 294, 'max_depth': 5, 'learning_rate': 0.14734295969042507, 'subsample': 0.6098326136332343, 'colsample_bytree': 0.6050474758564176, 'gamma': 0.41985954041161677}. Best is trial 2 with value: 0.6364362818904231.\n",
      "[I 2024-12-25 13:16:25,455] Trial 4 finished with value: 0.6373080287381935 and parameters: {'n_estimators': 116, 'max_depth': 4, 'learning_rate': 0.059184991439073034, 'subsample': 0.9295314516107505, 'colsample_bytree': 0.8915697708486758, 'gamma': 3.7961655007314112}. Best is trial 4 with value: 0.6373080287381935.\n",
      "[I 2024-12-25 13:16:25,928] Trial 5 finished with value: 0.6328234530007134 and parameters: {'n_estimators': 114, 'max_depth': 10, 'learning_rate': 0.01429055017324527, 'subsample': 0.8771939197062403, 'colsample_bytree': 0.9325147481398937, 'gamma': 3.5449679477825295}. Best is trial 4 with value: 0.6373080287381935.\n",
      "[I 2024-12-25 13:16:26,353] Trial 6 finished with value: 0.6409388020718424 and parameters: {'n_estimators': 210, 'max_depth': 9, 'learning_rate': 0.11386090273463607, 'subsample': 0.7032177682971175, 'colsample_bytree': 0.8063280814282598, 'gamma': 4.807257495109515}. Best is trial 6 with value: 0.6409388020718424.\n",
      "[I 2024-12-25 13:16:26,924] Trial 7 finished with value: 0.6382494625271532 and parameters: {'n_estimators': 216, 'max_depth': 10, 'learning_rate': 0.07448140635852565, 'subsample': 0.7216314185130883, 'colsample_bytree': 0.9676304158012705, 'gamma': 2.47149549938673}. Best is trial 6 with value: 0.6409388020718424.\n",
      "[I 2024-12-25 13:16:27,740] Trial 8 finished with value: 0.6413220910554193 and parameters: {'n_estimators': 296, 'max_depth': 3, 'learning_rate': 0.02855245765433112, 'subsample': 0.8360907235095195, 'colsample_bytree': 0.9592899958209893, 'gamma': 3.48902263617842}. Best is trial 8 with value: 0.6413220910554193.\n",
      "[I 2024-12-25 13:16:28,570] Trial 9 finished with value: 0.6171070798757281 and parameters: {'n_estimators': 232, 'max_depth': 5, 'learning_rate': 0.1509269598566771, 'subsample': 0.8149535682836931, 'colsample_bytree': 0.6074329429476087, 'gamma': 0.6648622093609635}. Best is trial 8 with value: 0.6413220910554193.\n",
      "[I 2024-12-25 13:16:29,647] Trial 10 finished with value: 0.6418723245831136 and parameters: {'n_estimators': 284, 'max_depth': 3, 'learning_rate': 0.023215744698383934, 'subsample': 0.7384077870347828, 'colsample_bytree': 0.8503623605990134, 'gamma': 1.8502724817538863}. Best is trial 10 with value: 0.6418723245831136.\n",
      "[I 2024-12-25 13:16:30,683] Trial 11 finished with value: 0.6410952353163496 and parameters: {'n_estimators': 285, 'max_depth': 3, 'learning_rate': 0.02174300548846167, 'subsample': 0.7525673244658035, 'colsample_bytree': 0.8553714084953602, 'gamma': 1.7464783789144527}. Best is trial 10 with value: 0.6418723245831136.\n",
      "[I 2024-12-25 13:16:31,758] Trial 12 finished with value: 0.6402861157477752 and parameters: {'n_estimators': 258, 'max_depth': 3, 'learning_rate': 0.029448115539052196, 'subsample': 0.6542231611385214, 'colsample_bytree': 0.9877281079791417, 'gamma': 1.5454852920741606}. Best is trial 10 with value: 0.6418723245831136.\n",
      "[I 2024-12-25 13:16:32,082] Trial 13 finished with value: 0.6378697426332748 and parameters: {'n_estimators': 70, 'max_depth': 3, 'learning_rate': 0.03295402516375299, 'subsample': 0.790540542017602, 'colsample_bytree': 0.8522707070716621, 'gamma': 2.4170991829652104}. Best is trial 10 with value: 0.6418723245831136.\n",
      "[I 2024-12-25 13:16:32,908] Trial 14 finished with value: 0.6373352606002306 and parameters: {'n_estimators': 257, 'max_depth': 7, 'learning_rate': 0.010036884110082139, 'subsample': 0.8350555435855656, 'colsample_bytree': 0.6977416871388772, 'gamma': 4.661198175636416}. Best is trial 10 with value: 0.6418723245831136.\n",
      "[I 2024-12-25 13:16:33,713] Trial 15 finished with value: 0.6388622754687096 and parameters: {'n_estimators': 262, 'max_depth': 4, 'learning_rate': 0.03501693595939611, 'subsample': 0.7651658891346041, 'colsample_bytree': 0.8286936321552658, 'gamma': 1.6201778611940099}. Best is trial 10 with value: 0.6418723245831136.\n",
      "[I 2024-12-25 13:16:34,565] Trial 16 finished with value: 0.6379704872804123 and parameters: {'n_estimators': 293, 'max_depth': 5, 'learning_rate': 0.01792581239538411, 'subsample': 0.9035580669716639, 'colsample_bytree': 0.8973210682683737, 'gamma': 3.0081336533267757}. Best is trial 10 with value: 0.6418723245831136.\n",
      "[I 2024-12-25 13:16:35,148] Trial 17 finished with value: 0.6416894976771843 and parameters: {'n_estimators': 233, 'max_depth': 4, 'learning_rate': 0.04346220248272656, 'subsample': 0.6970243350770546, 'colsample_bytree': 0.9989434960890217, 'gamma': 4.037096164110006}. Best is trial 10 with value: 0.6418723245831136.\n",
      "[I 2024-12-25 13:16:35,713] Trial 18 finished with value: 0.6412108740601238 and parameters: {'n_estimators': 229, 'max_depth': 4, 'learning_rate': 0.05206817057575736, 'subsample': 0.6739397534507167, 'colsample_bytree': 0.6687567476210744, 'gamma': 4.233136874591054}. Best is trial 10 with value: 0.6418723245831136.\n",
      "[I 2024-12-25 13:16:36,325] Trial 19 finished with value: 0.6394140129074145 and parameters: {'n_estimators': 192, 'max_depth': 6, 'learning_rate': 0.05717730750790014, 'subsample': 0.6029056041762118, 'colsample_bytree': 0.7534187658881679, 'gamma': 2.154478535637099}. Best is trial 10 with value: 0.6418723245831136.\n",
      "[I 2024-12-25 13:16:37,368] Trial 20 finished with value: 0.6209905200377087 and parameters: {'n_estimators': 245, 'max_depth': 7, 'learning_rate': 0.046300791589214386, 'subsample': 0.6525232366946196, 'colsample_bytree': 0.9972957290266643, 'gamma': 1.192638680918476}. Best is trial 10 with value: 0.6418723245831136.\n",
      "[I 2024-12-25 13:16:38,182] Trial 21 finished with value: 0.6417565873583427 and parameters: {'n_estimators': 274, 'max_depth': 3, 'learning_rate': 0.02298826139161288, 'subsample': 0.7272902661101097, 'colsample_bytree': 0.9449738149046243, 'gamma': 3.1067751934168086}. Best is trial 10 with value: 0.6418723245831136.\n",
      "[I 2024-12-25 13:16:38,898] Trial 22 finished with value: 0.6399365841891402 and parameters: {'n_estimators': 270, 'max_depth': 4, 'learning_rate': 0.020491557062818282, 'subsample': 0.7240991693330652, 'colsample_bytree': 0.8967536891153776, 'gamma': 4.199938980340463}. Best is trial 10 with value: 0.6418723245831136.\n",
      "[I 2024-12-25 13:16:39,667] Trial 23 finished with value: 0.6416139005842328 and parameters: {'n_estimators': 274, 'max_depth': 3, 'learning_rate': 0.01471789415157143, 'subsample': 0.6942715366011871, 'colsample_bytree': 0.9408357446360326, 'gamma': 2.7684763849259504}. Best is trial 10 with value: 0.6418723245831136.\n",
      "[I 2024-12-25 13:16:40,219] Trial 24 finished with value: 0.6404962076373008 and parameters: {'n_estimators': 240, 'max_depth': 4, 'learning_rate': 0.08324277989519606, 'subsample': 0.7578450942876898, 'colsample_bytree': 0.8634850132143606, 'gamma': 3.0227230476273266}. Best is trial 10 with value: 0.6418723245831136.\n",
      "[I 2024-12-25 13:16:40,803] Trial 25 finished with value: 0.6397999039988949 and parameters: {'n_estimators': 207, 'max_depth': 5, 'learning_rate': 0.04213506612849591, 'subsample': 0.7846599690621748, 'colsample_bytree': 0.967654048369122, 'gamma': 4.363397915423719}. Best is trial 10 with value: 0.6418723245831136.\n",
      "[I 2024-12-25 13:16:41,590] Trial 26 finished with value: 0.6396649268750106 and parameters: {'n_estimators': 276, 'max_depth': 3, 'learning_rate': 0.010336856529469111, 'subsample': 0.738079042567761, 'colsample_bytree': 0.9991232609169491, 'gamma': 1.9516463335613001}. Best is trial 10 with value: 0.6418723245831136.\n",
      "[I 2024-12-25 13:16:42,235] Trial 27 finished with value: 0.6422907724268418 and parameters: {'n_estimators': 249, 'max_depth': 4, 'learning_rate': 0.025831201848747373, 'subsample': 0.639788151076654, 'colsample_bytree': 0.9198142290582844, 'gamma': 3.817014832486924}. Best is trial 27 with value: 0.6422907724268418.\n",
      "[I 2024-12-25 13:16:42,960] Trial 28 finished with value: 0.6425670561084352 and parameters: {'n_estimators': 250, 'max_depth': 3, 'learning_rate': 0.024591873304485076, 'subsample': 0.6294250015615316, 'colsample_bytree': 0.800413899325728, 'gamma': 1.138204534866118}. Best is trial 28 with value: 0.6425670561084352.\n",
      "[I 2024-12-25 13:16:43,801] Trial 29 finished with value: 0.633697675244762 and parameters: {'n_estimators': 173, 'max_depth': 6, 'learning_rate': 0.014257767980239405, 'subsample': 0.6405949842609776, 'colsample_bytree': 0.7791841501419503, 'gamma': 0.05267462121469846}. Best is trial 28 with value: 0.6425670561084352.\n",
      "[I 2024-12-25 13:16:44,743] Trial 30 finished with value: 0.6329201743667311 and parameters: {'n_estimators': 190, 'max_depth': 8, 'learning_rate': 0.023964924825104168, 'subsample': 0.6264750744899967, 'colsample_bytree': 0.8119685194374767, 'gamma': 1.2863825851489772}. Best is trial 28 with value: 0.6425670561084352.\n",
      "[I 2024-12-25 13:16:45,502] Trial 31 finished with value: 0.6417582810221498 and parameters: {'n_estimators': 258, 'max_depth': 3, 'learning_rate': 0.025286749508964396, 'subsample': 0.6747936840044978, 'colsample_bytree': 0.8785600797881105, 'gamma': 1.0217381115964832}. Best is trial 28 with value: 0.6425670561084352.\n",
      "[I 2024-12-25 13:16:46,428] Trial 32 finished with value: 0.6388745521967847 and parameters: {'n_estimators': 253, 'max_depth': 4, 'learning_rate': 0.01722512338912288, 'subsample': 0.6738051211147866, 'colsample_bytree': 0.8730720215932724, 'gamma': 0.9878458689699249}. Best is trial 28 with value: 0.6425670561084352.\n",
      "[I 2024-12-25 13:16:47,120] Trial 33 finished with value: 0.6423969184357313 and parameters: {'n_estimators': 219, 'max_depth': 3, 'learning_rate': 0.026737555719299536, 'subsample': 0.6753266458141169, 'colsample_bytree': 0.8369496148913823, 'gamma': 0.624594146475252}. Best is trial 28 with value: 0.6425670561084352.\n",
      "[I 2024-12-25 13:16:47,965] Trial 34 finished with value: 0.6327619370237464 and parameters: {'n_estimators': 223, 'max_depth': 5, 'learning_rate': 0.03176138348011585, 'subsample': 0.6166119165566373, 'colsample_bytree': 0.7776902356661337, 'gamma': 0.40397210060920585}. Best is trial 28 with value: 0.6425670561084352.\n",
      "[I 2024-12-25 13:16:48,663] Trial 35 finished with value: 0.6365127614792219 and parameters: {'n_estimators': 193, 'max_depth': 4, 'learning_rate': 0.038293885840843256, 'subsample': 0.6345660316006794, 'colsample_bytree': 0.830752128556105, 'gamma': 0.6256578165305188}. Best is trial 28 with value: 0.6425670561084352.\n",
      "[I 2024-12-25 13:16:49,409] Trial 36 finished with value: 0.642350068588789 and parameters: {'n_estimators': 240, 'max_depth': 3, 'learning_rate': 0.019585720466804398, 'subsample': 0.6661378205648218, 'colsample_bytree': 0.9101052206167327, 'gamma': 0.06026630390920218}. Best is trial 28 with value: 0.6425670561084352.\n",
      "[I 2024-12-25 13:16:50,038] Trial 37 finished with value: 0.6387953568307063 and parameters: {'n_estimators': 164, 'max_depth': 3, 'learning_rate': 0.01238136158502485, 'subsample': 0.6597931047664306, 'colsample_bytree': 0.912714821849539, 'gamma': 0.05525708387089075}. Best is trial 28 with value: 0.6425670561084352.\n",
      "[I 2024-12-25 13:16:50,824] Trial 38 finished with value: 0.6406937879844953 and parameters: {'n_estimators': 203, 'max_depth': 4, 'learning_rate': 0.01808743480688766, 'subsample': 0.6004806272920156, 'colsample_bytree': 0.9194973984229692, 'gamma': 0.3609001272073091}. Best is trial 28 with value: 0.6425670561084352.\n",
      "[I 2024-12-25 13:16:51,471] Trial 39 finished with value: 0.6367930742039724 and parameters: {'n_estimators': 140, 'max_depth': 5, 'learning_rate': 0.026682961052172872, 'subsample': 0.6968403904804092, 'colsample_bytree': 0.7884900397225547, 'gamma': 0.8064357542102215}. Best is trial 28 with value: 0.6425670561084352.\n",
      "[I 2024-12-25 13:16:52,466] Trial 40 finished with value: 0.5856522592559364 and parameters: {'n_estimators': 242, 'max_depth': 6, 'learning_rate': 0.2444265860120489, 'subsample': 0.6275093907109812, 'colsample_bytree': 0.7316548012727806, 'gamma': 0.26857230667851384}. Best is trial 28 with value: 0.6425670561084352.\n",
      "[I 2024-12-25 13:16:53,067] Trial 41 finished with value: 0.641521881239122 and parameters: {'n_estimators': 219, 'max_depth': 3, 'learning_rate': 0.020756799140247934, 'subsample': 0.9964735127488032, 'colsample_bytree': 0.8332156486867425, 'gamma': 1.474161337175413}. Best is trial 28 with value: 0.6425670561084352.\n",
      "[I 2024-12-25 13:16:53,883] Trial 42 finished with value: 0.6422528756915337 and parameters: {'n_estimators': 285, 'max_depth': 3, 'learning_rate': 0.01563251955157554, 'subsample': 0.7111587297270994, 'colsample_bytree': 0.8401368187948336, 'gamma': 2.05275616006459}. Best is trial 28 with value: 0.6425670561084352.\n",
      "[I 2024-12-25 13:16:54,674] Trial 43 finished with value: 0.6428908852459398 and parameters: {'n_estimators': 300, 'max_depth': 3, 'learning_rate': 0.015663596121076793, 'subsample': 0.6634459949622225, 'colsample_bytree': 0.8091622681433901, 'gamma': 2.0622307976522207}. Best is trial 43 with value: 0.6428908852459398.\n",
      "[I 2024-12-25 13:16:55,603] Trial 44 finished with value: 0.637021256948623 and parameters: {'n_estimators': 298, 'max_depth': 4, 'learning_rate': 0.019774533912679505, 'subsample': 0.6765962619626593, 'colsample_bytree': 0.8033783588444224, 'gamma': 0.6342225652015421}. Best is trial 43 with value: 0.6428908852459398.\n",
      "[I 2024-12-25 13:16:56,345] Trial 45 finished with value: 0.6420876765185578 and parameters: {'n_estimators': 246, 'max_depth': 3, 'learning_rate': 0.012596120359977012, 'subsample': 0.6571685202158761, 'colsample_bytree': 0.760772752144064, 'gamma': 0.9563746395619726}. Best is trial 43 with value: 0.6428908852459398.\n",
      "[I 2024-12-25 13:16:56,666] Trial 46 finished with value: 0.6373583355676383 and parameters: {'n_estimators': 58, 'max_depth': 4, 'learning_rate': 0.012518415681085717, 'subsample': 0.9659691844670517, 'colsample_bytree': 0.7316423981607023, 'gamma': 1.3158278737774824}. Best is trial 43 with value: 0.6428908852459398.\n",
      "[I 2024-12-25 13:16:57,275] Trial 47 finished with value: 0.6417341365118528 and parameters: {'n_estimators': 215, 'max_depth': 3, 'learning_rate': 0.06977851762144859, 'subsample': 0.6436075228343109, 'colsample_bytree': 0.8168236549941181, 'gamma': 2.325443917073544}. Best is trial 43 with value: 0.6428908852459398.\n",
      "[I 2024-12-25 13:16:57,925] Trial 48 finished with value: 0.6428614490409759 and parameters: {'n_estimators': 268, 'max_depth': 3, 'learning_rate': 0.029168597660417683, 'subsample': 0.6140629583684502, 'colsample_bytree': 0.9029519297742868, 'gamma': 3.4778860503918185}. Best is trial 43 with value: 0.6428908852459398.\n",
      "[I 2024-12-25 13:16:58,565] Trial 49 finished with value: 0.641685183171507 and parameters: {'n_estimators': 266, 'max_depth': 9, 'learning_rate': 0.03592049133098911, 'subsample': 0.6177171569020788, 'colsample_bytree': 0.8853498549575074, 'gamma': 3.2814726136201537}. Best is trial 43 with value: 0.6428908852459398.\n",
      "[I 2024-12-25 13:16:58,568] A new study created in memory with name: no-name-77bd8d58-00e1-4fbf-b52d-6cf1c6fd2147\n"
     ]
    },
    {
     "name": "stdout",
     "output_type": "stream",
     "text": [
      "Best parameters for xgboost for control: {'n_estimators': 300, 'max_depth': 3, 'learning_rate': 0.015663596121076793, 'subsample': 0.6634459949622225, 'colsample_bytree': 0.8091622681433901, 'gamma': 2.0622307976522207}\n"
     ]
    },
    {
     "name": "stderr",
     "output_type": "stream",
     "text": [
      "[I 2024-12-25 13:17:02,461] Trial 0 finished with value: 0.6050326981452266 and parameters: {'n_estimators': 94, 'max_depth': 11, 'min_samples_split': 5, 'min_samples_leaf': 1, 'max_features': 0.7091575480838636}. Best is trial 0 with value: 0.6050326981452266.\n",
      "[I 2024-12-25 13:17:13,918] Trial 1 finished with value: 0.6037683252276116 and parameters: {'n_estimators': 246, 'max_depth': 17, 'min_samples_split': 7, 'min_samples_leaf': 8, 'max_features': 0.9799780877844936}. Best is trial 0 with value: 0.6050326981452266.\n",
      "[I 2024-12-25 13:17:19,334] Trial 2 finished with value: 0.6301047264074963 and parameters: {'n_estimators': 154, 'max_depth': 7, 'min_samples_split': 7, 'min_samples_leaf': 7, 'max_features': 0.9722206647098338}. Best is trial 2 with value: 0.6301047264074963.\n",
      "[I 2024-12-25 13:17:23,398] Trial 3 finished with value: 0.6079823293398009 and parameters: {'n_estimators': 97, 'max_depth': 17, 'min_samples_split': 8, 'min_samples_leaf': 9, 'max_features': 0.8146553178400455}. Best is trial 2 with value: 0.6301047264074963.\n",
      "[I 2024-12-25 13:17:26,490] Trial 4 finished with value: 0.6084103938515314 and parameters: {'n_estimators': 69, 'max_depth': 19, 'min_samples_split': 5, 'min_samples_leaf': 10, 'max_features': 0.8460936205778503}. Best is trial 2 with value: 0.6301047264074963.\n",
      "[I 2024-12-25 13:17:28,902] Trial 5 finished with value: 0.632450934213804 and parameters: {'n_estimators': 101, 'max_depth': 4, 'min_samples_split': 8, 'min_samples_leaf': 2, 'max_features': 0.7802558457816627}. Best is trial 5 with value: 0.632450934213804.\n",
      "[I 2024-12-25 13:17:32,266] Trial 6 finished with value: 0.6113847560729169 and parameters: {'n_estimators': 83, 'max_depth': 10, 'min_samples_split': 3, 'min_samples_leaf': 3, 'max_features': 0.9977860641153524}. Best is trial 5 with value: 0.632450934213804.\n",
      "[I 2024-12-25 13:17:38,050] Trial 7 finished with value: 0.6332850090787384 and parameters: {'n_estimators': 275, 'max_depth': 4, 'min_samples_split': 3, 'min_samples_leaf': 3, 'max_features': 0.7543178889225088}. Best is trial 7 with value: 0.6332850090787384.\n",
      "[I 2024-12-25 13:17:48,055] Trial 8 finished with value: 0.6069202807498472 and parameters: {'n_estimators': 214, 'max_depth': 14, 'min_samples_split': 10, 'min_samples_leaf': 9, 'max_features': 0.9440580946021305}. Best is trial 7 with value: 0.6332850090787384.\n",
      "[I 2024-12-25 13:17:58,461] Trial 9 finished with value: 0.5987510765047798 and parameters: {'n_estimators': 211, 'max_depth': 14, 'min_samples_split': 3, 'min_samples_leaf': 4, 'max_features': 0.938532560438014}. Best is trial 7 with value: 0.6332850090787384.\n",
      "[I 2024-12-25 13:18:02,915] Trial 10 finished with value: 0.6316035470570189 and parameters: {'n_estimators': 293, 'max_depth': 3, 'min_samples_split': 2, 'min_samples_leaf': 5, 'max_features': 0.6054943365703598}. Best is trial 7 with value: 0.6332850090787384.\n",
      "[I 2024-12-25 13:18:05,223] Trial 11 finished with value: 0.6307008357954059 and parameters: {'n_estimators': 138, 'max_depth': 3, 'min_samples_split': 10, 'min_samples_leaf': 1, 'max_features': 0.7531070698725111}. Best is trial 7 with value: 0.6332850090787384.\n",
      "[I 2024-12-25 13:18:12,854] Trial 12 finished with value: 0.6317916681649819 and parameters: {'n_estimators': 285, 'max_depth': 7, 'min_samples_split': 8, 'min_samples_leaf': 3, 'max_features': 0.6917643504036473}. Best is trial 7 with value: 0.6332850090787384.\n",
      "[I 2024-12-25 13:18:16,643] Trial 13 finished with value: 0.62954293896078 and parameters: {'n_estimators': 129, 'max_depth': 7, 'min_samples_split': 5, 'min_samples_leaf': 2, 'max_features': 0.870687126836931}. Best is trial 7 with value: 0.6332850090787384.\n",
      "[I 2024-12-25 13:18:20,598] Trial 14 finished with value: 0.6346846175955615 and parameters: {'n_estimators': 180, 'max_depth': 5, 'min_samples_split': 9, 'min_samples_leaf': 5, 'max_features': 0.7598996756491291}. Best is trial 14 with value: 0.6346846175955615.\n",
      "[I 2024-12-25 13:18:24,763] Trial 15 finished with value: 0.6347958345796106 and parameters: {'n_estimators': 187, 'max_depth': 5, 'min_samples_split': 4, 'min_samples_leaf': 6, 'max_features': 0.672080623542092}. Best is trial 15 with value: 0.6347958345796106.\n",
      "[I 2024-12-25 13:18:29,804] Trial 16 finished with value: 0.62282406900432 and parameters: {'n_estimators': 185, 'max_depth': 9, 'min_samples_split': 6, 'min_samples_leaf': 6, 'max_features': 0.6286056998766657}. Best is trial 15 with value: 0.6347958345796106.\n",
      "[I 2024-12-25 13:18:33,824] Trial 17 finished with value: 0.6350692434121336 and parameters: {'n_estimators': 186, 'max_depth': 6, 'min_samples_split': 4, 'min_samples_leaf': 6, 'max_features': 0.6578932674325393}. Best is trial 17 with value: 0.6350692434121336.\n",
      "[I 2024-12-25 13:18:39,344] Trial 18 finished with value: 0.6342970878605637 and parameters: {'n_estimators': 223, 'max_depth': 6, 'min_samples_split': 4, 'min_samples_leaf': 6, 'max_features': 0.6683355708190881}. Best is trial 17 with value: 0.6350692434121336.\n",
      "[I 2024-12-25 13:18:46,432] Trial 19 finished with value: 0.6229974122671633 and parameters: {'n_estimators': 248, 'max_depth': 9, 'min_samples_split': 2, 'min_samples_leaf': 7, 'max_features': 0.6508008730241124}. Best is trial 17 with value: 0.6350692434121336.\n",
      "[I 2024-12-25 13:18:52,303] Trial 20 finished with value: 0.6070119961667374 and parameters: {'n_estimators': 162, 'max_depth': 13, 'min_samples_split': 4, 'min_samples_leaf': 7, 'max_features': 0.7034528788477102}. Best is trial 17 with value: 0.6350692434121336.\n",
      "[I 2024-12-25 13:18:56,416] Trial 21 finished with value: 0.6347821164863902 and parameters: {'n_estimators': 184, 'max_depth': 5, 'min_samples_split': 4, 'min_samples_leaf': 5, 'max_features': 0.7342349677741975}. Best is trial 17 with value: 0.6350692434121336.\n",
      "[I 2024-12-25 13:19:01,554] Trial 22 finished with value: 0.634631557304004 and parameters: {'n_estimators': 197, 'max_depth': 6, 'min_samples_split': 4, 'min_samples_leaf': 5, 'max_features': 0.7206944516443895}. Best is trial 17 with value: 0.6350692434121336.\n",
      "[I 2024-12-25 13:19:06,395] Trial 23 finished with value: 0.6287550789061962 and parameters: {'n_estimators': 164, 'max_depth': 8, 'min_samples_split': 6, 'min_samples_leaf': 4, 'max_features': 0.659852010065928}. Best is trial 17 with value: 0.6350692434121336.\n",
      "[I 2024-12-25 13:19:09,311] Trial 24 finished with value: 0.6354850015457062 and parameters: {'n_estimators': 132, 'max_depth': 5, 'min_samples_split': 4, 'min_samples_leaf': 6, 'max_features': 0.6082930184946789}. Best is trial 24 with value: 0.6354850015457062.\n",
      "[I 2024-12-25 13:19:12,120] Trial 25 finished with value: 0.6356629629968001 and parameters: {'n_estimators': 124, 'max_depth': 5, 'min_samples_split': 3, 'min_samples_leaf': 6, 'max_features': 0.6237735162603214}. Best is trial 25 with value: 0.6356629629968001.\n",
      "[I 2024-12-25 13:19:14,137] Trial 26 finished with value: 0.6306578694050721 and parameters: {'n_estimators': 117, 'max_depth': 3, 'min_samples_split': 2, 'min_samples_leaf': 8, 'max_features': 0.6099791129745387}. Best is trial 25 with value: 0.6356629629968001.\n",
      "[I 2024-12-25 13:19:19,102] Trial 27 finished with value: 0.6095818467313546 and parameters: {'n_estimators': 144, 'max_depth': 12, 'min_samples_split': 3, 'min_samples_leaf': 7, 'max_features': 0.6310884953903799}. Best is trial 25 with value: 0.6356629629968001.\n",
      "[I 2024-12-25 13:19:22,727] Trial 28 finished with value: 0.6278722833751076 and parameters: {'n_estimators': 117, 'max_depth': 8, 'min_samples_split': 5, 'min_samples_leaf': 8, 'max_features': 0.600470450445712}. Best is trial 25 with value: 0.6356629629968001.\n",
      "[I 2024-12-25 13:19:25,089] Trial 29 finished with value: 0.6156737656182368 and parameters: {'n_estimators': 64, 'max_depth': 10, 'min_samples_split': 3, 'min_samples_leaf': 4, 'max_features': 0.6455950941567484}. Best is trial 25 with value: 0.6356629629968001.\n",
      "[I 2024-12-25 13:19:28,453] Trial 30 finished with value: 0.6345049189732627 and parameters: {'n_estimators': 123, 'max_depth': 6, 'min_samples_split': 5, 'min_samples_leaf': 6, 'max_features': 0.6915551353270224}. Best is trial 25 with value: 0.6356629629968001.\n",
      "[I 2024-12-25 13:19:32,878] Trial 31 finished with value: 0.6347292298531412 and parameters: {'n_estimators': 168, 'max_depth': 5, 'min_samples_split': 4, 'min_samples_leaf': 6, 'max_features': 0.6687973000388716}. Best is trial 25 with value: 0.6356629629968001.\n",
      "[I 2024-12-25 13:19:36,110] Trial 32 finished with value: 0.635759204358639 and parameters: {'n_estimators': 146, 'max_depth': 5, 'min_samples_split': 4, 'min_samples_leaf': 6, 'max_features': 0.6290905962517259}. Best is trial 32 with value: 0.635759204358639.\n",
      "[I 2024-12-25 13:19:38,775] Trial 33 finished with value: 0.6339105351942904 and parameters: {'n_estimators': 144, 'max_depth': 4, 'min_samples_split': 6, 'min_samples_leaf': 7, 'max_features': 0.6212888829010547}. Best is trial 32 with value: 0.635759204358639.\n",
      "[I 2024-12-25 13:19:42,112] Trial 34 finished with value: 0.6278747081412862 and parameters: {'n_estimators': 108, 'max_depth': 8, 'min_samples_split': 5, 'min_samples_leaf': 7, 'max_features': 0.63755434211174}. Best is trial 32 with value: 0.635759204358639.\n",
      "[I 2024-12-25 13:19:43,543] Trial 35 finished with value: 0.6328038219411153 and parameters: {'n_estimators': 50, 'max_depth': 6, 'min_samples_split': 3, 'min_samples_leaf': 8, 'max_features': 0.685913374372887}. Best is trial 32 with value: 0.635759204358639.\n",
      "[I 2024-12-25 13:19:49,641] Trial 36 finished with value: 0.5996018296349103 and parameters: {'n_estimators': 152, 'max_depth': 20, 'min_samples_split': 7, 'min_samples_leaf': 5, 'max_features': 0.637520967691116}. Best is trial 32 with value: 0.635759204358639.\n",
      "[I 2024-12-25 13:19:51,282] Trial 37 finished with value: 0.6332392122467442 and parameters: {'n_estimators': 81, 'max_depth': 4, 'min_samples_split': 2, 'min_samples_leaf': 6, 'max_features': 0.6004925312405822}. Best is trial 32 with value: 0.635759204358639.\n",
      "[I 2024-12-25 13:19:58,162] Trial 38 finished with value: 0.5957772647778394 and parameters: {'n_estimators': 130, 'max_depth': 17, 'min_samples_split': 4, 'min_samples_leaf': 4, 'max_features': 0.8089635450560096}. Best is trial 32 with value: 0.635759204358639.\n",
      "[I 2024-12-25 13:20:01,099] Trial 39 finished with value: 0.6307801192234406 and parameters: {'n_estimators': 91, 'max_depth': 7, 'min_samples_split': 3, 'min_samples_leaf': 10, 'max_features': 0.7177258882620882}. Best is trial 32 with value: 0.635759204358639.\n",
      "[I 2024-12-25 13:20:11,832] Trial 40 finished with value: 0.6123026270667221 and parameters: {'n_estimators': 239, 'max_depth': 11, 'min_samples_split': 5, 'min_samples_leaf': 8, 'max_features': 0.8445905667810938}. Best is trial 32 with value: 0.635759204358639.\n",
      "[I 2024-12-25 13:20:17,230] Trial 41 finished with value: 0.6346764666790897 and parameters: {'n_estimators': 202, 'max_depth': 5, 'min_samples_split': 4, 'min_samples_leaf': 6, 'max_features': 0.6732731901083866}. Best is trial 32 with value: 0.635759204358639.\n",
      "[I 2024-12-25 13:20:20,441] Trial 42 finished with value: 0.6343107273680826 and parameters: {'n_estimators': 154, 'max_depth': 4, 'min_samples_split': 3, 'min_samples_leaf': 6, 'max_features': 0.6229965473294825}. Best is trial 32 with value: 0.635759204358639.\n",
      "[I 2024-12-25 13:20:23,251] Trial 43 finished with value: 0.6311358061594259 and parameters: {'n_estimators': 173, 'max_depth': 3, 'min_samples_split': 4, 'min_samples_leaf': 7, 'max_features': 0.65537411481945}. Best is trial 32 with value: 0.635759204358639.\n",
      "[I 2024-12-25 13:20:28,219] Trial 44 finished with value: 0.6345560695234086 and parameters: {'n_estimators': 194, 'max_depth': 5, 'min_samples_split': 5, 'min_samples_leaf': 5, 'max_features': 0.6796238909683092}. Best is trial 32 with value: 0.635759204358639.\n",
      "[I 2024-12-25 13:20:30,848] Trial 45 finished with value: 0.6343113849073517 and parameters: {'n_estimators': 107, 'max_depth': 6, 'min_samples_split': 3, 'min_samples_leaf': 6, 'max_features': 0.6173675460689536}. Best is trial 32 with value: 0.635759204358639.\n",
      "[I 2024-12-25 13:20:33,593] Trial 46 finished with value: 0.6339702181489932 and parameters: {'n_estimators': 140, 'max_depth': 4, 'min_samples_split': 2, 'min_samples_leaf': 5, 'max_features': 0.6438205983730466}. Best is trial 32 with value: 0.635759204358639.\n",
      "[I 2024-12-25 13:20:40,702] Trial 47 finished with value: 0.6311091882509473 and parameters: {'n_estimators': 225, 'max_depth': 7, 'min_samples_split': 7, 'min_samples_leaf': 9, 'max_features': 0.7875041749022184}. Best is trial 32 with value: 0.635759204358639.\n",
      "[I 2024-12-25 13:20:46,679] Trial 48 finished with value: 0.6221172314497739 and parameters: {'n_estimators': 157, 'max_depth': 9, 'min_samples_split': 4, 'min_samples_leaf': 7, 'max_features': 0.6983877691563126}. Best is trial 32 with value: 0.635759204358639.\n",
      "[I 2024-12-25 13:20:53,888] Trial 49 finished with value: 0.5962209407552873 and parameters: {'n_estimators': 177, 'max_depth': 16, 'min_samples_split': 5, 'min_samples_leaf': 4, 'max_features': 0.7383355636704345}. Best is trial 32 with value: 0.635759204358639.\n",
      "[I 2024-12-25 13:20:53,894] A new study created in memory with name: no-name-365b65ff-be32-492c-8057-75e475cd7594\n"
     ]
    },
    {
     "name": "stdout",
     "output_type": "stream",
     "text": [
      "Best parameters for random_forest for control: {'n_estimators': 146, 'max_depth': 5, 'min_samples_split': 4, 'min_samples_leaf': 6, 'max_features': 0.6290905962517259}\n"
     ]
    },
    {
     "name": "stderr",
     "output_type": "stream",
     "text": [
      "[I 2024-12-25 13:20:55,071] Trial 0 finished with value: 0.645773530467144 and parameters: {'n_estimators': 145, 'max_depth': 10, 'learning_rate': 0.02658005590053795, 'subsample': 0.6484646643182487, 'colsample_bytree': 0.6734932329564441, 'gamma': 1.188409386206537}. Best is trial 0 with value: 0.645773530467144.\n",
      "[I 2024-12-25 13:20:56,083] Trial 1 finished with value: 0.653186827527072 and parameters: {'n_estimators': 289, 'max_depth': 4, 'learning_rate': 0.01061389987686953, 'subsample': 0.6161599365219582, 'colsample_bytree': 0.7950650181795175, 'gamma': 3.8812497420277574}. Best is trial 1 with value: 0.653186827527072.\n",
      "[I 2024-12-25 13:20:56,799] Trial 2 finished with value: 0.649116115153113 and parameters: {'n_estimators': 208, 'max_depth': 6, 'learning_rate': 0.053308317432356284, 'subsample': 0.6263448658117967, 'colsample_bytree': 0.9886305821039414, 'gamma': 2.2178188361910083}. Best is trial 1 with value: 0.653186827527072.\n",
      "[I 2024-12-25 13:20:57,295] Trial 3 finished with value: 0.6546875667113865 and parameters: {'n_estimators': 163, 'max_depth': 7, 'learning_rate': 0.07426429938594241, 'subsample': 0.6110811871322729, 'colsample_bytree': 0.8978476611100439, 'gamma': 4.502611817786756}. Best is trial 3 with value: 0.6546875667113865.\n",
      "[I 2024-12-25 13:20:57,600] Trial 4 finished with value: 0.6535673875274789 and parameters: {'n_estimators': 69, 'max_depth': 8, 'learning_rate': 0.20315425810343948, 'subsample': 0.6284602918232103, 'colsample_bytree': 0.7856152414494776, 'gamma': 3.0523005901901747}. Best is trial 3 with value: 0.6546875667113865.\n",
      "[I 2024-12-25 13:20:58,307] Trial 5 finished with value: 0.6466349475657295 and parameters: {'n_estimators': 98, 'max_depth': 10, 'learning_rate': 0.034751501697205985, 'subsample': 0.6848147192050451, 'colsample_bytree': 0.7223813594792438, 'gamma': 1.3863636900795795}. Best is trial 3 with value: 0.6546875667113865.\n",
      "[I 2024-12-25 13:20:59,041] Trial 6 finished with value: 0.6549791522152346 and parameters: {'n_estimators': 267, 'max_depth': 3, 'learning_rate': 0.024105222553960998, 'subsample': 0.6551815499958071, 'colsample_bytree': 0.9392288196323902, 'gamma': 4.968805042054785}. Best is trial 6 with value: 0.6549791522152346.\n",
      "[I 2024-12-25 13:20:59,986] Trial 7 finished with value: 0.6077303090899885 and parameters: {'n_estimators': 220, 'max_depth': 7, 'learning_rate': 0.2548177592731036, 'subsample': 0.6771418226166593, 'colsample_bytree': 0.8148583327393847, 'gamma': 0.8652716951866646}. Best is trial 6 with value: 0.6549791522152346.\n",
      "[I 2024-12-25 13:21:00,268] Trial 8 finished with value: 0.6550452710292219 and parameters: {'n_estimators': 52, 'max_depth': 4, 'learning_rate': 0.1320138995958273, 'subsample': 0.638434614516113, 'colsample_bytree': 0.8372388568754932, 'gamma': 4.799763368277285}. Best is trial 8 with value: 0.6550452710292219.\n",
      "[I 2024-12-25 13:21:00,748] Trial 9 finished with value: 0.6537216882457816 and parameters: {'n_estimators': 126, 'max_depth': 9, 'learning_rate': 0.06395342817013211, 'subsample': 0.9165741271028073, 'colsample_bytree': 0.6158790327598382, 'gamma': 2.909748383997635}. Best is trial 8 with value: 0.6550452710292219.\n",
      "[I 2024-12-25 13:21:01,115] Trial 10 finished with value: 0.6474685294220426 and parameters: {'n_estimators': 52, 'max_depth': 5, 'learning_rate': 0.1328736851550921, 'subsample': 0.7835963344038821, 'colsample_bytree': 0.8515864108360411, 'gamma': 0.07089581343418638}. Best is trial 8 with value: 0.6550452710292219.\n",
      "[I 2024-12-25 13:21:02,013] Trial 11 finished with value: 0.6530417106041092 and parameters: {'n_estimators': 296, 'max_depth': 3, 'learning_rate': 0.015057861850247024, 'subsample': 0.7381486589463206, 'colsample_bytree': 0.9642939701232416, 'gamma': 4.981407305702395}. Best is trial 8 with value: 0.6550452710292219.\n",
      "[I 2024-12-25 13:21:02,638] Trial 12 finished with value: 0.6552624018324739 and parameters: {'n_estimators': 240, 'max_depth': 3, 'learning_rate': 0.12523919738052297, 'subsample': 0.8675504132216437, 'colsample_bytree': 0.9310707872381565, 'gamma': 3.8669131369209087}. Best is trial 12 with value: 0.6552624018324739.\n",
      "[I 2024-12-25 13:21:03,215] Trial 13 finished with value: 0.6537274024907481 and parameters: {'n_estimators': 221, 'max_depth': 5, 'learning_rate': 0.11401202183085592, 'subsample': 0.9057420400625542, 'colsample_bytree': 0.88424554980827, 'gamma': 3.7405362800560997}. Best is trial 12 with value: 0.6552624018324739.\n",
      "[I 2024-12-25 13:21:03,690] Trial 14 finished with value: 0.6517397565305627 and parameters: {'n_estimators': 189, 'max_depth': 4, 'learning_rate': 0.14131931870300615, 'subsample': 0.998293674376187, 'colsample_bytree': 0.9138031749912469, 'gamma': 3.941618726861076}. Best is trial 12 with value: 0.6552624018324739.\n",
      "[I 2024-12-25 13:21:04,302] Trial 15 finished with value: 0.6545883620223097 and parameters: {'n_estimators': 252, 'max_depth': 4, 'learning_rate': 0.09516768364607596, 'subsample': 0.8620176278731901, 'colsample_bytree': 0.8578182355878754, 'gamma': 4.22537520579562}. Best is trial 12 with value: 0.6552624018324739.\n",
      "[I 2024-12-25 13:21:04,696] Trial 16 finished with value: 0.6556083092942823 and parameters: {'n_estimators': 107, 'max_depth': 3, 'learning_rate': 0.176470338929098, 'subsample': 0.7798799066863802, 'colsample_bytree': 0.7513521044099489, 'gamma': 3.304071397747151}. Best is trial 16 with value: 0.6556083092942823.\n",
      "[I 2024-12-25 13:21:05,100] Trial 17 finished with value: 0.6554943192401179 and parameters: {'n_estimators': 108, 'max_depth': 3, 'learning_rate': 0.294722118683868, 'subsample': 0.8357433003758534, 'colsample_bytree': 0.7535816739008158, 'gamma': 3.280790726775743}. Best is trial 16 with value: 0.6556083092942823.\n",
      "[I 2024-12-25 13:21:05,474] Trial 18 finished with value: 0.6474923191103699 and parameters: {'n_estimators': 106, 'max_depth': 5, 'learning_rate': 0.28821601443628914, 'subsample': 0.7754678385002575, 'colsample_bytree': 0.7441382346892761, 'gamma': 2.1117357804223262}. Best is trial 16 with value: 0.6556083092942823.\n",
      "[I 2024-12-25 13:21:05,827] Trial 19 finished with value: 0.652830976792389 and parameters: {'n_estimators': 84, 'max_depth': 6, 'learning_rate': 0.17479486439787115, 'subsample': 0.8178035637449741, 'colsample_bytree': 0.70226133483162, 'gamma': 3.1886226503019186}. Best is trial 16 with value: 0.6556083092942823.\n",
      "[I 2024-12-25 13:21:06,237] Trial 20 finished with value: 0.6558216433722562 and parameters: {'n_estimators': 128, 'max_depth': 3, 'learning_rate': 0.201226994145916, 'subsample': 0.7204436669362829, 'colsample_bytree': 0.6445905407753789, 'gamma': 2.611461692335358}. Best is trial 20 with value: 0.6558216433722562.\n",
      "[I 2024-12-25 13:21:06,635] Trial 21 finished with value: 0.6566151754495745 and parameters: {'n_estimators': 124, 'max_depth': 3, 'learning_rate': 0.21120815391636377, 'subsample': 0.7335613640215518, 'colsample_bytree': 0.6257225435308258, 'gamma': 2.5536063772176125}. Best is trial 21 with value: 0.6566151754495745.\n",
      "[I 2024-12-25 13:21:07,123] Trial 22 finished with value: 0.6556371549153995 and parameters: {'n_estimators': 136, 'max_depth': 3, 'learning_rate': 0.19285904829586104, 'subsample': 0.7268672186808768, 'colsample_bytree': 0.6005699361149871, 'gamma': 2.632024747145059}. Best is trial 21 with value: 0.6566151754495745.\n",
      "[I 2024-12-25 13:21:07,633] Trial 23 finished with value: 0.6538939165456485 and parameters: {'n_estimators': 142, 'max_depth': 4, 'learning_rate': 0.20885049674729492, 'subsample': 0.724648797075289, 'colsample_bytree': 0.6103962037969692, 'gamma': 2.5290109031856605}. Best is trial 21 with value: 0.6566151754495745.\n",
      "[I 2024-12-25 13:21:08,221] Trial 24 finished with value: 0.6532683063593455 and parameters: {'n_estimators': 169, 'max_depth': 5, 'learning_rate': 0.0939466437978517, 'subsample': 0.7234681657751462, 'colsample_bytree': 0.6488562519176275, 'gamma': 1.859960406861152}. Best is trial 21 with value: 0.6566151754495745.\n",
      "[I 2024-12-25 13:21:08,627] Trial 25 finished with value: 0.6550893902297278 and parameters: {'n_estimators': 125, 'max_depth': 3, 'learning_rate': 0.23225446143426298, 'subsample': 0.6979064476680387, 'colsample_bytree': 0.6431507822456508, 'gamma': 2.614462045185295}. Best is trial 21 with value: 0.6566151754495745.\n",
      "[I 2024-12-25 13:21:09,111] Trial 26 finished with value: 0.6522453552208599 and parameters: {'n_estimators': 147, 'max_depth': 4, 'learning_rate': 0.17195151679489873, 'subsample': 0.753672501783023, 'colsample_bytree': 0.6818210738761146, 'gamma': 1.722603693761459}. Best is trial 21 with value: 0.6566151754495745.\n",
      "[I 2024-12-25 13:21:09,741] Trial 27 finished with value: 0.6562253141495009 and parameters: {'n_estimators': 194, 'max_depth': 3, 'learning_rate': 0.05339725681670743, 'subsample': 0.713520494238718, 'colsample_bytree': 0.638516199361378, 'gamma': 2.7374339632153584}. Best is trial 21 with value: 0.6566151754495745.\n",
      "[I 2024-12-25 13:21:10,479] Trial 28 finished with value: 0.6542558909743913 and parameters: {'n_estimators': 189, 'max_depth': 6, 'learning_rate': 0.04093515460165513, 'subsample': 0.6991912268627712, 'colsample_bytree': 0.6432143913616802, 'gamma': 2.249679294357698}. Best is trial 21 with value: 0.6566151754495745.\n",
      "[I 2024-12-25 13:21:11,209] Trial 29 finished with value: 0.6529565700915229 and parameters: {'n_estimators': 154, 'max_depth': 5, 'learning_rate': 0.025219111778032138, 'subsample': 0.6602083589494818, 'colsample_bytree': 0.6762980338777401, 'gamma': 0.9735265443499661}. Best is trial 21 with value: 0.6566151754495745.\n",
      "[I 2024-12-25 13:21:11,867] Trial 30 finished with value: 0.6557714419749825 and parameters: {'n_estimators': 181, 'max_depth': 4, 'learning_rate': 0.045606673328000565, 'subsample': 0.7586660878747371, 'colsample_bytree': 0.6978874179199507, 'gamma': 2.835405855344206}. Best is trial 21 with value: 0.6566151754495745.\n",
      "[I 2024-12-25 13:21:12,480] Trial 31 finished with value: 0.6562605759445573 and parameters: {'n_estimators': 187, 'max_depth': 4, 'learning_rate': 0.04668028958821735, 'subsample': 0.7609142196675872, 'colsample_bytree': 0.6592759322724778, 'gamma': 2.8674949101417524}. Best is trial 21 with value: 0.6566151754495745.\n",
      "[I 2024-12-25 13:21:13,151] Trial 32 finished with value: 0.6561506249959724 and parameters: {'n_estimators': 204, 'max_depth': 3, 'learning_rate': 0.034723868503555626, 'subsample': 0.8062655840003972, 'colsample_bytree': 0.6555741932370398, 'gamma': 1.6780237970325238}. Best is trial 21 with value: 0.6566151754495745.\n",
      "[I 2024-12-25 13:21:13,956] Trial 33 finished with value: 0.6547140474301489 and parameters: {'n_estimators': 201, 'max_depth': 4, 'learning_rate': 0.030603537396874905, 'subsample': 0.8161531258670549, 'colsample_bytree': 0.6618051851435953, 'gamma': 1.391711514010775}. Best is trial 21 with value: 0.6566151754495745.\n",
      "[I 2024-12-25 13:21:14,644] Trial 34 finished with value: 0.6534811014837489 and parameters: {'n_estimators': 204, 'max_depth': 3, 'learning_rate': 0.019327520386997386, 'subsample': 0.7946108636009517, 'colsample_bytree': 0.6201173359883257, 'gamma': 3.4921705108104257}. Best is trial 21 with value: 0.6566151754495745.\n",
      "[I 2024-12-25 13:21:15,376] Trial 35 finished with value: 0.655115804721516 and parameters: {'n_estimators': 228, 'max_depth': 4, 'learning_rate': 0.05229918090001084, 'subsample': 0.7557384796809739, 'colsample_bytree': 0.6261609265528548, 'gamma': 1.9937154144449039}. Best is trial 21 with value: 0.6566151754495745.\n",
      "[I 2024-12-25 13:21:15,893] Trial 36 finished with value: 0.6558969068232933 and parameters: {'n_estimators': 163, 'max_depth': 3, 'learning_rate': 0.0707660607145712, 'subsample': 0.8112928893239061, 'colsample_bytree': 0.7018302694863324, 'gamma': 2.247090938791574}. Best is trial 21 with value: 0.6566151754495745.\n",
      "[I 2024-12-25 13:21:16,683] Trial 37 finished with value: 0.6534393369242245 and parameters: {'n_estimators': 178, 'max_depth': 5, 'learning_rate': 0.0355025358131403, 'subsample': 0.8380481627074851, 'colsample_bytree': 0.7296826713366257, 'gamma': 1.6906837994205994}. Best is trial 21 with value: 0.6566151754495745.\n",
      "[I 2024-12-25 13:21:17,545] Trial 38 finished with value: 0.6526458914888443 and parameters: {'n_estimators': 275, 'max_depth': 4, 'learning_rate': 0.05960346337839946, 'subsample': 0.672733036260924, 'colsample_bytree': 0.7786221646019474, 'gamma': 1.3973646555484123}. Best is trial 21 with value: 0.6566151754495745.\n",
      "[I 2024-12-25 13:21:18,222] Trial 39 finished with value: 0.6529098906868654 and parameters: {'n_estimators': 209, 'max_depth': 8, 'learning_rate': 0.08312195908559085, 'subsample': 0.607205381117278, 'colsample_bytree': 0.6775211251187244, 'gamma': 2.345211350653356}. Best is trial 21 with value: 0.6566151754495745.\n",
      "[I 2024-12-25 13:21:19,441] Trial 40 finished with value: 0.6497216503402995 and parameters: {'n_estimators': 238, 'max_depth': 6, 'learning_rate': 0.019619894361915004, 'subsample': 0.7675983321096997, 'colsample_bytree': 0.6609145631451581, 'gamma': 0.34480250222953934}. Best is trial 21 with value: 0.6566151754495745.\n",
      "[I 2024-12-25 13:21:20,050] Trial 41 finished with value: 0.6557813921051915 and parameters: {'n_estimators': 191, 'max_depth': 3, 'learning_rate': 0.047541911293884555, 'subsample': 0.8104464715232373, 'colsample_bytree': 0.7009474045415088, 'gamma': 2.868980781512251}. Best is trial 21 with value: 0.6566151754495745.\n",
      "[I 2024-12-25 13:21:20,612] Trial 42 finished with value: 0.6564870622222401 and parameters: {'n_estimators': 164, 'max_depth': 3, 'learning_rate': 0.0756845777021005, 'subsample': 0.7441932922408321, 'colsample_bytree': 0.6251301302658023, 'gamma': 2.0664075268698108}. Best is trial 21 with value: 0.6566151754495745.\n",
      "[I 2024-12-25 13:21:21,208] Trial 43 finished with value: 0.6555531996862928 and parameters: {'n_estimators': 156, 'max_depth': 3, 'learning_rate': 0.037474330679343096, 'subsample': 0.7028914065754983, 'colsample_bytree': 0.6328669188148854, 'gamma': 1.6712329126252716}. Best is trial 21 with value: 0.6566151754495745.\n",
      "[I 2024-12-25 13:21:21,863] Trial 44 finished with value: 0.6552834539551529 and parameters: {'n_estimators': 173, 'max_depth': 4, 'learning_rate': 0.029539187365003373, 'subsample': 0.7402258501726571, 'colsample_bytree': 0.6018733929599119, 'gamma': 2.359883568733413}. Best is trial 21 with value: 0.6566151754495745.\n",
      "[I 2024-12-25 13:21:22,614] Trial 45 finished with value: 0.6503749430915818 and parameters: {'n_estimators': 215, 'max_depth': 3, 'learning_rate': 0.010070762749952025, 'subsample': 0.7462157560380285, 'colsample_bytree': 0.6654319011313837, 'gamma': 2.9240510424007953}. Best is trial 21 with value: 0.6566151754495745.\n",
      "[I 2024-12-25 13:21:23,331] Trial 46 finished with value: 0.6553270762940379 and parameters: {'n_estimators': 202, 'max_depth': 3, 'learning_rate': 0.06491895167018458, 'subsample': 0.7938045564262868, 'colsample_bytree': 0.628944426727311, 'gamma': 1.0725985702290175}. Best is trial 21 with value: 0.6566151754495745.\n",
      "[I 2024-12-25 13:21:24,107] Trial 47 finished with value: 0.6501296715256603 and parameters: {'n_estimators': 230, 'max_depth': 8, 'learning_rate': 0.05633744380956333, 'subsample': 0.7107413062765169, 'colsample_bytree': 0.723122748720459, 'gamma': 2.0110874886878385}. Best is trial 21 with value: 0.6566151754495745.\n",
      "[I 2024-12-25 13:21:24,741] Trial 48 finished with value: 0.6554394733836718 and parameters: {'n_estimators': 192, 'max_depth': 4, 'learning_rate': 0.043189482017282704, 'subsample': 0.6777872724988233, 'colsample_bytree': 0.6872906514941439, 'gamma': 3.584733025709323}. Best is trial 21 with value: 0.6566151754495745.\n",
      "[I 2024-12-25 13:21:25,419] Trial 49 finished with value: 0.6528331679055368 and parameters: {'n_estimators': 161, 'max_depth': 3, 'learning_rate': 0.021836416896995572, 'subsample': 0.6351257001673343, 'colsample_bytree': 0.6574893976051857, 'gamma': 3.0875189667686067}. Best is trial 21 with value: 0.6566151754495745.\n",
      "[I 2024-12-25 13:21:25,421] A new study created in memory with name: no-name-8b3f257d-ab06-4908-9bf8-d69382cfce65\n"
     ]
    },
    {
     "name": "stdout",
     "output_type": "stream",
     "text": [
      "Best parameters for xgboost for single: {'n_estimators': 124, 'max_depth': 3, 'learning_rate': 0.21120815391636377, 'subsample': 0.7335613640215518, 'colsample_bytree': 0.6257225435308258, 'gamma': 2.5536063772176125}\n"
     ]
    },
    {
     "name": "stderr",
     "output_type": "stream",
     "text": [
      "[I 2024-12-25 13:21:32,555] Trial 0 finished with value: 0.6216541017433858 and parameters: {'n_estimators': 93, 'max_depth': 15, 'min_samples_split': 8, 'min_samples_leaf': 9, 'max_features': 0.6626410729274074}. Best is trial 0 with value: 0.6216541017433858.\n",
      "[I 2024-12-25 13:21:37,797] Trial 1 finished with value: 0.6374849142692011 and parameters: {'n_estimators': 143, 'max_depth': 3, 'min_samples_split': 10, 'min_samples_leaf': 8, 'max_features': 0.896826348436867}. Best is trial 1 with value: 0.6374849142692011.\n",
      "[I 2024-12-25 13:21:58,470] Trial 2 finished with value: 0.6076889344354434 and parameters: {'n_estimators': 168, 'max_depth': 18, 'min_samples_split': 4, 'min_samples_leaf': 5, 'max_features': 0.9336860152492257}. Best is trial 1 with value: 0.6374849142692011.\n",
      "[I 2024-12-25 13:22:16,164] Trial 3 finished with value: 0.6425137877600542 and parameters: {'n_estimators': 284, 'max_depth': 8, 'min_samples_split': 2, 'min_samples_leaf': 7, 'max_features': 0.6653734212013477}. Best is trial 3 with value: 0.6425137877600542.\n",
      "[I 2024-12-25 13:22:29,543] Trial 4 finished with value: 0.6416477193138315 and parameters: {'n_estimators': 287, 'max_depth': 4, 'min_samples_split': 9, 'min_samples_leaf': 8, 'max_features': 0.8199020022981598}. Best is trial 3 with value: 0.6425137877600542.\n",
      "[I 2024-12-25 13:22:45,043] Trial 5 finished with value: 0.6196562446803486 and parameters: {'n_estimators': 190, 'max_depth': 14, 'min_samples_split': 4, 'min_samples_leaf': 7, 'max_features': 0.6254774700558229}. Best is trial 3 with value: 0.6425137877600542.\n",
      "[I 2024-12-25 13:23:01,479] Trial 6 finished with value: 0.6443338824036995 and parameters: {'n_estimators': 252, 'max_depth': 6, 'min_samples_split': 2, 'min_samples_leaf': 3, 'max_features': 0.8855241869599968}. Best is trial 6 with value: 0.6443338824036995.\n",
      "[I 2024-12-25 13:23:07,454] Trial 7 finished with value: 0.6170247868726888 and parameters: {'n_estimators': 57, 'max_depth': 13, 'min_samples_split': 8, 'min_samples_leaf': 6, 'max_features': 0.8648907627620799}. Best is trial 6 with value: 0.6443338824036995.\n",
      "[I 2024-12-25 13:23:30,785] Trial 8 finished with value: 0.6121802782365677 and parameters: {'n_estimators': 238, 'max_depth': 20, 'min_samples_split': 10, 'min_samples_leaf': 6, 'max_features': 0.7543956906212548}. Best is trial 6 with value: 0.6443338824036995.\n",
      "[I 2024-12-25 13:23:54,687] Trial 9 finished with value: 0.6192868905105565 and parameters: {'n_estimators': 291, 'max_depth': 14, 'min_samples_split': 3, 'min_samples_leaf': 7, 'max_features': 0.624108809830776}. Best is trial 6 with value: 0.6443338824036995.\n",
      "[I 2024-12-25 13:24:14,118] Trial 10 finished with value: 0.6401598523133712 and parameters: {'n_estimators': 221, 'max_depth': 8, 'min_samples_split': 6, 'min_samples_leaf': 2, 'max_features': 0.9731317036289137}. Best is trial 6 with value: 0.6443338824036995.\n",
      "[I 2024-12-25 13:24:32,687] Trial 11 finished with value: 0.6416219415336424 and parameters: {'n_estimators': 254, 'max_depth': 8, 'min_samples_split': 2, 'min_samples_leaf': 3, 'max_features': 0.7391627780236218}. Best is trial 6 with value: 0.6443338824036995.\n",
      "[I 2024-12-25 13:24:49,441] Trial 12 finished with value: 0.6421539531524761 and parameters: {'n_estimators': 263, 'max_depth': 8, 'min_samples_split': 2, 'min_samples_leaf': 4, 'max_features': 0.6965651833184549}. Best is trial 6 with value: 0.6443338824036995.\n",
      "[I 2024-12-25 13:25:01,799] Trial 13 finished with value: 0.6441358803894365 and parameters: {'n_estimators': 206, 'max_depth': 6, 'min_samples_split': 5, 'min_samples_leaf': 1, 'max_features': 0.8263838968854175}. Best is trial 6 with value: 0.6443338824036995.\n",
      "[I 2024-12-25 13:25:13,643] Trial 14 finished with value: 0.643723076856294 and parameters: {'n_estimators': 204, 'max_depth': 5, 'min_samples_split': 6, 'min_samples_leaf': 1, 'max_features': 0.8248535258158608}. Best is trial 6 with value: 0.6443338824036995.\n",
      "[I 2024-12-25 13:25:28,626] Trial 15 finished with value: 0.6237876226176321 and parameters: {'n_estimators': 150, 'max_depth': 11, 'min_samples_split': 5, 'min_samples_leaf': 1, 'max_features': 0.883556542959844}. Best is trial 6 with value: 0.6443338824036995.\n",
      "[I 2024-12-25 13:25:44,090] Trial 16 finished with value: 0.6437748749067848 and parameters: {'n_estimators': 224, 'max_depth': 6, 'min_samples_split': 4, 'min_samples_leaf': 3, 'max_features': 0.9796066153109158}. Best is trial 6 with value: 0.6443338824036995.\n",
      "[I 2024-12-25 13:25:56,129] Trial 17 finished with value: 0.6240406469391576 and parameters: {'n_estimators': 131, 'max_depth': 11, 'min_samples_split': 7, 'min_samples_leaf': 3, 'max_features': 0.7887251742433566}. Best is trial 6 with value: 0.6443338824036995.\n",
      "[I 2024-12-25 13:26:07,814] Trial 18 finished with value: 0.6442151638131465 and parameters: {'n_estimators': 185, 'max_depth': 6, 'min_samples_split': 5, 'min_samples_leaf': 2, 'max_features': 0.8550492771161589}. Best is trial 6 with value: 0.6443338824036995.\n",
      "[I 2024-12-25 13:26:18,972] Trial 19 finished with value: 0.6288935526194415 and parameters: {'n_estimators': 113, 'max_depth': 10, 'min_samples_split': 3, 'min_samples_leaf': 4, 'max_features': 0.9121930429681963}. Best is trial 6 with value: 0.6443338824036995.\n",
      "[I 2024-12-25 13:26:25,903] Trial 20 finished with value: 0.6369303076577809 and parameters: {'n_estimators': 163, 'max_depth': 3, 'min_samples_split': 5, 'min_samples_leaf': 2, 'max_features': 0.9369900985371207}. Best is trial 6 with value: 0.6443338824036995.\n",
      "[I 2024-12-25 13:26:38,496] Trial 21 finished with value: 0.6441868445441677 and parameters: {'n_estimators': 193, 'max_depth': 6, 'min_samples_split': 5, 'min_samples_leaf': 1, 'max_features': 0.8600648948463054}. Best is trial 6 with value: 0.6443338824036995.\n",
      "[I 2024-12-25 13:26:54,972] Trial 22 finished with value: 0.6443255724744937 and parameters: {'n_estimators': 253, 'max_depth': 6, 'min_samples_split': 7, 'min_samples_leaf': 2, 'max_features': 0.8606097034516219}. Best is trial 6 with value: 0.6443338824036995.\n",
      "[I 2024-12-25 13:27:17,446] Trial 23 finished with value: 0.6363244306958226 and parameters: {'n_estimators': 261, 'max_depth': 9, 'min_samples_split': 7, 'min_samples_leaf': 2, 'max_features': 0.8513634723558502}. Best is trial 6 with value: 0.6443338824036995.\n",
      "[I 2024-12-25 13:27:29,497] Trial 24 finished with value: 0.6444361752959961 and parameters: {'n_estimators': 239, 'max_depth': 5, 'min_samples_split': 7, 'min_samples_leaf': 4, 'max_features': 0.7811766659212938}. Best is trial 24 with value: 0.6444361752959961.\n",
      "[I 2024-12-25 13:27:39,978] Trial 25 finished with value: 0.6417458293640855 and parameters: {'n_estimators': 243, 'max_depth': 4, 'min_samples_split': 7, 'min_samples_leaf': 4, 'max_features': 0.7919422626766981}. Best is trial 24 with value: 0.6444361752959961.\n",
      "[I 2024-12-25 13:27:54,119] Trial 26 finished with value: 0.6445890851106295 and parameters: {'n_estimators': 271, 'max_depth': 5, 'min_samples_split': 8, 'min_samples_leaf': 5, 'max_features': 0.7522759637156602}. Best is trial 26 with value: 0.6445890851106295.\n",
      "[I 2024-12-25 13:28:07,667] Trial 27 finished with value: 0.644644719131212 and parameters: {'n_estimators': 279, 'max_depth': 5, 'min_samples_split': 8, 'min_samples_leaf': 5, 'max_features': 0.7499290115944743}. Best is trial 27 with value: 0.644644719131212.\n",
      "[I 2024-12-25 13:28:20,503] Trial 28 finished with value: 0.6418455869909697 and parameters: {'n_estimators': 299, 'max_depth': 4, 'min_samples_split': 9, 'min_samples_leaf': 5, 'max_features': 0.7441979760829148}. Best is trial 27 with value: 0.644644719131212.\n",
      "[I 2024-12-25 13:28:42,296] Trial 29 finished with value: 0.6229533278937751 and parameters: {'n_estimators': 276, 'max_depth': 16, 'min_samples_split': 8, 'min_samples_leaf': 10, 'max_features': 0.6951786449268869}. Best is trial 27 with value: 0.644644719131212.\n",
      "[I 2024-12-25 13:29:02,969] Trial 30 finished with value: 0.637002205163925 and parameters: {'n_estimators': 271, 'max_depth': 9, 'min_samples_split': 8, 'min_samples_leaf': 5, 'max_features': 0.7183775758283654}. Best is trial 27 with value: 0.644644719131212.\n",
      "[I 2024-12-25 13:29:14,378] Trial 31 finished with value: 0.6444396617747111 and parameters: {'n_estimators': 229, 'max_depth': 5, 'min_samples_split': 9, 'min_samples_leaf': 4, 'max_features': 0.7740941502347607}. Best is trial 27 with value: 0.644644719131212.\n",
      "[I 2024-12-25 13:29:21,598] Trial 32 finished with value: 0.6378595138206856 and parameters: {'n_estimators': 225, 'max_depth': 3, 'min_samples_split': 9, 'min_samples_leaf': 4, 'max_features': 0.7776308556011617}. Best is trial 27 with value: 0.644644719131212.\n",
      "[I 2024-12-25 13:29:33,359] Trial 33 finished with value: 0.6445627196183151 and parameters: {'n_estimators': 236, 'max_depth': 5, 'min_samples_split': 10, 'min_samples_leaf': 5, 'max_features': 0.764714722514904}. Best is trial 27 with value: 0.644644719131212.\n",
      "[I 2024-12-25 13:29:50,228] Trial 34 finished with value: 0.6444605677880686 and parameters: {'n_estimators': 271, 'max_depth': 7, 'min_samples_split': 10, 'min_samples_leaf': 6, 'max_features': 0.7591022168955975}. Best is trial 27 with value: 0.644644719131212.\n",
      "[I 2024-12-25 13:30:06,185] Trial 35 finished with value: 0.6444836468633243 and parameters: {'n_estimators': 273, 'max_depth': 7, 'min_samples_split': 10, 'min_samples_leaf': 6, 'max_features': 0.7145688584173383}. Best is trial 27 with value: 0.644644719131212.\n",
      "[I 2024-12-25 13:30:13,666] Trial 36 finished with value: 0.6385564740459909 and parameters: {'n_estimators': 281, 'max_depth': 3, 'min_samples_split': 10, 'min_samples_leaf': 8, 'max_features': 0.6632681261009563}. Best is trial 27 with value: 0.644644719131212.\n",
      "[I 2024-12-25 13:30:30,391] Trial 37 finished with value: 0.6444668336457077 and parameters: {'n_estimators': 295, 'max_depth': 7, 'min_samples_split': 9, 'min_samples_leaf': 5, 'max_features': 0.7242110787149475}. Best is trial 27 with value: 0.644644719131212.\n",
      "[I 2024-12-25 13:30:40,043] Trial 38 finished with value: 0.6431408417358225 and parameters: {'n_estimators': 281, 'max_depth': 4, 'min_samples_split': 10, 'min_samples_leaf': 7, 'max_features': 0.6921632791208917}. Best is trial 27 with value: 0.644644719131212.\n",
      "[I 2024-12-25 13:30:53,081] Trial 39 finished with value: 0.6447694362014355 and parameters: {'n_estimators': 266, 'max_depth': 7, 'min_samples_split': 10, 'min_samples_leaf': 6, 'max_features': 0.6423462096778475}. Best is trial 39 with value: 0.6447694362014355.\n",
      "[I 2024-12-25 13:30:56,660] Trial 40 finished with value: 0.6358265247910593 and parameters: {'n_estimators': 61, 'max_depth': 9, 'min_samples_split': 9, 'min_samples_leaf': 7, 'max_features': 0.6467716374633312}. Best is trial 39 with value: 0.6447694362014355.\n",
      "[I 2024-12-25 13:31:09,505] Trial 41 finished with value: 0.6447414319238421 and parameters: {'n_estimators': 268, 'max_depth': 7, 'min_samples_split': 10, 'min_samples_leaf': 6, 'max_features': 0.6790074993805949}. Best is trial 39 with value: 0.6447694362014355.\n",
      "[I 2024-12-25 13:31:19,242] Trial 42 finished with value: 0.6450689470995091 and parameters: {'n_estimators': 242, 'max_depth': 5, 'min_samples_split': 8, 'min_samples_leaf': 5, 'max_features': 0.6024265920185181}. Best is trial 42 with value: 0.6450689470995091.\n",
      "[I 2024-12-25 13:31:33,692] Trial 43 finished with value: 0.644840833318005 and parameters: {'n_estimators': 249, 'max_depth': 7, 'min_samples_split': 8, 'min_samples_leaf': 6, 'max_features': 0.616685340466168}. Best is trial 42 with value: 0.6450689470995091.\n",
      "[I 2024-12-25 13:31:47,940] Trial 44 finished with value: 0.6448236044128427 and parameters: {'n_estimators': 252, 'max_depth': 7, 'min_samples_split': 8, 'min_samples_leaf': 6, 'max_features': 0.6047237263866583}. Best is trial 42 with value: 0.6450689470995091.\n",
      "[I 2024-12-25 13:32:06,241] Trial 45 finished with value: 0.6323072428898847 and parameters: {'n_estimators': 249, 'max_depth': 10, 'min_samples_split': 9, 'min_samples_leaf': 6, 'max_features': 0.6051241702759483}. Best is trial 42 with value: 0.6450689470995091.\n",
      "[I 2024-12-25 13:32:18,499] Trial 46 finished with value: 0.6448659186186297 and parameters: {'n_estimators': 209, 'max_depth': 7, 'min_samples_split': 8, 'min_samples_leaf': 7, 'max_features': 0.6029979227578368}. Best is trial 42 with value: 0.6450689470995091.\n",
      "[I 2024-12-25 13:32:34,753] Trial 47 finished with value: 0.623169598848499 and parameters: {'n_estimators': 209, 'max_depth': 12, 'min_samples_split': 8, 'min_samples_leaf': 7, 'max_features': 0.6037045424004799}. Best is trial 42 with value: 0.6450689470995091.\n",
      "[I 2024-12-25 13:32:48,356] Trial 48 finished with value: 0.6422446808509115 and parameters: {'n_estimators': 213, 'max_depth': 8, 'min_samples_split': 6, 'min_samples_leaf': 8, 'max_features': 0.6366898568990242}. Best is trial 42 with value: 0.6450689470995091.\n",
      "[I 2024-12-25 13:33:07,244] Trial 49 finished with value: 0.6339395017790272 and parameters: {'n_estimators': 259, 'max_depth': 10, 'min_samples_split': 7, 'min_samples_leaf': 9, 'max_features': 0.6214852173633395}. Best is trial 42 with value: 0.6450689470995091.\n"
     ]
    },
    {
     "name": "stdout",
     "output_type": "stream",
     "text": [
      "Best parameters for random_forest for single: {'n_estimators': 242, 'max_depth': 5, 'min_samples_split': 8, 'min_samples_leaf': 5, 'max_features': 0.6024265920185181}\n",
      "xgboost AUC for treatment: 0.6240\n",
      "xgboost Log Loss for treatment: 0.4090\n",
      "random_forest AUC for treatment: 0.6186\n",
      "random_forest Log Loss for treatment: 0.4105\n",
      "xgboost AUC for control: 0.6198\n",
      "xgboost Log Loss for control: 0.4142\n",
      "random_forest AUC for control: 0.6169\n",
      "random_forest Log Loss for control: 0.4156\n",
      "xgboost AUC for single_1: 0.6231\n",
      "xgboost Log Loss for single_1: 0.4091\n",
      "random_forest AUC for single_1: 0.6193\n",
      "random_forest Log Loss for single_1: 0.4103\n",
      "xgboost AUC for single_0: 0.6214\n",
      "xgboost Log Loss for single_0: 0.4138\n",
      "random_forest AUC for single_0: 0.6143\n",
      "random_forest Log Loss for single_0: 0.4157\n",
      "CPU times: total: 40min 37s\n",
      "Wall time: 21min 11s\n"
     ]
    }
   ],
   "source": [
    "%%time\n",
    "# Execute the Two-Model Approach with Optuna usng function \"two_model_approach_with_optuna\"\n",
    "model_treatment_xgboost, preds_treatment_xgboost, model_treatment_randomforest, preds_treatment_randomforest, model_control_xgboost, preds_control_xgboost, model_control_randomforest, preds_control_randomforest, model_single_1_xgboost, preds_single_1_xgboost, model_single_1_randomforest, preds_single_1_randomforest, model_single_0_xgboost, preds_single_0_xgboost, model_single_0_randomforest, preds_single_0_randomforest = two_model_approach_with_optuna(X_train, X_test, y_train, y_test, t_train)"
   ]
  },
  {
   "cell_type": "code",
   "execution_count": 24,
   "metadata": {},
   "outputs": [],
   "source": [
    "# Uplift scores\n",
    "def create_uplift_scores(preds_treatment_xgboost,\n",
    "                        preds_control_xgboost,\n",
    "                        preds_treatment_randomforest,\n",
    "                        preds_control_randomforest,\n",
    "                        preds_single_1_xgboost,\n",
    "                        preds_single_1_randomforest,\n",
    "                        preds_single_0_xgboost,\n",
    "                        preds_single_0_randomforest):\n",
    "\n",
    "    uplift_two_model_rf = preds_treatment_randomforest - preds_control_randomforest\n",
    "\n",
    "    uplift_two_model_xg = preds_treatment_xgboost - preds_control_xgboost\n",
    "\n",
    "    uplift_single_model_xg = preds_single_1_xgboost - preds_single_0_xgboost\n",
    "    \n",
    "    uplift_single_model_rf = preds_single_1_randomforest - preds_single_0_randomforest\n",
    "    \n",
    "    return uplift_two_model_rf, uplift_two_model_xg, uplift_single_model_xg, uplift_single_model_rf\n",
    "\n",
    "uplift_two_model_rf, uplift_two_model_xg, uplift_single_model_xg, uplift_single_model_rf = create_uplift_scores(preds_treatment_xgboost,\n",
    "                                                                                                                preds_control_xgboost,\n",
    "                                                                                                                preds_treatment_randomforest,\n",
    "                                                                                                                preds_control_randomforest,\n",
    "                                                                                                                preds_single_1_xgboost,\n",
    "                                                                                                                preds_single_1_randomforest,\n",
    "                                                                                                                preds_single_0_xgboost,\n",
    "                                                                                                                preds_single_0_randomforest\n",
    "                                                                                                                )"
   ]
  },
  {
   "cell_type": "markdown",
   "metadata": {},
   "source": [
    "## Compare Two-Model Approaches and Single-Model Approaches"
   ]
  },
  {
   "cell_type": "markdown",
   "metadata": {},
   "source": [
    "### sklift Qini AUC Score"
   ]
  },
  {
   "cell_type": "code",
   "execution_count": 25,
   "metadata": {},
   "outputs": [
    {
     "name": "stdout",
     "output_type": "stream",
     "text": [
      "\n",
      "### Qini Score Comparison ###\n",
      "             Model  Qini Score\n",
      "0     Two-Model RF    0.017310\n",
      "1     Two-Model XG    0.006858\n",
      "2  Single-Model RF    0.014760\n",
      "3  Single-Model XG    0.012993\n"
     ]
    }
   ],
   "source": [
    "# Let's try sklift's qini auc score\n",
    "qini_two_model_rf = qini_auc_score(y_test, uplift_two_model_rf, t_test)\n",
    "qini_two_model_xg = qini_auc_score(y_test, uplift_two_model_xg, t_test)\n",
    "qini_single_model_rf = qini_auc_score(y_test, uplift_single_model_rf, t_test)\n",
    "qini_single_model_xg = qini_auc_score(y_test, uplift_single_model_xg, t_test)\n",
    "\n",
    "comparison_df = pd.DataFrame({\n",
    "    'Model': ['Two-Model RF', 'Two-Model XG', 'Single-Model RF', 'Single-Model XG'],\n",
    "    'Qini Score': [qini_two_model_rf, qini_two_model_xg, qini_single_model_rf, qini_single_model_xg]\n",
    "})\n",
    "print(\"\\n### Qini Score Comparison ###\")\n",
    "print(comparison_df)\n",
    "\n",
    "# We can see initially that the XG, despite outperforming the RF on the individual models by a bit, does not outperform the random forest in the uplift model scenario\n",
    "# The Two-Model RF beats out the single model RF by a little bit as well. Let's continue on."
   ]
  },
  {
   "cell_type": "markdown",
   "metadata": {},
   "source": [
    "### Manual Qini Score"
   ]
  },
  {
   "cell_type": "code",
   "execution_count": 26,
   "metadata": {},
   "outputs": [],
   "source": [
    "# Let's now try a manual calculation of the Qini Score\n",
    "def calculate_uplift_metrics(df,uplift, n_groups=5):\n",
    "    \"\"\"\n",
    "    Calculate common uplift model evaluation metrics.\n",
    "    \n",
    "    Parameters:\n",
    "    y_true: array-like, actual outcome (visits)\n",
    "    treatment: array-like, treatment indicator (0/1)\n",
    "    uplift_scores: array-like, predicted uplift scores\n",
    "    n_groups: int, number of groups for AUUC calculation\n",
    "    \n",
    "    Returns:\n",
    "    dict with uplift metrics\n",
    "    \"\"\"\n",
    "    # Sort by uplift scores\n",
    "    df = df.sort_values(by=uplift, ascending=False)\n",
    "    y_true = df['y_true'].values\n",
    "    treatment = df['treatment'].values\n",
    "    \n",
    "    # Calculate cumulative gains\n",
    "    n_samples = len(y_true)\n",
    "    group_size = n_samples // n_groups\n",
    "    \n",
    "    gains = []\n",
    "    for i in range(n_groups):\n",
    "        start_idx = i * group_size\n",
    "        end_idx = (i + 1) * group_size if i < n_groups - 1 else n_samples\n",
    "        \n",
    "        group_treat = treatment[start_idx:end_idx]\n",
    "        group_outcome = y_true[start_idx:end_idx]\n",
    "        \n",
    "        # Calculate treatment and control response rates\n",
    "        treat_rate = np.mean(group_outcome[group_treat == 1])\n",
    "        ctrl_rate = np.mean(group_outcome[group_treat == 0])\n",
    "        \n",
    "        # Calculate uplift\n",
    "        uplift = treat_rate - ctrl_rate\n",
    "        gains.append(uplift)\n",
    "    \n",
    "    # Calculate metrics\n",
    "    metrics = {\n",
    "        'AUUC': np.trapz(gains) / len(gains),  # Area Under the Uplift Curve\n",
    "        'Qini': np.sum(gains),  # Qini coefficient\n",
    "        'top_group_uplift': gains[0],  # Uplift in highest scored group\n",
    "        'uplift_by_group': gains\n",
    "    }\n",
    "    \n",
    "    return metrics"
   ]
  },
  {
   "cell_type": "code",
   "execution_count": 27,
   "metadata": {},
   "outputs": [
    {
     "data": {
      "text/html": [
       "<div>\n",
       "<style scoped>\n",
       "    .dataframe tbody tr th:only-of-type {\n",
       "        vertical-align: middle;\n",
       "    }\n",
       "\n",
       "    .dataframe tbody tr th {\n",
       "        vertical-align: top;\n",
       "    }\n",
       "\n",
       "    .dataframe thead th {\n",
       "        text-align: right;\n",
       "    }\n",
       "</style>\n",
       "<table border=\"1\" class=\"dataframe\">\n",
       "  <thead>\n",
       "    <tr style=\"text-align: right;\">\n",
       "      <th></th>\n",
       "      <th>y_true</th>\n",
       "      <th>treatment</th>\n",
       "      <th>uplift_tm_rf</th>\n",
       "      <th>uplift_tm_xg</th>\n",
       "      <th>uplift_sm_rf</th>\n",
       "      <th>uplift_sm_xg</th>\n",
       "    </tr>\n",
       "  </thead>\n",
       "  <tbody>\n",
       "    <tr>\n",
       "      <th>493</th>\n",
       "      <td>0</td>\n",
       "      <td>0</td>\n",
       "      <td>0.069685</td>\n",
       "      <td>0.083539</td>\n",
       "      <td>0.073835</td>\n",
       "      <td>0.097123</td>\n",
       "    </tr>\n",
       "    <tr>\n",
       "      <th>21569</th>\n",
       "      <td>0</td>\n",
       "      <td>1</td>\n",
       "      <td>0.057508</td>\n",
       "      <td>0.070994</td>\n",
       "      <td>0.059944</td>\n",
       "      <td>0.058286</td>\n",
       "    </tr>\n",
       "    <tr>\n",
       "      <th>3531</th>\n",
       "      <td>0</td>\n",
       "      <td>0</td>\n",
       "      <td>0.098227</td>\n",
       "      <td>0.089518</td>\n",
       "      <td>0.088244</td>\n",
       "      <td>0.073780</td>\n",
       "    </tr>\n",
       "    <tr>\n",
       "      <th>50370</th>\n",
       "      <td>1</td>\n",
       "      <td>1</td>\n",
       "      <td>0.057569</td>\n",
       "      <td>0.075083</td>\n",
       "      <td>0.074855</td>\n",
       "      <td>0.081666</td>\n",
       "    </tr>\n",
       "    <tr>\n",
       "      <th>38375</th>\n",
       "      <td>0</td>\n",
       "      <td>1</td>\n",
       "      <td>0.040141</td>\n",
       "      <td>0.092262</td>\n",
       "      <td>0.069682</td>\n",
       "      <td>0.197698</td>\n",
       "    </tr>\n",
       "  </tbody>\n",
       "</table>\n",
       "</div>"
      ],
      "text/plain": [
       "       y_true  treatment  uplift_tm_rf  uplift_tm_xg  uplift_sm_rf  \\\n",
       "493         0          0      0.069685      0.083539      0.073835   \n",
       "21569       0          1      0.057508      0.070994      0.059944   \n",
       "3531        0          0      0.098227      0.089518      0.088244   \n",
       "50370       1          1      0.057569      0.075083      0.074855   \n",
       "38375       0          1      0.040141      0.092262      0.069682   \n",
       "\n",
       "       uplift_sm_xg  \n",
       "493        0.097123  \n",
       "21569      0.058286  \n",
       "3531       0.073780  \n",
       "50370      0.081666  \n",
       "38375      0.197698  "
      ]
     },
     "execution_count": 27,
     "metadata": {},
     "output_type": "execute_result"
    }
   ],
   "source": [
    "# Create a dataframe with test results\n",
    "results_df = pd.DataFrame({\n",
    "    'y_true': y_test,               # Actual outcomes\n",
    "    'treatment': t_test,            # Treatment indicators\n",
    "    'uplift_tm_rf': uplift_two_model_rf,         # Uplift predictions from Random Forest\n",
    "    'uplift_tm_xg': uplift_two_model_xg,        # Uplift predictions from XGBoost\n",
    "    'uplift_sm_rf' : uplift_single_model_rf,\n",
    "    'uplift_sm_xg' : uplift_single_model_xg\n",
    "})\n",
    "results_df.head()"
   ]
  },
  {
   "cell_type": "code",
   "execution_count": 28,
   "metadata": {},
   "outputs": [],
   "source": [
    "xg_tm_metrics = calculate_uplift_metrics(\n",
    "   df=results_df,\n",
    "   uplift='uplift_tm_xg'\n",
    "   )\n",
    "\n",
    "rf_tm_metrics = calculate_uplift_metrics(\n",
    "   df=results_df,\n",
    "   uplift='uplift_tm_rf'\n",
    "   )\n",
    "\n",
    "xg_sm_metrics = calculate_uplift_metrics(\n",
    "   df=results_df,\n",
    "   uplift='uplift_sm_xg'\n",
    "   )\n",
    "\n",
    "rf_sm_metrics = calculate_uplift_metrics(\n",
    "   df=results_df,\n",
    "   uplift='uplift_sm_rf'\n",
    "   )"
   ]
  },
  {
   "cell_type": "code",
   "execution_count": 29,
   "metadata": {},
   "outputs": [
    {
     "name": "stdout",
     "output_type": "stream",
     "text": [
      "{'AUUC': 0.057219975208310445, 'Qini': 0.36783620154785457, 'top_group_uplift': 0.08893052647048016, 'uplift_by_group': [0.08893052647048016, 0.06642691728033523, 0.07664368548021701, 0.061292947774697654, 0.07454212454212453]}\n",
      "{'AUUC': 0.05400162074339883, 'Qini': 0.3686553119270587, 'top_group_uplift': 0.11137305088741453, 'uplift_by_group': [0.11137305088741453, 0.041893530254601574, 0.06051481123179976, 0.06895255402052816, 0.08592136553271468]}\n",
      "{'AUUC': 0.056109643547107804, 'Qini': 0.36805264539410015, 'top_group_uplift': 0.0909234513477522, 'uplift_by_group': [0.0909234513477522, 0.07932253604219262, 0.0570669896865927, 0.05665426434819244, 0.08408540396937021]}\n",
      "{'AUUC': 0.058685036198826146, 'Qini': 0.36561553029207805, 'top_group_uplift': 0.08417034892299743, 'uplift_by_group': [0.08417034892299743, 0.0727964091808934, 0.06583982144551975, 0.08259860106977017, 0.06021034967289729]}\n"
     ]
    }
   ],
   "source": [
    "print(rf_tm_metrics)\n",
    "print(xg_tm_metrics)\n",
    "print(rf_sm_metrics)\n",
    "print(xg_sm_metrics)\n",
    "# So here we are seeing the qini scores much higher and more similar.\n",
    "# The XGBoost models win in this scenario\n",
    "# For the AUUC, the RF wins for the TM but the XG wins for the SM"
   ]
  },
  {
   "cell_type": "markdown",
   "metadata": {},
   "source": [
    "### CausalML AUUC Score"
   ]
  },
  {
   "cell_type": "code",
   "execution_count": 30,
   "metadata": {},
   "outputs": [
    {
     "name": "stdout",
     "output_type": "stream",
     "text": [
      "uplift_tm_rf    0.529380\n",
      "uplift_tm_xg    0.510113\n",
      "uplift_sm_rf    0.526464\n",
      "uplift_sm_xg    0.523055\n",
      "Random          0.514123\n",
      "dtype: float64\n"
     ]
    }
   ],
   "source": [
    "auuc_calc = auuc_score(\n",
    "        df=results_df,\n",
    "        outcome_col=\"y_true\",\n",
    "        treatment_col=\"treatment\",\n",
    "        treatment_effect_col=None\n",
    "    )\n",
    "print(auuc_calc)\n",
    "# Boy this a bummer, looks like the RF win in this case with the two model RF coming in first, but not much better than random, yikes."
   ]
  },
  {
   "cell_type": "markdown",
   "metadata": {},
   "source": [
    "### Decile Chart?"
   ]
  },
  {
   "cell_type": "code",
   "execution_count": 31,
   "metadata": {},
   "outputs": [],
   "source": [
    "results_df = results_df.sort_values(by='uplift_tm_rf', ascending=False)"
   ]
  },
  {
   "cell_type": "code",
   "execution_count": 32,
   "metadata": {},
   "outputs": [],
   "source": [
    "results_df['decile_tm_rf'] = pd.qcut(results_df['uplift_tm_rf'], 10, labels=False, duplicates='drop', ) + 1\n"
   ]
  },
  {
   "cell_type": "code",
   "execution_count": 33,
   "metadata": {},
   "outputs": [
    {
     "name": "stderr",
     "output_type": "stream",
     "text": [
      "C:\\Users\\wallj\\AppData\\Local\\Temp\\ipykernel_22012\\3131367042.py:7: DeprecationWarning: DataFrameGroupBy.apply operated on the grouping columns. This behavior is deprecated, and in a future version of pandas the grouping columns will be excluded from the operation. Either pass `include_groups=False` to exclude the groupings or explicitly select the grouping columns after groupby to silence this warning.\n",
      "  decile_uplift = results_df.groupby('decile_tm_rf').apply(calculate_uplift).reset_index(name='observed_uplift_tm_rf')\n"
     ]
    }
   ],
   "source": [
    "def calculate_uplift(df):\n",
    "    treated = df[df['treatment'] == 1]['y_true'].mean()\n",
    "    control = df[df['treatment'] == 0]['y_true'].mean()\n",
    "    return treated - control\n",
    "\n",
    "# Group by decile and calculate observed uplift\n",
    "decile_uplift = results_df.groupby('decile_tm_rf').apply(calculate_uplift).reset_index(name='observed_uplift_tm_rf')"
   ]
  },
  {
   "cell_type": "code",
   "execution_count": 34,
   "metadata": {},
   "outputs": [
    {
     "name": "stderr",
     "output_type": "stream",
     "text": [
      "C:\\Users\\wallj\\AppData\\Local\\Temp\\ipykernel_22012\\1261464934.py:2: FutureWarning: \n",
      "\n",
      "Passing `palette` without assigning `hue` is deprecated and will be removed in v0.14.0. Assign the `x` variable to `hue` and set `legend=False` for the same effect.\n",
      "\n",
      "  sns.barplot(x='decile_tm_rf', y='observed_uplift_tm_rf', data=decile_uplift, palette='Blues_d')\n"
     ]
    },
    {
     "data": {
      "image/png": "[encoded data removed]",
      "text/plain": [
       "<Figure size 640x480 with 1 Axes>"
      ]
     },
     "metadata": {},
     "output_type": "display_data"
    }
   ],
   "source": [
    "# Plot the observed uplift by decile\n",
    "sns.barplot(x='decile_tm_rf', y='observed_uplift_tm_rf', data=decile_uplift, palette='Blues_d')\n",
    "plt.title('Uplift Decile Chart')\n",
    "plt.xlabel('Decile (Ranked by Predicted Uplift)')\n",
    "plt.ylabel('Observed Uplift')\n",
    "plt.show()"
   ]
  },
  {
   "cell_type": "markdown",
   "metadata": {},
   "source": [
    "This is terrible"
   ]
  },
  {
   "cell_type": "markdown",
   "metadata": {},
   "source": [
    "### Fake Qini Curve"
   ]
  },
  {
   "cell_type": "code",
   "execution_count": 113,
   "metadata": {},
   "outputs": [
    {
     "data": {
      "image/png": "[encoded data removed]",
      "text/plain": [
       "<Figure size 800x600 with 1 Axes>"
      ]
     },
     "metadata": {},
     "output_type": "display_data"
    }
   ],
   "source": [
    "import matplotlib.pyplot as plt\n",
    "import numpy as np\n",
    "\n",
    "# Create data for a Qini curve\n",
    "population_targeted = np.linspace(0, 1, 100)  # Proportion of population targeted (X-axis)\n",
    "random_gain = population_targeted  # Baseline (random targeting)\n",
    "ideal_gain = np.minimum(population_targeted * 1.5, 1.0)  # Ideal model (optimistic upper bound)\n",
    "model_gain = np.minimum(population_targeted * 1.2, 1.0)  # Typical uplift model\n",
    "\n",
    "# Plot the Qini curve\n",
    "plt.figure(figsize=(8, 6))\n",
    "plt.plot(population_targeted, ideal_gain, label=\"Ideal Model\", linestyle=\"--\", color=\"green\")\n",
    "plt.plot(population_targeted, model_gain, label=\"Actual Model\", color=\"blue\")\n",
    "plt.plot(population_targeted, random_gain, label=\"Random Targeting\", linestyle=\"--\", color=\"red\")\n",
    "plt.fill_between(population_targeted, random_gain, model_gain, color=\"blue\", alpha=0.2, label=\"Qini Gain Area\")\n",
    "\n",
    "# Customize plot\n",
    "plt.title(\"Qini Curve (Theoretical)\")\n",
    "plt.xlabel(\"Proportion of Population Targeted\")\n",
    "plt.ylabel(\"Cumulative Uplift\")\n",
    "plt.legend(loc=\"lower right\")\n",
    "plt.grid(True)\n",
    "plt.show()\n"
   ]
  },
  {
   "cell_type": "markdown",
   "metadata": {},
   "source": [
    "### Qini Curve from Kaggle"
   ]
  },
  {
   "cell_type": "code",
   "execution_count": 45,
   "metadata": {},
   "outputs": [],
   "source": [
    "results_df['target_class'] = 0  # Initialize column\n",
    "results_df.loc[(results_df['treatment'] == 0) & (results_df['y_true'] == 1), 'target_class'] = 1\n",
    "results_df.loc[(results_df['treatment'] == 1) & (results_df['y_true'] == 0), 'target_class'] = 2\n",
    "results_df.loc[(results_df['treatment'] == 1) & (results_df['y_true'] == 1), 'target_class'] = 3"
   ]
  },
  {
   "cell_type": "code",
   "execution_count": 46,
   "metadata": {},
   "outputs": [
    {
     "data": {
      "text/html": [
       "<div>\n",
       "<style scoped>\n",
       "    .dataframe tbody tr th:only-of-type {\n",
       "        vertical-align: middle;\n",
       "    }\n",
       "\n",
       "    .dataframe tbody tr th {\n",
       "        vertical-align: top;\n",
       "    }\n",
       "\n",
       "    .dataframe thead th {\n",
       "        text-align: right;\n",
       "    }\n",
       "</style>\n",
       "<table border=\"1\" class=\"dataframe\">\n",
       "  <thead>\n",
       "    <tr style=\"text-align: right;\">\n",
       "      <th></th>\n",
       "      <th>y_true</th>\n",
       "      <th>treatment</th>\n",
       "      <th>uplift_tm_rf</th>\n",
       "      <th>uplift_tm_xg</th>\n",
       "      <th>uplift_sm_rf</th>\n",
       "      <th>uplift_sm_xg</th>\n",
       "      <th>decile_tm_rf</th>\n",
       "      <th>target_class</th>\n",
       "    </tr>\n",
       "  </thead>\n",
       "  <tbody>\n",
       "    <tr>\n",
       "      <th>53911</th>\n",
       "      <td>0</td>\n",
       "      <td>1</td>\n",
       "      <td>0.168605</td>\n",
       "      <td>0.164706</td>\n",
       "      <td>0.145198</td>\n",
       "      <td>0.144070</td>\n",
       "      <td>10</td>\n",
       "      <td>2</td>\n",
       "    </tr>\n",
       "    <tr>\n",
       "      <th>29341</th>\n",
       "      <td>1</td>\n",
       "      <td>1</td>\n",
       "      <td>0.166645</td>\n",
       "      <td>0.164706</td>\n",
       "      <td>0.147890</td>\n",
       "      <td>0.144070</td>\n",
       "      <td>10</td>\n",
       "      <td>3</td>\n",
       "    </tr>\n",
       "    <tr>\n",
       "      <th>23099</th>\n",
       "      <td>1</td>\n",
       "      <td>1</td>\n",
       "      <td>0.166518</td>\n",
       "      <td>0.130085</td>\n",
       "      <td>0.140903</td>\n",
       "      <td>0.132513</td>\n",
       "      <td>10</td>\n",
       "      <td>3</td>\n",
       "    </tr>\n",
       "    <tr>\n",
       "      <th>19352</th>\n",
       "      <td>0</td>\n",
       "      <td>1</td>\n",
       "      <td>0.165870</td>\n",
       "      <td>0.150906</td>\n",
       "      <td>0.139332</td>\n",
       "      <td>0.138003</td>\n",
       "      <td>10</td>\n",
       "      <td>2</td>\n",
       "    </tr>\n",
       "    <tr>\n",
       "      <th>8025</th>\n",
       "      <td>0</td>\n",
       "      <td>0</td>\n",
       "      <td>0.163861</td>\n",
       "      <td>0.153306</td>\n",
       "      <td>0.144847</td>\n",
       "      <td>0.138467</td>\n",
       "      <td>10</td>\n",
       "      <td>0</td>\n",
       "    </tr>\n",
       "  </tbody>\n",
       "</table>\n",
       "</div>"
      ],
      "text/plain": [
       "       y_true  treatment  uplift_tm_rf  uplift_tm_xg  uplift_sm_rf  \\\n",
       "53911       0          1      0.168605      0.164706      0.145198   \n",
       "29341       1          1      0.166645      0.164706      0.147890   \n",
       "23099       1          1      0.166518      0.130085      0.140903   \n",
       "19352       0          1      0.165870      0.150906      0.139332   \n",
       "8025        0          0      0.163861      0.153306      0.144847   \n",
       "\n",
       "       uplift_sm_xg  decile_tm_rf  target_class  \n",
       "53911      0.144070            10             2  \n",
       "29341      0.144070            10             3  \n",
       "23099      0.132513            10             3  \n",
       "19352      0.138003            10             2  \n",
       "8025       0.138467            10             0  "
      ]
     },
     "execution_count": 46,
     "metadata": {},
     "output_type": "execute_result"
    }
   ],
   "source": [
    "results_df.head()"
   ]
  },
  {
   "cell_type": "code",
   "execution_count": 47,
   "metadata": {},
   "outputs": [],
   "source": [
    "def qini_rank(uplift: pd.DataFrame, uplift_score: str) -> pd.DataFrame:\n",
    "    \"\"\"Rank the data by the uplift score for a specific model.\"\"\"\n",
    "    ranked = uplift[['target_class', uplift_score]].copy()\n",
    "    ranked.rename(columns={uplift_score: 'uplift_score'}, inplace=True)\n",
    "\n",
    "    # Add proportion\n",
    "    ranked['n'] = ranked['uplift_score'].rank(pct=True, ascending=False)\n",
    "\n",
    "    # Data Ranking\n",
    "    ranked = ranked.sort_values(by='n').reset_index(drop=True)\n",
    "    return ranked"
   ]
  },
  {
   "cell_type": "code",
   "execution_count": 48,
   "metadata": {},
   "outputs": [],
   "source": [
    "def qini_eval(ranked: pd.DataFrame) -> pd.DataFrame:\n",
    "    \"\"\"Evaluate the uplift value with the QINI criterion.\"\"\"\n",
    "    uplift_model = ranked.copy()\n",
    "    random_model = ranked.copy()\n",
    "\n",
    "    # Calculate cumulative gains for treatment and control groups\n",
    "    C = sum(ranked['target_class'] <= 1)  # Total control group\n",
    "    T = sum(ranked['target_class'] >= 2)  # Total treatment group\n",
    "    ranked['cr'] = 0\n",
    "    ranked['tr'] = 0\n",
    "    ranked.loc[ranked.target_class == 1, 'cr'] = 1\n",
    "    ranked.loc[ranked.target_class == 3, 'tr'] = 1\n",
    "    ranked['cr/c'] = ranked['cr'].cumsum() / C\n",
    "    ranked['tr/t'] = ranked['tr'].cumsum() / T\n",
    "\n",
    "    # Calculate uplift for the model and random targeting\n",
    "    uplift_model['uplift'] = round(ranked['tr/t'] - ranked['cr/c'], 5)\n",
    "    random_model['uplift'] = round(ranked['n'] * uplift_model['uplift'].iloc[-1], 5)\n",
    "\n",
    "    # Add q0 for initial point\n",
    "    q0 = pd.DataFrame({'n': [0], 'uplift': [0], 'target_class': [None]})\n",
    "    uplift_model = pd.concat([q0, uplift_model]).reset_index(drop=True)\n",
    "    random_model = pd.concat([q0, random_model]).reset_index(drop=True)\n",
    "\n",
    "    # Add model names and combine\n",
    "    uplift_model['model'] = 'Uplift model'\n",
    "    random_model['model'] = 'Random model'\n",
    "    merged = pd.concat([uplift_model, random_model]).sort_values(by='n').reset_index(drop=True)\n",
    "    return merged\n"
   ]
  },
  {
   "cell_type": "code",
   "execution_count": 49,
   "metadata": {},
   "outputs": [],
   "source": [
    "def qini_plot(merged: pd.DataFrame):\n",
    "    \"\"\"Plot QINI curves for multiple models.\"\"\"\n",
    "    sns.set_style('whitegrid')\n",
    "\n",
    "    # Plot the data\n",
    "    ax = sns.lineplot(\n",
    "        x='n', y='uplift', hue='model', data=merged, style='model', palette='Set2'\n",
    "    )\n",
    "\n",
    "    # Customize plot settings\n",
    "    plt.xlabel('Proportion Targeted', fontsize=15)\n",
    "    plt.ylabel('Uplift', fontsize=15)\n",
    "    plt.title('Qini Curves for Multiple Models', fontsize=16)\n",
    "    plt.legend(fontsize=12)\n",
    "    ax.tick_params(labelsize=12)\n",
    "    plt.grid(True)\n",
    "    plt.show()\n",
    "    return ax"
   ]
  },
  {
   "cell_type": "code",
   "execution_count": 50,
   "metadata": {},
   "outputs": [
    {
     "data": {
      "image/png": "[encoded data removed]",
      "text/plain": [
       "<Figure size 640x480 with 1 Axes>"
      ]
     },
     "metadata": {},
     "output_type": "display_data"
    },
    {
     "data": {
      "text/plain": [
       "<Axes: title={'center': 'Qini Curves for Multiple Models'}, xlabel='Proportion Targeted', ylabel='Uplift'>"
      ]
     },
     "execution_count": 50,
     "metadata": {},
     "output_type": "execute_result"
    }
   ],
   "source": [
    "# Combine QINI results for all models\n",
    "merged_results = pd.DataFrame()\n",
    "\n",
    "# List of uplift columns for different models\n",
    "uplift_columns = ['uplift_tm_rf', 'uplift_tm_xg', 'uplift_sm_rf', 'uplift_sm_xg']\n",
    "model_names = ['Two-Model RF', 'Two-Model XGBoost', 'S-Learner RF', 'S-Learner XGBoost']\n",
    "\n",
    "for uplift_score, model_name in zip(uplift_columns, model_names):\n",
    "    ranked = qini_rank(results_df, uplift_score)\n",
    "    merged = qini_eval(ranked)\n",
    "    merged['model'] = model_name  # Add model name for identification\n",
    "    merged_results = pd.concat([merged_results, merged], ignore_index=True)\n",
    "\n",
    "# Plot all QINI curves\n",
    "qini_plot(merged_results)"
   ]
  }
 ],
 "metadata": {
  "kernelspec": {
   "display_name": "pymc_env",
   "language": "python",
   "name": "python3"
  },
  "language_info": {
   "codemirror_mode": {
    "name": "ipython",
    "version": 3
   },
   "file_extension": ".py",
   "mimetype": "text/x-python",
   "name": "python",
   "nbconvert_exporter": "python",
   "pygments_lexer": "ipython3",
   "version": "3.11.9"
  }
 },
 "nbformat": 4,
 "nbformat_minor": 2
}
