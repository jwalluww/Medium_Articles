{
 "cells": [
  {
   "cell_type": "markdown",
   "metadata": {},
   "source": [
    "# Causal ML, Uplift Modeling Part 1"
   ]
  },
  {
   "cell_type": "markdown",
   "metadata": {},
   "source": [
    "## Import Libraries & Data"
   ]
  },
  {
   "cell_type": "code",
   "execution_count": 96,
   "metadata": {},
   "outputs": [],
   "source": [
    "# Import necessary libraries\n",
    "import pandas as pd\n",
    "import numpy as np\n",
    "from sklearn.ensemble import RandomForestClassifier\n",
    "import matplotlib.pyplot as plt\n",
    "from sklift.metrics import uplift_at_k,qini_auc_score\n",
    "from sklift.datasets import fetch_hillstrom # our dataset!\n",
    "from xgboost import XGBClassifier\n",
    "from sklearn.model_selection import train_test_split, cross_val_score\n",
    "import optuna\n",
    "from sklearn.metrics import roc_auc_score, log_loss\n",
    "from causalml.metrics import auuc_score\n",
    "import seaborn as sns"
   ]
  },
  {
   "cell_type": "code",
   "execution_count": 48,
   "metadata": {},
   "outputs": [
    {
     "name": "stdout",
     "output_type": "stream",
     "text": [
      "Are there any null values in this dataframe?\n",
      "\n",
      "recency            0\n",
      "history_segment    0\n",
      "history            0\n",
      "mens               0\n",
      "womens             0\n",
      "zip_code           0\n",
      "newbie             0\n",
      "channel            0\n",
      "segment            0\n",
      "visit              0\n",
      "dtype: int64\n",
      "\n",
      "\n",
      "\n",
      "\n",
      "What does the dataframe look like? What datatypes are the features?\n",
      "\n",
      "<class 'pandas.core.frame.DataFrame'>\n",
      "RangeIndex: 64000 entries, 0 to 63999\n",
      "Data columns (total 10 columns):\n",
      " #   Column           Non-Null Count  Dtype  \n",
      "---  ------           --------------  -----  \n",
      " 0   recency          64000 non-null  int64  \n",
      " 1   history_segment  64000 non-null  object \n",
      " 2   history          64000 non-null  float64\n",
      " 3   mens             64000 non-null  int64  \n",
      " 4   womens           64000 non-null  int64  \n",
      " 5   zip_code         64000 non-null  object \n",
      " 6   newbie           64000 non-null  int64  \n",
      " 7   channel          64000 non-null  object \n",
      " 8   segment          64000 non-null  object \n",
      " 9   visit            64000 non-null  int64  \n",
      "dtypes: float64(1), int64(5), object(4)\n",
      "memory usage: 4.9+ MB\n",
      "None\n"
     ]
    }
   ],
   "source": [
    "# Load Hillstrom dataset\n",
    "def load_hillstrom():\n",
    "    dataset = fetch_hillstrom(target_col='visit')\n",
    "    df = dataset.data\n",
    "    # Segment has 3 options, womens email, mens email and no email, so we can create 'treatment' by choosing one of the two treatments here\n",
    "    df['segment'] = dataset.treatment\n",
    "    # There are 3 outcomes, visit, conversion and spend, we can choose one of them as our target\n",
    "    df['visit'] = dataset.target\n",
    "    print(\"Are there any null values in this dataframe?\\n\")\n",
    "    print(df.isna().sum())\n",
    "    print(\"\\n\\n\\n\")\n",
    "    print(\"What does the dataframe look like? What datatypes are the features?\\n\")\n",
    "    print(df.info())\n",
    "    return df\n",
    "\n",
    "df = load_hillstrom()"
   ]
  },
  {
   "cell_type": "markdown",
   "metadata": {},
   "source": [
    "## Explore Data"
   ]
  },
  {
   "cell_type": "code",
   "execution_count": 27,
   "metadata": {},
   "outputs": [
    {
     "data": {
      "text/plain": [
       "segment\n",
       "Womens E-Mail    21387\n",
       "Mens E-Mail      21307\n",
       "No E-Mail        21306\n",
       "Name: count, dtype: int64"
      ]
     },
     "execution_count": 27,
     "metadata": {},
     "output_type": "execute_result"
    }
   ],
   "source": [
    "# The treatment\n",
    "df['segment'].value_counts()"
   ]
  },
  {
   "cell_type": "code",
   "execution_count": 28,
   "metadata": {},
   "outputs": [
    {
     "name": "stderr",
     "output_type": "stream",
     "text": [
      "C:\\Users\\wallj\\AppData\\Local\\Temp\\ipykernel_20352\\4275732468.py:3: SettingWithCopyWarning: \n",
      "A value is trying to be set on a copy of a slice from a DataFrame.\n",
      "Try using .loc[row_indexer,col_indexer] = value instead\n",
      "\n",
      "See the caveats in the documentation: https://pandas.pydata.org/pandas-docs/stable/user_guide/indexing.html#returning-a-view-versus-a-copy\n",
      "  df['treatment'] = df['segment'].map({'Mens E-Mail':1,'No E-Mail':0})\n"
     ]
    },
    {
     "data": {
      "text/plain": [
       "treatment\n",
       "1    0.500012\n",
       "0    0.499988\n",
       "Name: proportion, dtype: float64"
      ]
     },
     "execution_count": 28,
     "metadata": {},
     "output_type": "execute_result"
    }
   ],
   "source": [
    "# Let's just use men's email first and create a treatment variable to 1/0 the treatment/control\n",
    "df = df.loc[df['segment'].isin(['Mens E-Mail','No E-Mail'])]\n",
    "df['treatment'] = df['segment'].map({'Mens E-Mail':1,'No E-Mail':0})\n",
    "df['treatment'].value_counts(normalize=True)"
   ]
  },
  {
   "cell_type": "code",
   "execution_count": 29,
   "metadata": {},
   "outputs": [
    {
     "name": "stderr",
     "output_type": "stream",
     "text": [
      "C:\\Users\\wallj\\AppData\\Local\\Temp\\ipykernel_20352\\4058060974.py:2: SettingWithCopyWarning: \n",
      "A value is trying to be set on a copy of a slice from a DataFrame.\n",
      "Try using .loc[row_indexer,col_indexer] = value instead\n",
      "\n",
      "See the caveats in the documentation: https://pandas.pydata.org/pandas-docs/stable/user_guide/indexing.html#returning-a-view-versus-a-copy\n",
      "  df['target'] = df['visit'].copy()\n"
     ]
    },
    {
     "data": {
      "text/plain": [
       "target\n",
       "0    36457\n",
       "1     6156\n",
       "Name: count, dtype: int64"
      ]
     },
     "execution_count": 29,
     "metadata": {},
     "output_type": "execute_result"
    }
   ],
   "source": [
    "# This dataset has visit, conversion, and revenue as the target variables, we are going to use visit as the target variable\n",
    "df['target'] = df['visit'].copy()\n",
    "df['target'].value_counts()"
   ]
  },
  {
   "cell_type": "code",
   "execution_count": 30,
   "metadata": {},
   "outputs": [
    {
     "data": {
      "text/plain": [
       "mens\n",
       "1    23526\n",
       "0    19087\n",
       "Name: count, dtype: int64"
      ]
     },
     "execution_count": 30,
     "metadata": {},
     "output_type": "execute_result"
    }
   ],
   "source": [
    "# Customer purchased mens merchandise in the past year\n",
    "df['mens'].value_counts()"
   ]
  },
  {
   "cell_type": "code",
   "execution_count": 31,
   "metadata": {},
   "outputs": [
    {
     "data": {
      "text/plain": [
       "womens\n",
       "1    23417\n",
       "0    19196\n",
       "Name: count, dtype: int64"
      ]
     },
     "execution_count": 31,
     "metadata": {},
     "output_type": "execute_result"
    }
   ],
   "source": [
    "# Customer purchased womens merchandise in the past year\n",
    "df['womens'].value_counts()"
   ]
  },
  {
   "cell_type": "code",
   "execution_count": 32,
   "metadata": {},
   "outputs": [
    {
     "data": {
      "text/plain": [
       "mens  womens\n",
       "0     1         19087\n",
       "1     0         19196\n",
       "      1          4330\n",
       "dtype: int64"
      ]
     },
     "execution_count": 32,
     "metadata": {},
     "output_type": "execute_result"
    }
   ],
   "source": [
    "# Only a few customers purchased from both mens and womens merch in the past year\n",
    "df.groupby(['mens','womens']).size()"
   ]
  },
  {
   "cell_type": "code",
   "execution_count": 33,
   "metadata": {},
   "outputs": [
    {
     "data": {
      "text/plain": [
       "history_segment\n",
       "1) $0 - $100        15336\n",
       "2) $100 - $200       9527\n",
       "3) $200 - $350       8134\n",
       "4) $350 - $500       4221\n",
       "5) $500 - $750       3249\n",
       "6) $750 - $1,000     1266\n",
       "7) $1,000 +           880\n",
       "Name: count, dtype: int64"
      ]
     },
     "execution_count": 33,
     "metadata": {},
     "output_type": "execute_result"
    }
   ],
   "source": [
    "# segments for TTM spend\n",
    "df['history_segment'].value_counts()"
   ]
  },
  {
   "cell_type": "code",
   "execution_count": 34,
   "metadata": {},
   "outputs": [
    {
     "data": {
      "text/plain": [
       "count    42613.000000\n",
       "mean       241.859315\n",
       "std        256.574723\n",
       "min         29.990000\n",
       "25%         64.500000\n",
       "50%        157.000000\n",
       "75%        325.210000\n",
       "max       3345.930000\n",
       "Name: history, dtype: float64"
      ]
     },
     "execution_count": 34,
     "metadata": {},
     "output_type": "execute_result"
    }
   ],
   "source": [
    "# Actual TTM spend\n",
    "df['history'].describe()"
   ]
  },
  {
   "cell_type": "code",
   "execution_count": 35,
   "metadata": {},
   "outputs": [
    {
     "data": {
      "text/plain": [
       "recency\n",
       "1     5934\n",
       "2     5074\n",
       "10    5022\n",
       "9     4330\n",
       "3     3899\n",
       "4     3406\n",
       "6     3048\n",
       "5     2985\n",
       "7     2720\n",
       "8     2337\n",
       "11    2316\n",
       "12    1542\n",
       "Name: count, dtype: int64"
      ]
     },
     "execution_count": 35,
     "metadata": {},
     "output_type": "execute_result"
    }
   ],
   "source": [
    "# Months since last purchase\n",
    "df['recency'].value_counts()"
   ]
  },
  {
   "cell_type": "code",
   "execution_count": 36,
   "metadata": {},
   "outputs": [
    {
     "data": {
      "text/plain": [
       "newbie\n",
       "1    21381\n",
       "0    21232\n",
       "Name: count, dtype: int64"
      ]
     },
     "execution_count": 36,
     "metadata": {},
     "output_type": "execute_result"
    }
   ],
   "source": [
    "# New custome in past year\n",
    "df['newbie'].value_counts()"
   ]
  },
  {
   "cell_type": "code",
   "execution_count": 37,
   "metadata": {},
   "outputs": [
    {
     "data": {
      "text/plain": [
       "channel\n",
       "Web             18863\n",
       "Phone           18567\n",
       "Multichannel     5183\n",
       "Name: count, dtype: int64"
      ]
     },
     "execution_count": 37,
     "metadata": {},
     "output_type": "execute_result"
    }
   ],
   "source": [
    "# TTM purchase channels - must be an old dataset given the phone count\n",
    "df['channel'].value_counts()"
   ]
  },
  {
   "cell_type": "code",
   "execution_count": 38,
   "metadata": {},
   "outputs": [
    {
     "data": {
      "text/plain": [
       "zip_code\n",
       "Surburban    19126\n",
       "Urban        17105\n",
       "Rural         6382\n",
       "Name: count, dtype: int64"
      ]
     },
     "execution_count": 38,
     "metadata": {},
     "output_type": "execute_result"
    }
   ],
   "source": [
    "# Classifies urban rural and suburban\n",
    "df['zip_code'].value_counts()"
   ]
  },
  {
   "cell_type": "code",
   "execution_count": 39,
   "metadata": {},
   "outputs": [],
   "source": [
    "# Binarize the zip code and channel variables\n",
    "df = pd.get_dummies(df, columns=['zip_code'], drop_first=True, dtype=int)  # Encode categorical variable\n",
    "df = pd.get_dummies(df, columns=['channel'], drop_first=True, dtype=int)  # Encode categorical variable\n",
    "df = df.drop(columns=['history_segment','segment','visit']) # Drop unnecessary features"
   ]
  },
  {
   "cell_type": "code",
   "execution_count": 40,
   "metadata": {},
   "outputs": [
    {
     "data": {
      "text/html": [
       "<div>\n",
       "<style scoped>\n",
       "    .dataframe tbody tr th:only-of-type {\n",
       "        vertical-align: middle;\n",
       "    }\n",
       "\n",
       "    .dataframe tbody tr th {\n",
       "        vertical-align: top;\n",
       "    }\n",
       "\n",
       "    .dataframe thead th {\n",
       "        text-align: right;\n",
       "    }\n",
       "</style>\n",
       "<table border=\"1\" class=\"dataframe\">\n",
       "  <thead>\n",
       "    <tr style=\"text-align: right;\">\n",
       "      <th></th>\n",
       "      <th>recency</th>\n",
       "      <th>history</th>\n",
       "      <th>mens</th>\n",
       "      <th>womens</th>\n",
       "      <th>newbie</th>\n",
       "      <th>treatment</th>\n",
       "      <th>target</th>\n",
       "      <th>zip_code_Surburban</th>\n",
       "      <th>zip_code_Urban</th>\n",
       "      <th>channel_Phone</th>\n",
       "      <th>channel_Web</th>\n",
       "    </tr>\n",
       "  </thead>\n",
       "  <tbody>\n",
       "    <tr>\n",
       "      <th>1</th>\n",
       "      <td>6</td>\n",
       "      <td>329.08</td>\n",
       "      <td>1</td>\n",
       "      <td>1</td>\n",
       "      <td>1</td>\n",
       "      <td>0</td>\n",
       "      <td>0</td>\n",
       "      <td>0</td>\n",
       "      <td>0</td>\n",
       "      <td>0</td>\n",
       "      <td>1</td>\n",
       "    </tr>\n",
       "    <tr>\n",
       "      <th>3</th>\n",
       "      <td>9</td>\n",
       "      <td>675.83</td>\n",
       "      <td>1</td>\n",
       "      <td>0</td>\n",
       "      <td>1</td>\n",
       "      <td>1</td>\n",
       "      <td>0</td>\n",
       "      <td>0</td>\n",
       "      <td>0</td>\n",
       "      <td>0</td>\n",
       "      <td>1</td>\n",
       "    </tr>\n",
       "    <tr>\n",
       "      <th>8</th>\n",
       "      <td>9</td>\n",
       "      <td>675.07</td>\n",
       "      <td>1</td>\n",
       "      <td>1</td>\n",
       "      <td>1</td>\n",
       "      <td>1</td>\n",
       "      <td>0</td>\n",
       "      <td>0</td>\n",
       "      <td>0</td>\n",
       "      <td>1</td>\n",
       "      <td>0</td>\n",
       "    </tr>\n",
       "    <tr>\n",
       "      <th>13</th>\n",
       "      <td>2</td>\n",
       "      <td>101.64</td>\n",
       "      <td>0</td>\n",
       "      <td>1</td>\n",
       "      <td>0</td>\n",
       "      <td>1</td>\n",
       "      <td>1</td>\n",
       "      <td>0</td>\n",
       "      <td>1</td>\n",
       "      <td>0</td>\n",
       "      <td>1</td>\n",
       "    </tr>\n",
       "    <tr>\n",
       "      <th>14</th>\n",
       "      <td>4</td>\n",
       "      <td>241.42</td>\n",
       "      <td>0</td>\n",
       "      <td>1</td>\n",
       "      <td>1</td>\n",
       "      <td>0</td>\n",
       "      <td>0</td>\n",
       "      <td>0</td>\n",
       "      <td>0</td>\n",
       "      <td>0</td>\n",
       "      <td>0</td>\n",
       "    </tr>\n",
       "  </tbody>\n",
       "</table>\n",
       "</div>"
      ],
      "text/plain": [
       "    recency  history  mens  womens  newbie  treatment  target  \\\n",
       "1         6   329.08     1       1       1          0       0   \n",
       "3         9   675.83     1       0       1          1       0   \n",
       "8         9   675.07     1       1       1          1       0   \n",
       "13        2   101.64     0       1       0          1       1   \n",
       "14        4   241.42     0       1       1          0       0   \n",
       "\n",
       "    zip_code_Surburban  zip_code_Urban  channel_Phone  channel_Web  \n",
       "1                    0               0              0            1  \n",
       "3                    0               0              0            1  \n",
       "8                    0               0              1            0  \n",
       "13                   0               1              0            1  \n",
       "14                   0               0              0            0  "
      ]
     },
     "execution_count": 40,
     "metadata": {},
     "output_type": "execute_result"
    }
   ],
   "source": [
    "# One grand view of our final dataset! Looks ready for modeling.\n",
    "df.head()"
   ]
  },
  {
   "cell_type": "code",
   "execution_count": 41,
   "metadata": {},
   "outputs": [
    {
     "data": {
      "text/html": [
       "<div>\n",
       "<style scoped>\n",
       "    .dataframe tbody tr th:only-of-type {\n",
       "        vertical-align: middle;\n",
       "    }\n",
       "\n",
       "    .dataframe tbody tr th {\n",
       "        vertical-align: top;\n",
       "    }\n",
       "\n",
       "    .dataframe thead th {\n",
       "        text-align: right;\n",
       "    }\n",
       "</style>\n",
       "<table border=\"1\" class=\"dataframe\">\n",
       "  <thead>\n",
       "    <tr style=\"text-align: right;\">\n",
       "      <th></th>\n",
       "      <th>recency</th>\n",
       "      <th>history</th>\n",
       "      <th>mens</th>\n",
       "      <th>womens</th>\n",
       "      <th>newbie</th>\n",
       "      <th>target</th>\n",
       "      <th>zip_code_Surburban</th>\n",
       "      <th>zip_code_Urban</th>\n",
       "      <th>channel_Phone</th>\n",
       "      <th>channel_Web</th>\n",
       "    </tr>\n",
       "    <tr>\n",
       "      <th>treatment</th>\n",
       "      <th></th>\n",
       "      <th></th>\n",
       "      <th></th>\n",
       "      <th></th>\n",
       "      <th></th>\n",
       "      <th></th>\n",
       "      <th></th>\n",
       "      <th></th>\n",
       "      <th></th>\n",
       "      <th></th>\n",
       "    </tr>\n",
       "  </thead>\n",
       "  <tbody>\n",
       "    <tr>\n",
       "      <th>0</th>\n",
       "      <td>5.749695</td>\n",
       "      <td>240.882653</td>\n",
       "      <td>0.553224</td>\n",
       "      <td>0.547639</td>\n",
       "      <td>0.501971</td>\n",
       "      <td>0.106167</td>\n",
       "      <td>0.451751</td>\n",
       "      <td>0.400920</td>\n",
       "      <td>0.437764</td>\n",
       "      <td>0.439923</td>\n",
       "    </tr>\n",
       "    <tr>\n",
       "      <th>1</th>\n",
       "      <td>5.773642</td>\n",
       "      <td>242.835931</td>\n",
       "      <td>0.550946</td>\n",
       "      <td>0.551415</td>\n",
       "      <td>0.501525</td>\n",
       "      <td>0.182757</td>\n",
       "      <td>0.445910</td>\n",
       "      <td>0.401887</td>\n",
       "      <td>0.433660</td>\n",
       "      <td>0.445394</td>\n",
       "    </tr>\n",
       "  </tbody>\n",
       "</table>\n",
       "</div>"
      ],
      "text/plain": [
       "            recency     history      mens    womens    newbie    target  \\\n",
       "treatment                                                                 \n",
       "0          5.749695  240.882653  0.553224  0.547639  0.501971  0.106167   \n",
       "1          5.773642  242.835931  0.550946  0.551415  0.501525  0.182757   \n",
       "\n",
       "           zip_code_Surburban  zip_code_Urban  channel_Phone  channel_Web  \n",
       "treatment                                                                  \n",
       "0                    0.451751        0.400920       0.437764     0.439923  \n",
       "1                    0.445910        0.401887       0.433660     0.445394  "
      ]
     },
     "execution_count": 41,
     "metadata": {},
     "output_type": "execute_result"
    }
   ],
   "source": [
    "# It appears everything is just about equal in terms of the treatment group and the control group for feature means, except the target which is ok\n",
    "df.groupby('treatment').mean()\n",
    "\n",
    "# Even if it wasn't, we could still run the model using the covariates as features, but would need to adjust for the imbalance in the treatment groups"
   ]
  },
  {
   "cell_type": "markdown",
   "metadata": {},
   "source": [
    "## Split Train Test Treatment"
   ]
  },
  {
   "cell_type": "code",
   "execution_count": 18,
   "metadata": {},
   "outputs": [],
   "source": [
    "# Split data into train/test\n",
    "def split_data(df):\n",
    "    X = df.drop(columns=['treatment', 'target'])\n",
    "    y = df['target']\n",
    "    treatment = df['treatment']\n",
    "    return train_test_split(X, y, treatment, test_size=0.3, random_state=42)\n",
    "\n",
    "X_train, X_test, y_train, y_test, t_train, t_test = split_data(df)"
   ]
  },
  {
   "cell_type": "markdown",
   "metadata": {},
   "source": [
    "## Run Two-Model and Single-Model Approaches"
   ]
  },
  {
   "cell_type": "code",
   "execution_count": 19,
   "metadata": {},
   "outputs": [],
   "source": [
    "# Model Optimization with Optuna\n",
    "def optimize_model(trial, X, y, model_type):\n",
    "    # Set the hyperparameters to optimize and the ranges for xgboost\n",
    "    if model_type == 'xgboost':\n",
    "        params = {\n",
    "            'n_estimators': trial.suggest_int('n_estimators', 50, 300),\n",
    "            'max_depth': trial.suggest_int('max_depth', 3, 10),\n",
    "            'learning_rate': trial.suggest_float('learning_rate', 0.01, 0.3, log=True),\n",
    "            'subsample': trial.suggest_float('subsample', 0.6, 1.0),\n",
    "            'colsample_bytree': trial.suggest_float('colsample_bytree', 0.6, 1.0),\n",
    "            'gamma': trial.suggest_float('gamma', 0, 5),\n",
    "        }\n",
    "        model = XGBClassifier(**params, eval_metric='logloss')\n",
    "        # Even though the eval metric for xgboost is logloss, we are evaluating the hyperparameters on maximizing AUC\n",
    "    # Set the hyperparameters to optimize the ranges for random forest\n",
    "    elif model_type == 'random_forest':\n",
    "        params = {\n",
    "            'n_estimators': trial.suggest_int('n_estimators', 50, 300),\n",
    "            'max_depth': trial.suggest_int('max_depth', 3, 20),\n",
    "            'min_samples_split': trial.suggest_int('min_samples_split', 2, 10),\n",
    "            'min_samples_leaf': trial.suggest_int('min_samples_leaf', 1, 10),\n",
    "            'max_features': trial.suggest_float('max_features', 0.6, 1.0),\n",
    "        }\n",
    "        model = RandomForestClassifier(**params, random_state=42)\n",
    "    else:\n",
    "        raise ValueError(\"Unsupported model type\")\n",
    "\n",
    "    scores = cross_val_score(model, X, y, cv=3, scoring='roc_auc')\n",
    "    return np.mean(scores)"
   ]
  },
  {
   "cell_type": "code",
   "execution_count": 20,
   "metadata": {},
   "outputs": [],
   "source": [
    "# Run Optuna for Both Models\n",
    "def run_optuna(X, y, model_type, model_seg, n_trials=50):\n",
    "    # Create a study object to maximize the AUC\n",
    "    study = optuna.create_study(direction='maximize')\n",
    "    # optimize the study based on the input parameters\n",
    "    study.optimize(lambda trial: optimize_model(trial, X, y, model_type), n_trials=n_trials)\n",
    "    print(f\"Best parameters for {model_type} for {model_seg}: {study.best_params}\")\n",
    "    return study.best_params"
   ]
  },
  {
   "cell_type": "code",
   "execution_count": 21,
   "metadata": {},
   "outputs": [],
   "source": [
    "# Train and Evaluate Models\n",
    "def train_and_evaluate(X_train, X_test, y_train, y_test, params, model_type, model_seg):\n",
    "    # We'll look at xgboost and random forest, this is to train the final mdoel after optuna works it's magic\n",
    "    if model_type == 'xgboost':\n",
    "        model = XGBClassifier(**params,  eval_metric='logloss')\n",
    "    elif model_type == 'random_forest':\n",
    "        model = RandomForestClassifier(**params, random_state=42)\n",
    "    else:\n",
    "        raise ValueError(\"Unsupported model type\")\n",
    "\n",
    "    # Fit the model and predict probabilities on the test dataset\n",
    "    model.fit(X_train, y_train)\n",
    "    y_pred = model.predict_proba(X_test)[:, 1]\n",
    "\n",
    "    # Grab the AUC & LogLoss metrics for the best model\n",
    "    auc = roc_auc_score(y_test, y_pred)\n",
    "    logloss = log_loss(y_test, y_pred)\n",
    "    print(f\"{model_type} AUC for {model_seg}: {auc:.4f}\\n{model_type} Log Loss for {model_seg}: {logloss:.4f}\")\n",
    "    return model,y_pred"
   ]
  },
  {
   "cell_type": "code",
   "execution_count": 22,
   "metadata": {},
   "outputs": [],
   "source": [
    "# Optimize and Train Separate Models for Two-Model Approach\n",
    "def two_model_approach_with_optuna(X_train, X_test, y_train, y_test, t_train):\n",
    "    \n",
    "    # Use function run_optuna to optimize the treatment model for xgboost and random forest adn return the optimal hyperparameters\n",
    "\n",
    "    # Optimize treatment model for xgboost and random forest\n",
    "    X_treatment = X_train[t_train == 1]\n",
    "    y_treatment = y_train[t_train == 1]\n",
    "    params_treatment_xgboost = run_optuna(X_treatment, y_treatment, 'xgboost','treatment')\n",
    "    params_treatment_randomforest = run_optuna(X_treatment, y_treatment, 'random_forest','treatment')\n",
    "\n",
    "    # Optimize control model for xgboost and random forest\n",
    "    X_control = X_train[t_train == 0]\n",
    "    y_control = y_train[t_train == 0]\n",
    "    params_control_xgboost = run_optuna(X_control, y_control, 'xgboost','control')\n",
    "    params_control_randomforest = run_optuna(X_control, y_control, 'random_forest','control')\n",
    "\n",
    "\n",
    "    # Optimize single model for xgboost and random forest\n",
    "    X_single_train = X_train.copy()\n",
    "    X_single_train['treatment'] = t_train\n",
    "    X_single_test_1 = X_test.copy()\n",
    "    X_single_test_1['treatment'] = 1\n",
    "    X_single_test_0 = X_test.copy()\n",
    "    X_single_test_0['treatment'] = 0\n",
    "    params_single_xgboost = run_optuna(X_single_train, y_train, 'xgboost','single')\n",
    "    params_single_randomforest = run_optuna(X_single_train, y_train, 'random_forest','single')\n",
    "\n",
    "    # Train final models using function train_and_evaluate\n",
    "    model_treatment_xgboost,preds_treatment_xgboost = train_and_evaluate(X_treatment, X_test, y_treatment, y_test, params_treatment_xgboost, 'xgboost','treatment')\n",
    "    model_treatment_randomforest,preds_treatment_randomforest = train_and_evaluate(X_treatment, X_test, y_treatment, y_test, params_treatment_randomforest, 'random_forest','treatment')\n",
    "    model_control_xgboost,preds_control_xgboost = train_and_evaluate(X_control, X_test, y_control, y_test, params_control_xgboost, 'xgboost','control')\n",
    "    model_control_randomforest,preds_control_randomforest = train_and_evaluate(X_control, X_test, y_control, y_test, params_control_randomforest, 'random_forest','control')\n",
    "    model_single_1_xgboost,preds_single_1_xgboost = train_and_evaluate(X_single_train, X_single_test_1, y_train, y_test, params_single_xgboost, 'xgboost','single_1')\n",
    "    model_single_1_randomforest,preds_single_1_randomforest = train_and_evaluate(X_single_train, X_single_test_1, y_train, y_test, params_single_randomforest, 'random_forest','single_1')\n",
    "    model_single_0_xgboost,preds_single_0_xgboost = train_and_evaluate(X_single_train, X_single_test_0, y_train, y_test, params_single_xgboost, 'xgboost','single_0')\n",
    "    model_single_0_randomforest,preds_single_0_randomforest = train_and_evaluate(X_single_train, X_single_test_0, y_train, y_test, params_single_randomforest, 'random_forest','single_0')\n",
    "\n",
    "    return model_treatment_xgboost, preds_treatment_xgboost, model_treatment_randomforest, preds_treatment_randomforest, model_control_xgboost, preds_control_xgboost, model_control_randomforest, preds_control_randomforest, model_single_1_xgboost, preds_single_1_xgboost, model_single_1_randomforest, preds_single_1_randomforest, model_single_0_xgboost, preds_single_0_xgboost, model_single_0_randomforest, preds_single_0_randomforest"
   ]
  },
  {
   "cell_type": "code",
   "execution_count": 23,
   "metadata": {},
   "outputs": [
    {
     "name": "stderr",
     "output_type": "stream",
     "text": [
      "[I 2024-12-24 09:49:53,105] A new study created in memory with name: no-name-3da02411-6c0c-48d6-9772-de3bac973c6a\n",
      "[I 2024-12-24 09:49:54,933] Trial 0 finished with value: 0.594201554964171 and parameters: {'n_estimators': 264, 'max_depth': 8, 'learning_rate': 0.03697948243256558, 'subsample': 0.9789366472121683, 'colsample_bytree': 0.8925859732662579, 'gamma': 0.9960341155890934}. Best is trial 0 with value: 0.594201554964171.\n",
      "[I 2024-12-24 09:49:55,490] Trial 1 finished with value: 0.6094026652248743 and parameters: {'n_estimators': 294, 'max_depth': 7, 'learning_rate': 0.012761950197697354, 'subsample': 0.611201673202611, 'colsample_bytree': 0.7840885259437869, 'gamma': 2.6155174639646113}. Best is trial 1 with value: 0.6094026652248743.\n",
      "[I 2024-12-24 09:49:55,860] Trial 2 finished with value: 0.610211190645689 and parameters: {'n_estimators': 287, 'max_depth': 7, 'learning_rate': 0.05181016737301728, 'subsample': 0.928948336148546, 'colsample_bytree': 0.653765217614288, 'gamma': 2.0454748118279076}. Best is trial 2 with value: 0.610211190645689.\n",
      "[I 2024-12-24 09:49:56,272] Trial 3 finished with value: 0.5901675689039718 and parameters: {'n_estimators': 227, 'max_depth': 4, 'learning_rate': 0.12964528883523527, 'subsample': 0.68831446768069, 'colsample_bytree': 0.9512491119801654, 'gamma': 0.4693590406848652}. Best is trial 2 with value: 0.610211190645689.\n",
      "[I 2024-12-24 09:49:56,634] Trial 4 finished with value: 0.6112023382595172 and parameters: {'n_estimators': 168, 'max_depth': 8, 'learning_rate': 0.019717544195846846, 'subsample': 0.9707854880134134, 'colsample_bytree': 0.6566715949047325, 'gamma': 2.3937330277868267}. Best is trial 4 with value: 0.6112023382595172.\n",
      "[I 2024-12-24 09:49:56,791] Trial 5 finished with value: 0.6124497121429701 and parameters: {'n_estimators': 61, 'max_depth': 8, 'learning_rate': 0.05237799474862019, 'subsample': 0.7486350270194411, 'colsample_bytree': 0.8898820200244271, 'gamma': 4.529195862578253}. Best is trial 5 with value: 0.6124497121429701.\n",
      "[I 2024-12-24 09:49:57,061] Trial 6 finished with value: 0.6121911963255777 and parameters: {'n_estimators': 246, 'max_depth': 5, 'learning_rate': 0.16109885782641406, 'subsample': 0.8635757149489343, 'colsample_bytree': 0.8662605424163446, 'gamma': 2.97468659154147}. Best is trial 5 with value: 0.6124497121429701.\n",
      "[I 2024-12-24 09:49:57,668] Trial 7 finished with value: 0.599872875197553 and parameters: {'n_estimators': 297, 'max_depth': 5, 'learning_rate': 0.028991553843081264, 'subsample': 0.9095694264124234, 'colsample_bytree': 0.8738997530575846, 'gamma': 0.4177531825790115}. Best is trial 5 with value: 0.6124497121429701.\n",
      "[I 2024-12-24 09:49:58,119] Trial 8 finished with value: 0.6132338535945758 and parameters: {'n_estimators': 287, 'max_depth': 3, 'learning_rate': 0.016664448312993303, 'subsample': 0.6536144963973847, 'colsample_bytree': 0.9749580795033815, 'gamma': 3.503698466818973}. Best is trial 8 with value: 0.6132338535945758.\n",
      "[I 2024-12-24 09:49:59,032] Trial 9 finished with value: 0.5575562519842375 and parameters: {'n_estimators': 255, 'max_depth': 10, 'learning_rate': 0.1073018714607218, 'subsample': 0.6445031016112212, 'colsample_bytree': 0.9713775957254587, 'gamma': 0.5757853880606406}. Best is trial 8 with value: 0.6132338535945758.\n",
      "[I 2024-12-24 09:49:59,264] Trial 10 finished with value: 0.6154162226856529 and parameters: {'n_estimators': 167, 'max_depth': 3, 'learning_rate': 0.29780161509232533, 'subsample': 0.7814077089379028, 'colsample_bytree': 0.7596665452236138, 'gamma': 4.348648776510091}. Best is trial 10 with value: 0.6154162226856529.\n",
      "[I 2024-12-24 09:49:59,556] Trial 11 finished with value: 0.6113041576388967 and parameters: {'n_estimators': 159, 'max_depth': 3, 'learning_rate': 0.010116479417056824, 'subsample': 0.7867959847914393, 'colsample_bytree': 0.753007468245218, 'gamma': 4.271571016532575}. Best is trial 10 with value: 0.6154162226856529.\n",
      "[I 2024-12-24 09:49:59,744] Trial 12 finished with value: 0.615577321350605 and parameters: {'n_estimators': 116, 'max_depth': 3, 'learning_rate': 0.2637695765328009, 'subsample': 0.7196589029421194, 'colsample_bytree': 0.7349139247724088, 'gamma': 3.713681987882203}. Best is trial 12 with value: 0.615577321350605.\n",
      "[I 2024-12-24 09:49:59,952] Trial 13 finished with value: 0.6147951271730764 and parameters: {'n_estimators': 112, 'max_depth': 5, 'learning_rate': 0.27313762310103973, 'subsample': 0.7320920638201273, 'colsample_bytree': 0.745523555913821, 'gamma': 4.956534210620073}. Best is trial 12 with value: 0.615577321350605.\n",
      "[I 2024-12-24 09:50:00,159] Trial 14 finished with value: 0.6151991204967179 and parameters: {'n_estimators': 119, 'max_depth': 3, 'learning_rate': 0.2990209006526032, 'subsample': 0.8227316009054083, 'colsample_bytree': 0.705844345394664, 'gamma': 3.651848933843231}. Best is trial 12 with value: 0.615577321350605.\n",
      "[I 2024-12-24 09:50:00,432] Trial 15 finished with value: 0.6142738978797352 and parameters: {'n_estimators': 202, 'max_depth': 4, 'learning_rate': 0.18303746940601617, 'subsample': 0.7181031114315041, 'colsample_bytree': 0.6945173196838923, 'gamma': 3.8478737646680656}. Best is trial 12 with value: 0.615577321350605.\n",
      "[I 2024-12-24 09:50:00,688] Trial 16 finished with value: 0.6097879899613258 and parameters: {'n_estimators': 129, 'max_depth': 4, 'learning_rate': 0.09108850233198494, 'subsample': 0.8094362861570408, 'colsample_bytree': 0.8216069151366397, 'gamma': 1.6104437315425488}. Best is trial 12 with value: 0.615577321350605.\n",
      "[I 2024-12-24 09:50:00,884] Trial 17 finished with value: 0.6102625461167684 and parameters: {'n_estimators': 73, 'max_depth': 6, 'learning_rate': 0.2062525333582083, 'subsample': 0.7740274497897055, 'colsample_bytree': 0.8069853194356913, 'gamma': 3.0300797192243696}. Best is trial 12 with value: 0.615577321350605.\n",
      "[I 2024-12-24 09:50:01,097] Trial 18 finished with value: 0.6118388974068588 and parameters: {'n_estimators': 91, 'max_depth': 10, 'learning_rate': 0.2208817968590463, 'subsample': 0.8412799087421668, 'colsample_bytree': 0.7104103769777007, 'gamma': 4.289294744157692}. Best is trial 12 with value: 0.615577321350605.\n",
      "[I 2024-12-24 09:50:01,380] Trial 19 finished with value: 0.6158672245207373 and parameters: {'n_estimators': 200, 'max_depth': 3, 'learning_rate': 0.07803495909020843, 'subsample': 0.6935264413806443, 'colsample_bytree': 0.6203222783781064, 'gamma': 4.869944644378201}. Best is trial 19 with value: 0.6158672245207373.\n",
      "[I 2024-12-24 09:50:01,652] Trial 20 finished with value: 0.6149897815671244 and parameters: {'n_estimators': 201, 'max_depth': 6, 'learning_rate': 0.08135438108162005, 'subsample': 0.685126490386048, 'colsample_bytree': 0.6565570540406949, 'gamma': 4.819223555375568}. Best is trial 19 with value: 0.6158672245207373.\n",
      "[I 2024-12-24 09:50:01,887] Trial 21 finished with value: 0.6164292498684566 and parameters: {'n_estimators': 140, 'max_depth': 3, 'learning_rate': 0.07147825546671832, 'subsample': 0.6995963840582607, 'colsample_bytree': 0.6052927831234284, 'gamma': 3.971972646112581}. Best is trial 21 with value: 0.6164292498684566.\n",
      "[I 2024-12-24 09:50:02,134] Trial 22 finished with value: 0.6158408936522196 and parameters: {'n_estimators': 141, 'max_depth': 4, 'learning_rate': 0.07336885642154314, 'subsample': 0.6946619525797063, 'colsample_bytree': 0.6000589896724524, 'gamma': 3.81043939602269}. Best is trial 21 with value: 0.6164292498684566.\n",
      "[I 2024-12-24 09:50:02,375] Trial 23 finished with value: 0.61450761879447 and parameters: {'n_estimators': 140, 'max_depth': 4, 'learning_rate': 0.07228001064891373, 'subsample': 0.6040300631423617, 'colsample_bytree': 0.6042452575153953, 'gamma': 3.9786635586861925}. Best is trial 21 with value: 0.6164292498684566.\n",
      "[I 2024-12-24 09:50:02,678] Trial 24 finished with value: 0.6150699768813328 and parameters: {'n_estimators': 194, 'max_depth': 4, 'learning_rate': 0.06441306768332178, 'subsample': 0.6810039186791758, 'colsample_bytree': 0.6020059880796037, 'gamma': 3.243036311679327}. Best is trial 21 with value: 0.6164292498684566.\n",
      "[I 2024-12-24 09:50:02,996] Trial 25 finished with value: 0.6142157308403619 and parameters: {'n_estimators': 152, 'max_depth': 5, 'learning_rate': 0.03903973756927849, 'subsample': 0.6364939918075981, 'colsample_bytree': 0.6285561005980729, 'gamma': 4.652283316555929}. Best is trial 21 with value: 0.6164292498684566.\n",
      "[I 2024-12-24 09:50:03,288] Trial 26 finished with value: 0.6149023875269158 and parameters: {'n_estimators': 185, 'max_depth': 3, 'learning_rate': 0.1263264778623366, 'subsample': 0.7594913566159015, 'colsample_bytree': 0.6364365876123038, 'gamma': 4.057795813603098}. Best is trial 21 with value: 0.6164292498684566.\n",
      "[I 2024-12-24 09:50:03,637] Trial 27 finished with value: 0.6144521990933737 and parameters: {'n_estimators': 225, 'max_depth': 4, 'learning_rate': 0.04438047733778194, 'subsample': 0.6965223586012973, 'colsample_bytree': 0.678594246687664, 'gamma': 3.331579377886353}. Best is trial 21 with value: 0.6164292498684566.\n",
      "[I 2024-12-24 09:50:03,881] Trial 28 finished with value: 0.6131483556064352 and parameters: {'n_estimators': 98, 'max_depth': 3, 'learning_rate': 0.028373461742342017, 'subsample': 0.658491813388748, 'colsample_bytree': 0.601875956026451, 'gamma': 4.969936485146341}. Best is trial 21 with value: 0.6164292498684566.\n",
      "[I 2024-12-24 09:50:04,126] Trial 29 finished with value: 0.6130197009755097 and parameters: {'n_estimators': 140, 'max_depth': 5, 'learning_rate': 0.09662512222368334, 'subsample': 0.7382363108639152, 'colsample_bytree': 0.6302001981416182, 'gamma': 2.714752434888508}. Best is trial 21 with value: 0.6164292498684566.\n",
      "[I 2024-12-24 09:50:04,524] Trial 30 finished with value: 0.6020662748662513 and parameters: {'n_estimators': 212, 'max_depth': 9, 'learning_rate': 0.06253831205297991, 'subsample': 0.712113211411684, 'colsample_bytree': 0.6824110389363056, 'gamma': 1.5584272386780915}. Best is trial 21 with value: 0.6164292498684566.\n",
      "[I 2024-12-24 09:50:04,717] Trial 31 finished with value: 0.6159684337993584 and parameters: {'n_estimators': 100, 'max_depth': 3, 'learning_rate': 0.13994994221941706, 'subsample': 0.6684729777680684, 'colsample_bytree': 0.7188887075760337, 'gamma': 3.6564515478707227}. Best is trial 21 with value: 0.6164292498684566.\n",
      "[I 2024-12-24 09:50:04,920] Trial 32 finished with value: 0.6157292510554094 and parameters: {'n_estimators': 85, 'max_depth': 4, 'learning_rate': 0.13698622914554417, 'subsample': 0.6688088333128096, 'colsample_bytree': 0.626387346226923, 'gamma': 4.130462357610844}. Best is trial 21 with value: 0.6164292498684566.\n",
      "[I 2024-12-24 09:50:05,201] Trial 33 finished with value: 0.615459855570775 and parameters: {'n_estimators': 145, 'max_depth': 3, 'learning_rate': 0.07678549323090134, 'subsample': 0.6327931732866643, 'colsample_bytree': 0.6668459336766969, 'gamma': 4.5664712163674475}. Best is trial 21 with value: 0.6164292498684566.\n",
      "[I 2024-12-24 09:50:05,478] Trial 34 finished with value: 0.6146006537370076 and parameters: {'n_estimators': 182, 'max_depth': 4, 'learning_rate': 0.11104416481792707, 'subsample': 0.6250781882827534, 'colsample_bytree': 0.7179515034777032, 'gamma': 3.494073062891688}. Best is trial 21 with value: 0.6164292498684566.\n",
      "[I 2024-12-24 09:50:05,710] Trial 35 finished with value: 0.6135183915485594 and parameters: {'n_estimators': 108, 'max_depth': 3, 'learning_rate': 0.0583176020214769, 'subsample': 0.6984814580283945, 'colsample_bytree': 0.7815566702994943, 'gamma': 2.183773308635684}. Best is trial 21 with value: 0.6164292498684566.\n",
      "[I 2024-12-24 09:50:05,964] Trial 36 finished with value: 0.613831229646242 and parameters: {'n_estimators': 134, 'max_depth': 6, 'learning_rate': 0.04621737242176873, 'subsample': 0.6695116184826768, 'colsample_bytree': 0.6441933539241119, 'gamma': 3.8710805612490633}. Best is trial 21 with value: 0.6164292498684566.\n",
      "[I 2024-12-24 09:50:06,125] Trial 37 finished with value: 0.6094565650751472 and parameters: {'n_estimators': 50, 'max_depth': 7, 'learning_rate': 0.1472574363142061, 'subsample': 0.7536617262600268, 'colsample_bytree': 0.6196497586894589, 'gamma': 2.8140387881030158}. Best is trial 21 with value: 0.6164292498684566.\n",
      "[I 2024-12-24 09:50:06,453] Trial 38 finished with value: 0.60476923725783 and parameters: {'n_estimators': 168, 'max_depth': 3, 'learning_rate': 0.08830934578239334, 'subsample': 0.6170141077294256, 'colsample_bytree': 0.8430961659243028, 'gamma': 0.04979634678135225}. Best is trial 21 with value: 0.6164292498684566.\n",
      "[I 2024-12-24 09:50:06,844] Trial 39 finished with value: 0.612760199010431 and parameters: {'n_estimators': 234, 'max_depth': 4, 'learning_rate': 0.031217207103825886, 'subsample': 0.7081132076344292, 'colsample_bytree': 0.9177376908743982, 'gamma': 3.1779935796302743}. Best is trial 21 with value: 0.6164292498684566.\n",
      "[I 2024-12-24 09:50:07,081] Trial 40 finished with value: 0.6106894306192717 and parameters: {'n_estimators': 122, 'max_depth': 5, 'learning_rate': 0.11536529012047127, 'subsample': 0.9691679297042648, 'colsample_bytree': 0.6596779031573842, 'gamma': 2.416150310930704}. Best is trial 21 with value: 0.6164292498684566.\n",
      "[I 2024-12-24 09:50:07,268] Trial 41 finished with value: 0.6156969370990533 and parameters: {'n_estimators': 79, 'max_depth': 4, 'learning_rate': 0.14779244268127106, 'subsample': 0.6673079630108787, 'colsample_bytree': 0.6173441512519356, 'gamma': 4.081921290235902}. Best is trial 21 with value: 0.6164292498684566.\n",
      "[I 2024-12-24 09:50:07,476] Trial 42 finished with value: 0.6157363726122062 and parameters: {'n_estimators': 91, 'max_depth': 4, 'learning_rate': 0.13562558673781117, 'subsample': 0.67437269120748, 'colsample_bytree': 0.6395444284519889, 'gamma': 4.437786638581422}. Best is trial 21 with value: 0.6164292498684566.\n",
      "[I 2024-12-24 09:50:07,673] Trial 43 finished with value: 0.6152213374233052 and parameters: {'n_estimators': 100, 'max_depth': 3, 'learning_rate': 0.17017661823919913, 'subsample': 0.6514359925325862, 'colsample_bytree': 0.6495864169600147, 'gamma': 4.4882326720039245}. Best is trial 21 with value: 0.6164292498684566.\n",
      "[I 2024-12-24 09:50:07,945] Trial 44 finished with value: 0.6143658408245846 and parameters: {'n_estimators': 156, 'max_depth': 5, 'learning_rate': 0.09782541869245191, 'subsample': 0.7322230957342191, 'colsample_bytree': 0.6756023868373504, 'gamma': 4.760620006070625}. Best is trial 21 with value: 0.6164292498684566.\n",
      "[I 2024-12-24 09:50:08,128] Trial 45 finished with value: 0.6139011879657416 and parameters: {'n_estimators': 66, 'max_depth': 3, 'learning_rate': 0.06821992636683609, 'subsample': 0.6880910141552956, 'colsample_bytree': 0.6005152980598938, 'gamma': 4.389715919335736}. Best is trial 21 with value: 0.6164292498684566.\n",
      "[I 2024-12-24 09:50:08,411] Trial 46 finished with value: 0.614328643549009 and parameters: {'n_estimators': 127, 'max_depth': 4, 'learning_rate': 0.05196693642647336, 'subsample': 0.645514868945195, 'colsample_bytree': 0.6421807554517192, 'gamma': 3.6107572210103314}. Best is trial 21 with value: 0.6164292498684566.\n",
      "[I 2024-12-24 09:50:08,617] Trial 47 finished with value: 0.6164681257643465 and parameters: {'n_estimators': 102, 'max_depth': 3, 'learning_rate': 0.11632761668007933, 'subsample': 0.6751078118477671, 'colsample_bytree': 0.7776967736850459, 'gamma': 4.193819592426093}. Best is trial 47 with value: 0.6164681257643465.\n",
      "[I 2024-12-24 09:50:08,882] Trial 48 finished with value: 0.6147011642601207 and parameters: {'n_estimators': 176, 'max_depth': 3, 'learning_rate': 0.0834181606165448, 'subsample': 0.9113830264559509, 'colsample_bytree': 0.7652710520733155, 'gamma': 3.834700508803928}. Best is trial 47 with value: 0.6164681257643465.\n",
      "[I 2024-12-24 09:50:09,242] Trial 49 finished with value: 0.6145677041846254 and parameters: {'n_estimators': 268, 'max_depth': 3, 'learning_rate': 0.1062865728031473, 'subsample': 0.7245190505134962, 'colsample_bytree': 0.7878054898008728, 'gamma': 4.2260113837598166}. Best is trial 47 with value: 0.6164681257643465.\n",
      "[I 2024-12-24 09:50:09,244] A new study created in memory with name: no-name-ee51d8cd-afaa-40d1-8dec-8d2332212932\n"
     ]
    },
    {
     "name": "stdout",
     "output_type": "stream",
     "text": [
      "Best parameters for xgboost for treatment: {'n_estimators': 102, 'max_depth': 3, 'learning_rate': 0.11632761668007933, 'subsample': 0.6751078118477671, 'colsample_bytree': 0.7776967736850459, 'gamma': 4.193819592426093}\n"
     ]
    },
    {
     "name": "stderr",
     "output_type": "stream",
     "text": [
      "[I 2024-12-24 09:50:12,753] Trial 0 finished with value: 0.584891936257766 and parameters: {'n_estimators': 156, 'max_depth': 10, 'min_samples_split': 6, 'min_samples_leaf': 2, 'max_features': 0.62089010459249}. Best is trial 0 with value: 0.584891936257766.\n",
      "[I 2024-12-24 09:50:17,485] Trial 1 finished with value: 0.6016595279434975 and parameters: {'n_estimators': 222, 'max_depth': 7, 'min_samples_split': 6, 'min_samples_leaf': 8, 'max_features': 0.80667848323974}. Best is trial 1 with value: 0.6016595279434975.\n",
      "[I 2024-12-24 09:50:20,102] Trial 2 finished with value: 0.5711765558855797 and parameters: {'n_estimators': 103, 'max_depth': 18, 'min_samples_split': 5, 'min_samples_leaf': 5, 'max_features': 0.6322732671788945}. Best is trial 1 with value: 0.6016595279434975.\n",
      "[I 2024-12-24 09:50:23,442] Trial 3 finished with value: 0.5776275132633549 and parameters: {'n_estimators': 121, 'max_depth': 12, 'min_samples_split': 8, 'min_samples_leaf': 5, 'max_features': 0.7244572591856215}. Best is trial 1 with value: 0.6016595279434975.\n",
      "[I 2024-12-24 09:50:30,084] Trial 4 finished with value: 0.5910691270628047 and parameters: {'n_estimators': 282, 'max_depth': 9, 'min_samples_split': 4, 'min_samples_leaf': 5, 'max_features': 0.7357117974829169}. Best is trial 1 with value: 0.6016595279434975.\n",
      "[I 2024-12-24 09:50:33,320] Trial 5 finished with value: 0.5853284411178198 and parameters: {'n_estimators': 101, 'max_depth': 10, 'min_samples_split': 7, 'min_samples_leaf': 4, 'max_features': 0.6997918391868264}. Best is trial 1 with value: 0.6016595279434975.\n",
      "[I 2024-12-24 09:50:36,560] Trial 6 finished with value: 0.5598973395095914 and parameters: {'n_estimators': 69, 'max_depth': 16, 'min_samples_split': 5, 'min_samples_leaf': 1, 'max_features': 0.9995593738392078}. Best is trial 1 with value: 0.6016595279434975.\n",
      "[I 2024-12-24 09:50:45,069] Trial 7 finished with value: 0.566589024602638 and parameters: {'n_estimators': 187, 'max_depth': 16, 'min_samples_split': 6, 'min_samples_leaf': 3, 'max_features': 0.9965637466567261}. Best is trial 1 with value: 0.6016595279434975.\n",
      "[I 2024-12-24 09:50:51,567] Trial 8 finished with value: 0.5823889843055832 and parameters: {'n_estimators': 202, 'max_depth': 14, 'min_samples_split': 5, 'min_samples_leaf': 9, 'max_features': 0.7750434837672373}. Best is trial 1 with value: 0.6016595279434975.\n",
      "[I 2024-12-24 09:50:58,323] Trial 9 finished with value: 0.5608046540655275 and parameters: {'n_estimators': 193, 'max_depth': 19, 'min_samples_split': 4, 'min_samples_leaf': 2, 'max_features': 0.6184726673555366}. Best is trial 1 with value: 0.6016595279434975.\n",
      "[I 2024-12-24 09:51:04,243] Trial 10 finished with value: 0.6059532203387515 and parameters: {'n_estimators': 271, 'max_depth': 5, 'min_samples_split': 10, 'min_samples_leaf': 8, 'max_features': 0.8670713027995554}. Best is trial 10 with value: 0.6059532203387515.\n",
      "[I 2024-12-24 09:51:09,083] Trial 11 finished with value: 0.6052290447041659 and parameters: {'n_estimators': 267, 'max_depth': 4, 'min_samples_split': 10, 'min_samples_leaf': 8, 'max_features': 0.8772705637300245}. Best is trial 10 with value: 0.6059532203387515.\n",
      "[I 2024-12-24 09:51:13,554] Trial 12 finished with value: 0.6019525151371403 and parameters: {'n_estimators': 296, 'max_depth': 3, 'min_samples_split': 10, 'min_samples_leaf': 7, 'max_features': 0.8884091584440297}. Best is trial 10 with value: 0.6059532203387515.\n",
      "[I 2024-12-24 09:51:17,512] Trial 13 finished with value: 0.601989048819293 and parameters: {'n_estimators': 251, 'max_depth': 3, 'min_samples_split': 10, 'min_samples_leaf': 10, 'max_features': 0.8776523411561297}. Best is trial 10 with value: 0.6059532203387515.\n",
      "[I 2024-12-24 09:51:24,054] Trial 14 finished with value: 0.6041828160695649 and parameters: {'n_estimators': 248, 'max_depth': 6, 'min_samples_split': 2, 'min_samples_leaf': 7, 'max_features': 0.9127391002343115}. Best is trial 10 with value: 0.6059532203387515.\n",
      "[I 2024-12-24 09:51:30,561] Trial 15 finished with value: 0.6048025468523294 and parameters: {'n_estimators': 257, 'max_depth': 6, 'min_samples_split': 9, 'min_samples_leaf': 7, 'max_features': 0.8402854906080104}. Best is trial 10 with value: 0.6059532203387515.\n",
      "[I 2024-12-24 09:51:35,702] Trial 16 finished with value: 0.6061274177071586 and parameters: {'n_estimators': 225, 'max_depth': 5, 'min_samples_split': 8, 'min_samples_leaf': 10, 'max_features': 0.9413816483384657}. Best is trial 16 with value: 0.6061274177071586.\n",
      "[I 2024-12-24 09:51:42,726] Trial 17 finished with value: 0.5972359755522173 and parameters: {'n_estimators': 223, 'max_depth': 8, 'min_samples_split': 8, 'min_samples_leaf': 10, 'max_features': 0.9492513143011339}. Best is trial 16 with value: 0.6061274177071586.\n",
      "[I 2024-12-24 09:51:46,292] Trial 18 finished with value: 0.6059997259552169 and parameters: {'n_estimators': 155, 'max_depth': 5, 'min_samples_split': 8, 'min_samples_leaf': 9, 'max_features': 0.9429200001406597}. Best is trial 16 with value: 0.6061274177071586.\n",
      "[I 2024-12-24 09:51:51,938] Trial 19 finished with value: 0.5844119767810557 and parameters: {'n_estimators': 146, 'max_depth': 12, 'min_samples_split': 8, 'min_samples_leaf': 10, 'max_features': 0.9416815587621532}. Best is trial 16 with value: 0.6061274177071586.\n",
      "[I 2024-12-24 09:51:55,649] Trial 20 finished with value: 0.6059997259552169 and parameters: {'n_estimators': 155, 'max_depth': 5, 'min_samples_split': 7, 'min_samples_leaf': 9, 'max_features': 0.9515079850240363}. Best is trial 16 with value: 0.6061274177071586.\n",
      "[I 2024-12-24 09:51:59,371] Trial 21 finished with value: 0.6057924282452971 and parameters: {'n_estimators': 164, 'max_depth': 5, 'min_samples_split': 7, 'min_samples_leaf': 9, 'max_features': 0.9361074119705484}. Best is trial 16 with value: 0.6061274177071586.\n",
      "[I 2024-12-24 09:52:03,086] Trial 22 finished with value: 0.6006195641453437 and parameters: {'n_estimators': 138, 'max_depth': 7, 'min_samples_split': 7, 'min_samples_leaf': 9, 'max_features': 0.9749754582407885}. Best is trial 16 with value: 0.6061274177071586.\n",
      "[I 2024-12-24 09:52:07,461] Trial 23 finished with value: 0.6055642926569558 and parameters: {'n_estimators': 217, 'max_depth': 4, 'min_samples_split': 9, 'min_samples_leaf': 9, 'max_features': 0.9115782486575028}. Best is trial 16 with value: 0.6061274177071586.\n",
      "[I 2024-12-24 09:52:11,750] Trial 24 finished with value: 0.601842908832903 and parameters: {'n_estimators': 173, 'max_depth': 7, 'min_samples_split': 9, 'min_samples_leaf': 6, 'max_features': 0.833247588394344}. Best is trial 16 with value: 0.6061274177071586.\n",
      "[I 2024-12-24 09:52:16,233] Trial 25 finished with value: 0.5922947745472935 and parameters: {'n_estimators': 126, 'max_depth': 9, 'min_samples_split': 8, 'min_samples_leaf': 10, 'max_features': 0.9670459182942144}. Best is trial 16 with value: 0.6061274177071586.\n",
      "[I 2024-12-24 09:52:17,647] Trial 26 finished with value: 0.6050843641978342 and parameters: {'n_estimators': 55, 'max_depth': 5, 'min_samples_split': 7, 'min_samples_leaf': 8, 'max_features': 0.9091057249486907}. Best is trial 16 with value: 0.6061274177071586.\n",
      "[I 2024-12-24 09:52:20,532] Trial 27 finished with value: 0.6015585340243818 and parameters: {'n_estimators': 180, 'max_depth': 3, 'min_samples_split': 9, 'min_samples_leaf': 9, 'max_features': 0.9701932100620791}. Best is trial 16 with value: 0.6061274177071586.\n",
      "[I 2024-12-24 09:52:26,964] Trial 28 finished with value: 0.5964584696600722 and parameters: {'n_estimators': 206, 'max_depth': 8, 'min_samples_split': 8, 'min_samples_leaf': 6, 'max_features': 0.9272847346475687}. Best is trial 16 with value: 0.6061274177071586.\n",
      "[I 2024-12-24 09:52:32,428] Trial 29 finished with value: 0.585774559633685 and parameters: {'n_estimators': 156, 'max_depth': 11, 'min_samples_split': 6, 'min_samples_leaf': 10, 'max_features': 0.8434893324101537}. Best is trial 16 with value: 0.6061274177071586.\n",
      "[I 2024-12-24 09:52:36,921] Trial 30 finished with value: 0.6052885531164677 and parameters: {'n_estimators': 236, 'max_depth': 4, 'min_samples_split': 7, 'min_samples_leaf': 7, 'max_features': 0.7830279292398798}. Best is trial 16 with value: 0.6061274177071586.\n",
      "[I 2024-12-24 09:52:42,941] Trial 31 finished with value: 0.6060823672829609 and parameters: {'n_estimators': 280, 'max_depth': 5, 'min_samples_split': 9, 'min_samples_leaf': 8, 'max_features': 0.8584618368887991}. Best is trial 16 with value: 0.6061274177071586.\n",
      "[I 2024-12-24 09:52:50,709] Trial 32 finished with value: 0.6042039848132882 and parameters: {'n_estimators': 300, 'max_depth': 6, 'min_samples_split': 9, 'min_samples_leaf': 8, 'max_features': 0.9571145445549842}. Best is trial 16 with value: 0.6061274177071586.\n",
      "[I 2024-12-24 09:52:57,220] Trial 33 finished with value: 0.5965613536018952 and parameters: {'n_estimators': 228, 'max_depth': 8, 'min_samples_split': 6, 'min_samples_leaf': 9, 'max_features': 0.8135610626994935}. Best is trial 16 with value: 0.6061274177071586.\n",
      "[I 2024-12-24 09:52:59,707] Trial 34 finished with value: 0.6057293061736866 and parameters: {'n_estimators': 108, 'max_depth': 5, 'min_samples_split': 8, 'min_samples_leaf': 8, 'max_features': 0.898169289224713}. Best is trial 16 with value: 0.6061274177071586.\n",
      "[I 2024-12-24 09:53:03,061] Trial 35 finished with value: 0.6056464545458095 and parameters: {'n_estimators': 166, 'max_depth': 6, 'min_samples_split': 8, 'min_samples_leaf': 10, 'max_features': 0.6661431150532058}. Best is trial 16 with value: 0.6061274177071586.\n",
      "[I 2024-12-24 09:53:08,104] Trial 36 finished with value: 0.5873773794314652 and parameters: {'n_estimators': 141, 'max_depth': 10, 'min_samples_split': 9, 'min_samples_leaf': 9, 'max_features': 0.86143037951471}. Best is trial 16 with value: 0.6061274177071586.\n",
      "[I 2024-12-24 09:53:09,713] Trial 37 finished with value: 0.604268681749505 and parameters: {'n_estimators': 79, 'max_depth': 4, 'min_samples_split': 7, 'min_samples_leaf': 8, 'max_features': 0.9274511153784425}. Best is trial 16 with value: 0.6061274177071586.\n",
      "[I 2024-12-24 09:53:13,383] Trial 38 finished with value: 0.6001007068487973 and parameters: {'n_estimators': 124, 'max_depth': 7, 'min_samples_split': 8, 'min_samples_leaf': 4, 'max_features': 0.9917046161623322}. Best is trial 16 with value: 0.6061274177071586.\n",
      "[I 2024-12-24 09:53:22,997] Trial 39 finished with value: 0.5916165854420006 and parameters: {'n_estimators': 278, 'max_depth': 9, 'min_samples_split': 7, 'min_samples_leaf': 6, 'max_features': 0.9789671435157509}. Best is trial 16 with value: 0.6061274177071586.\n",
      "[I 2024-12-24 09:53:29,129] Trial 40 finished with value: 0.5829522854087094 and parameters: {'n_estimators': 199, 'max_depth': 14, 'min_samples_split': 6, 'min_samples_leaf': 10, 'max_features': 0.7559456351383178}. Best is trial 16 with value: 0.6061274177071586.\n",
      "[I 2024-12-24 09:53:34,923] Trial 41 finished with value: 0.60607651536403 and parameters: {'n_estimators': 281, 'max_depth': 5, 'min_samples_split': 10, 'min_samples_leaf': 8, 'max_features': 0.8594735667158837}. Best is trial 16 with value: 0.6061274177071586.\n",
      "[I 2024-12-24 09:53:41,036] Trial 42 finished with value: 0.6062014424391492 and parameters: {'n_estimators': 287, 'max_depth': 5, 'min_samples_split': 10, 'min_samples_leaf': 9, 'max_features': 0.8202342719244073}. Best is trial 42 with value: 0.6062014424391492.\n",
      "[I 2024-12-24 09:53:45,405] Trial 43 finished with value: 0.6020801822425544 and parameters: {'n_estimators': 290, 'max_depth': 3, 'min_samples_split': 10, 'min_samples_leaf': 8, 'max_features': 0.809231457834874}. Best is trial 42 with value: 0.6062014424391492.\n",
      "[I 2024-12-24 09:53:51,635] Trial 44 finished with value: 0.6047229601949189 and parameters: {'n_estimators': 264, 'max_depth': 6, 'min_samples_split': 10, 'min_samples_leaf': 7, 'max_features': 0.788712336499719}. Best is trial 42 with value: 0.6062014424391492.\n",
      "[I 2024-12-24 09:53:58,895] Trial 45 finished with value: 0.6010611138387344 and parameters: {'n_estimators': 280, 'max_depth': 7, 'min_samples_split': 9, 'min_samples_leaf': 9, 'max_features': 0.8573450945407435}. Best is trial 42 with value: 0.6062014424391492.\n",
      "[I 2024-12-24 09:54:03,454] Trial 46 finished with value: 0.6054420423975362 and parameters: {'n_estimators': 244, 'max_depth': 4, 'min_samples_split': 10, 'min_samples_leaf': 1, 'max_features': 0.829216504795741}. Best is trial 42 with value: 0.6062014424391492.\n",
      "[I 2024-12-24 09:54:12,691] Trial 47 finished with value: 0.5775216954257963 and parameters: {'n_estimators': 287, 'max_depth': 17, 'min_samples_split': 9, 'min_samples_leaf': 8, 'max_features': 0.7527041037061434}. Best is trial 42 with value: 0.6062014424391492.\n",
      "[I 2024-12-24 09:54:22,340] Trial 48 finished with value: 0.5805400784544833 and parameters: {'n_estimators': 271, 'max_depth': 20, 'min_samples_split': 10, 'min_samples_leaf': 10, 'max_features': 0.8875317719572289}. Best is trial 42 with value: 0.6062014424391492.\n",
      "[I 2024-12-24 09:54:30,616] Trial 49 finished with value: 0.5770259005551829 and parameters: {'n_estimators': 257, 'max_depth': 14, 'min_samples_split': 3, 'min_samples_leaf': 7, 'max_features': 0.7126154993251317}. Best is trial 42 with value: 0.6062014424391492.\n",
      "[I 2024-12-24 09:54:30,623] A new study created in memory with name: no-name-83c23059-68e2-453f-9dad-d3e1f22fc10d\n"
     ]
    },
    {
     "name": "stdout",
     "output_type": "stream",
     "text": [
      "Best parameters for random_forest for treatment: {'n_estimators': 287, 'max_depth': 5, 'min_samples_split': 10, 'min_samples_leaf': 9, 'max_features': 0.8202342719244073}\n"
     ]
    },
    {
     "name": "stderr",
     "output_type": "stream",
     "text": [
      "[I 2024-12-24 09:54:30,872] Trial 0 finished with value: 0.639495720152966 and parameters: {'n_estimators': 187, 'max_depth': 6, 'learning_rate': 0.15566463557574328, 'subsample': 0.6555569593275864, 'colsample_bytree': 0.6404033940936004, 'gamma': 3.0849459596189144}. Best is trial 0 with value: 0.639495720152966.\n",
      "[I 2024-12-24 09:54:31,113] Trial 1 finished with value: 0.6368092835329298 and parameters: {'n_estimators': 119, 'max_depth': 3, 'learning_rate': 0.01166236837676965, 'subsample': 0.7586037738522498, 'colsample_bytree': 0.8355367806961506, 'gamma': 1.3091014645582533}. Best is trial 0 with value: 0.639495720152966.\n",
      "[I 2024-12-24 09:54:31,256] Trial 2 finished with value: 0.6376679933917501 and parameters: {'n_estimators': 80, 'max_depth': 9, 'learning_rate': 0.08231549604763208, 'subsample': 0.8729226599870019, 'colsample_bytree': 0.9019849671552973, 'gamma': 4.699247444300834}. Best is trial 0 with value: 0.639495720152966.\n",
      "[I 2024-12-24 09:54:31,763] Trial 3 finished with value: 0.6314006920236844 and parameters: {'n_estimators': 227, 'max_depth': 10, 'learning_rate': 0.037283307046687794, 'subsample': 0.6699382250551469, 'colsample_bytree': 0.6275222160309661, 'gamma': 1.329229126873284}. Best is trial 0 with value: 0.639495720152966.\n",
      "[I 2024-12-24 09:54:32,048] Trial 4 finished with value: 0.6405854883243168 and parameters: {'n_estimators': 248, 'max_depth': 10, 'learning_rate': 0.1306354441913012, 'subsample': 0.736374284499085, 'colsample_bytree': 0.7489243150202947, 'gamma': 3.511628988101502}. Best is trial 4 with value: 0.6405854883243168.\n",
      "[I 2024-12-24 09:54:32,217] Trial 5 finished with value: 0.634986983268229 and parameters: {'n_estimators': 84, 'max_depth': 7, 'learning_rate': 0.1177215993081799, 'subsample': 0.9200865792235116, 'colsample_bytree': 0.8847710749254305, 'gamma': 2.7567170189673544}. Best is trial 4 with value: 0.6405854883243168.\n",
      "[I 2024-12-24 09:54:32,423] Trial 6 finished with value: 0.6412727655128787 and parameters: {'n_estimators': 125, 'max_depth': 10, 'learning_rate': 0.10604208710759272, 'subsample': 0.6672447493712693, 'colsample_bytree': 0.8173387857203874, 'gamma': 4.16136476672653}. Best is trial 6 with value: 0.6412727655128787.\n",
      "[I 2024-12-24 09:54:32,744] Trial 7 finished with value: 0.6414196868647486 and parameters: {'n_estimators': 297, 'max_depth': 5, 'learning_rate': 0.12304595341689661, 'subsample': 0.8610256051315333, 'colsample_bytree': 0.6626975485518947, 'gamma': 2.8286681270471217}. Best is trial 7 with value: 0.6414196868647486.\n",
      "[I 2024-12-24 09:54:32,961] Trial 8 finished with value: 0.6411891305849329 and parameters: {'n_estimators': 136, 'max_depth': 4, 'learning_rate': 0.060670869963376436, 'subsample': 0.8734415652772307, 'colsample_bytree': 0.7623405281038397, 'gamma': 3.229077242193905}. Best is trial 7 with value: 0.6414196868647486.\n",
      "[I 2024-12-24 09:54:33,343] Trial 9 finished with value: 0.6393372723629033 and parameters: {'n_estimators': 170, 'max_depth': 5, 'learning_rate': 0.015865021766135863, 'subsample': 0.9754295077569851, 'colsample_bytree': 0.6773393387661903, 'gamma': 1.7347697664085633}. Best is trial 7 with value: 0.6414196868647486.\n",
      "[I 2024-12-24 09:54:34,246] Trial 10 finished with value: 0.567928310570225 and parameters: {'n_estimators': 300, 'max_depth': 8, 'learning_rate': 0.283530880614095, 'subsample': 0.816463757585538, 'colsample_bytree': 0.9605217848168238, 'gamma': 0.2181918807205041}. Best is trial 7 with value: 0.6414196868647486.\n",
      "[I 2024-12-24 09:54:34,604] Trial 11 finished with value: 0.6414618255472085 and parameters: {'n_estimators': 297, 'max_depth': 6, 'learning_rate': 0.26596365378613707, 'subsample': 0.7225586900491332, 'colsample_bytree': 0.7122573391570959, 'gamma': 4.6123122487899355}. Best is trial 11 with value: 0.6414618255472085.\n",
      "[I 2024-12-24 09:54:34,940] Trial 12 finished with value: 0.6424484326397555 and parameters: {'n_estimators': 295, 'max_depth': 6, 'learning_rate': 0.2730026855698693, 'subsample': 0.7715532660706368, 'colsample_bytree': 0.7131747742002925, 'gamma': 4.860157615244466}. Best is trial 12 with value: 0.6424484326397555.\n",
      "[I 2024-12-24 09:54:35,233] Trial 13 finished with value: 0.6417497808854197 and parameters: {'n_estimators': 254, 'max_depth': 7, 'learning_rate': 0.2992131623644246, 'subsample': 0.7292510570993468, 'colsample_bytree': 0.7445465914612327, 'gamma': 4.879974817636312}. Best is trial 12 with value: 0.6424484326397555.\n",
      "[I 2024-12-24 09:54:35,563] Trial 14 finished with value: 0.6405908671543917 and parameters: {'n_estimators': 254, 'max_depth': 7, 'learning_rate': 0.21036411556772355, 'subsample': 0.7919818419286841, 'colsample_bytree': 0.7333086872123743, 'gamma': 4.021817680674341}. Best is trial 12 with value: 0.6424484326397555.\n",
      "[I 2024-12-24 09:54:35,895] Trial 15 finished with value: 0.6432085949139635 and parameters: {'n_estimators': 217, 'max_depth': 8, 'learning_rate': 0.03300659406187271, 'subsample': 0.6099763275147692, 'colsample_bytree': 0.7872686871557223, 'gamma': 4.896773420669076}. Best is trial 15 with value: 0.6432085949139635.\n",
      "[I 2024-12-24 09:54:36,232] Trial 16 finished with value: 0.6424480059070182 and parameters: {'n_estimators': 206, 'max_depth': 8, 'learning_rate': 0.029352131518415425, 'subsample': 0.603824941162258, 'colsample_bytree': 0.7971930884090721, 'gamma': 4.081924318208754}. Best is trial 15 with value: 0.6432085949139635.\n",
      "[I 2024-12-24 09:54:36,608] Trial 17 finished with value: 0.6414502546984464 and parameters: {'n_estimators': 269, 'max_depth': 8, 'learning_rate': 0.026148159187641497, 'subsample': 0.6143207012090296, 'colsample_bytree': 0.6935968659148212, 'gamma': 4.976637067437273}. Best is trial 15 with value: 0.6432085949139635.\n",
      "[I 2024-12-24 09:54:36,946] Trial 18 finished with value: 0.6385311680689189 and parameters: {'n_estimators': 220, 'max_depth': 5, 'learning_rate': 0.048074142033319826, 'subsample': 0.9837906059262219, 'colsample_bytree': 0.8508313228508605, 'gamma': 2.132147915638103}. Best is trial 15 with value: 0.6432085949139635.\n",
      "[I 2024-12-24 09:54:37,253] Trial 19 finished with value: 0.6399481288623914 and parameters: {'n_estimators': 157, 'max_depth': 9, 'learning_rate': 0.019860551171359438, 'subsample': 0.6939122141362613, 'colsample_bytree': 0.6002144029565564, 'gamma': 3.6674552093765103}. Best is trial 15 with value: 0.6432085949139635.\n",
      "[I 2024-12-24 09:54:37,797] Trial 20 finished with value: 0.6110751909493473 and parameters: {'n_estimators': 191, 'max_depth': 6, 'learning_rate': 0.07297918968494391, 'subsample': 0.7998946898135897, 'colsample_bytree': 0.781556490895238, 'gamma': 0.09025423997964666}. Best is trial 15 with value: 0.6432085949139635.\n",
      "[I 2024-12-24 09:54:38,160] Trial 21 finished with value: 0.6430415528827798 and parameters: {'n_estimators': 213, 'max_depth': 8, 'learning_rate': 0.03567350970078674, 'subsample': 0.6119009308268852, 'colsample_bytree': 0.7924566746889316, 'gamma': 4.2546677298493805}. Best is trial 15 with value: 0.6432085949139635.\n",
      "[I 2024-12-24 09:54:38,505] Trial 22 finished with value: 0.6432276548050216 and parameters: {'n_estimators': 221, 'max_depth': 9, 'learning_rate': 0.03684478370681554, 'subsample': 0.6314797148545217, 'colsample_bytree': 0.875717404131759, 'gamma': 4.481158515534931}. Best is trial 22 with value: 0.6432276548050216.\n",
      "[I 2024-12-24 09:54:38,841] Trial 23 finished with value: 0.641997555797353 and parameters: {'n_estimators': 222, 'max_depth': 9, 'learning_rate': 0.0416657081892405, 'subsample': 0.6350408881133797, 'colsample_bytree': 0.9330996955386912, 'gamma': 4.365906425420208}. Best is trial 22 with value: 0.6432276548050216.\n",
      "[I 2024-12-24 09:54:39,179] Trial 24 finished with value: 0.6431446090464622 and parameters: {'n_estimators': 203, 'max_depth': 8, 'learning_rate': 0.03294899412840575, 'subsample': 0.6016438333755352, 'colsample_bytree': 0.863573648439071, 'gamma': 3.761691974457234}. Best is trial 22 with value: 0.6432276548050216.\n",
      "[I 2024-12-24 09:54:39,510] Trial 25 finished with value: 0.6397953995003961 and parameters: {'n_estimators': 165, 'max_depth': 9, 'learning_rate': 0.022996416417727726, 'subsample': 0.6929609776595839, 'colsample_bytree': 0.8716924946010055, 'gamma': 3.7072956715344096}. Best is trial 22 with value: 0.6432276548050216.\n",
      "[I 2024-12-24 09:54:39,925] Trial 26 finished with value: 0.6386138567504503 and parameters: {'n_estimators': 196, 'max_depth': 8, 'learning_rate': 0.014999381754759003, 'subsample': 0.6436692821684173, 'colsample_bytree': 0.9188564010878362, 'gamma': 4.4823897308883724}. Best is trial 22 with value: 0.6432276548050216.\n",
      "[I 2024-12-24 09:54:40,276] Trial 27 finished with value: 0.6407634468914225 and parameters: {'n_estimators': 237, 'max_depth': 9, 'learning_rate': 0.062010930654905136, 'subsample': 0.6349427083298453, 'colsample_bytree': 0.9754700555237672, 'gamma': 3.772612668834995}. Best is trial 22 with value: 0.6432276548050216.\n",
      "[I 2024-12-24 09:54:40,589] Trial 28 finished with value: 0.6422426173057459 and parameters: {'n_estimators': 152, 'max_depth': 7, 'learning_rate': 0.031076777070162664, 'subsample': 0.6021105672506818, 'colsample_bytree': 0.8295443521691136, 'gamma': 3.2931256206350974}. Best is trial 22 with value: 0.6432276548050216.\n",
      "[I 2024-12-24 09:54:40,933] Trial 29 finished with value: 0.6388867882400383 and parameters: {'n_estimators': 185, 'max_depth': 8, 'learning_rate': 0.04824408724641872, 'subsample': 0.6783091534580198, 'colsample_bytree': 0.8686803701312681, 'gamma': 2.493856169156666}. Best is trial 22 with value: 0.6432276548050216.\n",
      "[I 2024-12-24 09:54:41,305] Trial 30 finished with value: 0.6403492624079367 and parameters: {'n_estimators': 180, 'max_depth': 10, 'learning_rate': 0.022625552614454873, 'subsample': 0.6487836283857134, 'colsample_bytree': 0.9464813509473644, 'gamma': 3.9596238657572416}. Best is trial 22 with value: 0.6432276548050216.\n",
      "[I 2024-12-24 09:54:41,645] Trial 31 finished with value: 0.6430206936066359 and parameters: {'n_estimators': 211, 'max_depth': 8, 'learning_rate': 0.034958309469994425, 'subsample': 0.6228541162047997, 'colsample_bytree': 0.7912230378307826, 'gamma': 4.307071233511279}. Best is trial 22 with value: 0.6432276548050216.\n",
      "[I 2024-12-24 09:54:41,999] Trial 32 finished with value: 0.6433770886721231 and parameters: {'n_estimators': 204, 'max_depth': 9, 'learning_rate': 0.04301867812200324, 'subsample': 0.6008571480930289, 'colsample_bytree': 0.8435803111557307, 'gamma': 4.532285932906392}. Best is trial 32 with value: 0.6433770886721231.\n",
      "[I 2024-12-24 09:54:42,353] Trial 33 finished with value: 0.6419822042714304 and parameters: {'n_estimators': 237, 'max_depth': 9, 'learning_rate': 0.04492656844332617, 'subsample': 0.7009639629128124, 'colsample_bytree': 0.8440164876064529, 'gamma': 4.557788802210737}. Best is trial 32 with value: 0.6433770886721231.\n",
      "[I 2024-12-24 09:54:42,716] Trial 34 finished with value: 0.641959625368446 and parameters: {'n_estimators': 276, 'max_depth': 9, 'learning_rate': 0.08715566600467821, 'subsample': 0.6566894704673562, 'colsample_bytree': 0.8957210423231409, 'gamma': 4.605768596417975}. Best is trial 32 with value: 0.6433770886721231.\n",
      "[I 2024-12-24 09:54:42,891] Trial 35 finished with value: 0.63272044946409 and parameters: {'n_estimators': 52, 'max_depth': 10, 'learning_rate': 0.01802082260804954, 'subsample': 0.6009344008861884, 'colsample_bytree': 0.8163869141461637, 'gamma': 4.972506138626237}. Best is trial 32 with value: 0.6433770886721231.\n",
      "[I 2024-12-24 09:54:43,320] Trial 36 finished with value: 0.6396152899888305 and parameters: {'n_estimators': 199, 'max_depth': 9, 'learning_rate': 0.01272535681422818, 'subsample': 0.6303200263156303, 'colsample_bytree': 0.8588313190681075, 'gamma': 3.3495602664381883}. Best is trial 32 with value: 0.6433770886721231.\n",
      "[I 2024-12-24 09:54:43,740] Trial 37 finished with value: 0.6411206646699835 and parameters: {'n_estimators': 229, 'max_depth': 7, 'learning_rate': 0.02750419075211618, 'subsample': 0.6693070531642978, 'colsample_bytree': 0.9005609303009804, 'gamma': 3.81460884893703}. Best is trial 32 with value: 0.6433770886721231.\n",
      "[I 2024-12-24 09:54:44,155] Trial 38 finished with value: 0.6406760534794066 and parameters: {'n_estimators': 242, 'max_depth': 10, 'learning_rate': 0.05625735023282502, 'subsample': 0.7106603580884074, 'colsample_bytree': 0.8221393004275581, 'gamma': 2.9745879693454493}. Best is trial 32 with value: 0.6433770886721231.\n",
      "[I 2024-12-24 09:54:44,463] Trial 39 finished with value: 0.6405643954755802 and parameters: {'n_estimators': 178, 'max_depth': 10, 'learning_rate': 0.03919304977952626, 'subsample': 0.6504365663952782, 'colsample_bytree': 0.9118642589878558, 'gamma': 4.695150088366953}. Best is trial 32 with value: 0.6433770886721231.\n",
      "[I 2024-12-24 09:54:44,858] Trial 40 finished with value: 0.6403919201576689 and parameters: {'n_estimators': 265, 'max_depth': 8, 'learning_rate': 0.032953483953243226, 'subsample': 0.7472312974450961, 'colsample_bytree': 0.7729605903938741, 'gamma': 3.524489981700957}. Best is trial 32 with value: 0.6433770886721231.\n",
      "[I 2024-12-24 09:54:45,206] Trial 41 finished with value: 0.6424050078942193 and parameters: {'n_estimators': 214, 'max_depth': 8, 'learning_rate': 0.036414568591661, 'subsample': 0.6197833326056494, 'colsample_bytree': 0.8077158681495995, 'gamma': 4.2813079475384175}. Best is trial 32 with value: 0.6433770886721231.\n",
      "[I 2024-12-24 09:54:45,517] Trial 42 finished with value: 0.6434205724487373 and parameters: {'n_estimators': 203, 'max_depth': 9, 'learning_rate': 0.07085688177777638, 'subsample': 0.6182274350595574, 'colsample_bytree': 0.8763862322879655, 'gamma': 4.0957068387928}. Best is trial 42 with value: 0.6434205724487373.\n",
      "[I 2024-12-24 09:54:45,813] Trial 43 finished with value: 0.6430961548448288 and parameters: {'n_estimators': 201, 'max_depth': 3, 'learning_rate': 0.06961292009470094, 'subsample': 0.6806886598086879, 'colsample_bytree': 0.8849430823285083, 'gamma': 4.017979652331352}. Best is trial 42 with value: 0.6434205724487373.\n",
      "[I 2024-12-24 09:54:46,173] Trial 44 finished with value: 0.6441544275944695 and parameters: {'n_estimators': 228, 'max_depth': 9, 'learning_rate': 0.05043301607546585, 'subsample': 0.6655839492292278, 'colsample_bytree': 0.8437921881216988, 'gamma': 4.747164143894018}. Best is trial 44 with value: 0.6441544275944695.\n",
      "[I 2024-12-24 09:54:46,518] Trial 45 finished with value: 0.6436956922276417 and parameters: {'n_estimators': 228, 'max_depth': 9, 'learning_rate': 0.09133983682906631, 'subsample': 0.6611583712683566, 'colsample_bytree': 0.8869339013044364, 'gamma': 4.684925247811778}. Best is trial 44 with value: 0.6441544275944695.\n",
      "[I 2024-12-24 09:54:47,013] Trial 46 finished with value: 0.6167504934130341 and parameters: {'n_estimators': 234, 'max_depth': 9, 'learning_rate': 0.08836107687172919, 'subsample': 0.6591590563027494, 'colsample_bytree': 0.8357520162091331, 'gamma': 1.2476599277301221}. Best is trial 44 with value: 0.6441544275944695.\n",
      "[I 2024-12-24 09:54:47,305] Trial 47 finished with value: 0.6373713913063185 and parameters: {'n_estimators': 225, 'max_depth': 10, 'learning_rate': 0.16164928601906858, 'subsample': 0.8471645817474891, 'colsample_bytree': 0.8840868252522296, 'gamma': 4.722606970192879}. Best is trial 44 with value: 0.6441544275944695.\n",
      "[I 2024-12-24 09:54:47,635] Trial 48 finished with value: 0.638930835949144 and parameters: {'n_estimators': 249, 'max_depth': 9, 'learning_rate': 0.10465218677431262, 'subsample': 0.7649108947908224, 'colsample_bytree': 0.9881629147695189, 'gamma': 4.486415351049364}. Best is trial 44 with value: 0.6441544275944695.\n",
      "[I 2024-12-24 09:54:47,958] Trial 49 finished with value: 0.6361304100727834 and parameters: {'n_estimators': 258, 'max_depth': 10, 'learning_rate': 0.14995202431822102, 'subsample': 0.9538092568948886, 'colsample_bytree': 0.925703540921536, 'gamma': 4.726087727250218}. Best is trial 44 with value: 0.6441544275944695.\n",
      "[I 2024-12-24 09:54:47,959] A new study created in memory with name: no-name-9f28abaf-78be-49cd-aaec-84499df41cbc\n"
     ]
    },
    {
     "name": "stdout",
     "output_type": "stream",
     "text": [
      "Best parameters for xgboost for control: {'n_estimators': 228, 'max_depth': 9, 'learning_rate': 0.05043301607546585, 'subsample': 0.6655839492292278, 'colsample_bytree': 0.8437921881216988, 'gamma': 4.747164143894018}\n"
     ]
    },
    {
     "name": "stderr",
     "output_type": "stream",
     "text": [
      "[I 2024-12-24 09:54:51,182] Trial 0 finished with value: 0.6058962813485692 and parameters: {'n_estimators': 94, 'max_depth': 16, 'min_samples_split': 2, 'min_samples_leaf': 7, 'max_features': 0.6707982896638695}. Best is trial 0 with value: 0.6058962813485692.\n",
      "[I 2024-12-24 09:55:02,271] Trial 1 finished with value: 0.6133905983300587 and parameters: {'n_estimators': 300, 'max_depth': 10, 'min_samples_split': 9, 'min_samples_leaf': 5, 'max_features': 0.9319383592942475}. Best is trial 1 with value: 0.6133905983300587.\n",
      "[I 2024-12-24 09:55:08,269] Trial 2 finished with value: 0.6139776035554881 and parameters: {'n_estimators': 228, 'max_depth': 13, 'min_samples_split': 7, 'min_samples_leaf': 10, 'max_features': 0.6174749231880458}. Best is trial 2 with value: 0.6139776035554881.\n",
      "[I 2024-12-24 09:55:17,541] Trial 3 finished with value: 0.6094723286922801 and parameters: {'n_estimators': 278, 'max_depth': 18, 'min_samples_split': 2, 'min_samples_leaf': 10, 'max_features': 0.8014980259343757}. Best is trial 2 with value: 0.6139776035554881.\n",
      "[I 2024-12-24 09:55:22,971] Trial 4 finished with value: 0.6300428288175355 and parameters: {'n_estimators': 207, 'max_depth': 7, 'min_samples_split': 8, 'min_samples_leaf': 2, 'max_features': 0.8000343383437122}. Best is trial 4 with value: 0.6300428288175355.\n",
      "[I 2024-12-24 09:55:25,625] Trial 5 finished with value: 0.6291180238078473 and parameters: {'n_estimators': 151, 'max_depth': 3, 'min_samples_split': 5, 'min_samples_leaf': 4, 'max_features': 0.9199197400094015}. Best is trial 4 with value: 0.6300428288175355.\n",
      "[I 2024-12-24 09:55:28,047] Trial 6 finished with value: 0.606219562812594 and parameters: {'n_estimators': 62, 'max_depth': 11, 'min_samples_split': 5, 'min_samples_leaf': 1, 'max_features': 0.9063876730030102}. Best is trial 4 with value: 0.6300428288175355.\n",
      "[I 2024-12-24 09:55:30,542] Trial 7 finished with value: 0.6289783863300883 and parameters: {'n_estimators': 108, 'max_depth': 8, 'min_samples_split': 6, 'min_samples_leaf': 6, 'max_features': 0.64507536983813}. Best is trial 4 with value: 0.6300428288175355.\n",
      "[I 2024-12-24 09:55:33,282] Trial 8 finished with value: 0.6338707319365757 and parameters: {'n_estimators': 127, 'max_depth': 6, 'min_samples_split': 10, 'min_samples_leaf': 8, 'max_features': 0.7183403645790478}. Best is trial 8 with value: 0.6338707319365757.\n",
      "[I 2024-12-24 09:55:34,898] Trial 9 finished with value: 0.6336986053713524 and parameters: {'n_estimators': 88, 'max_depth': 5, 'min_samples_split': 2, 'min_samples_leaf': 1, 'max_features': 0.7434860202232904}. Best is trial 8 with value: 0.6338707319365757.\n",
      "[I 2024-12-24 09:55:39,392] Trial 10 finished with value: 0.6090067024480851 and parameters: {'n_estimators': 142, 'max_depth': 14, 'min_samples_split': 9, 'min_samples_leaf': 8, 'max_features': 0.7164623021490234}. Best is trial 8 with value: 0.6338707319365757.\n",
      "[I 2024-12-24 09:55:40,173] Trial 11 finished with value: 0.6297772742144617 and parameters: {'n_estimators': 55, 'max_depth': 3, 'min_samples_split': 10, 'min_samples_leaf': 3, 'max_features': 0.7352961815638963}. Best is trial 8 with value: 0.6338707319365757.\n",
      "[I 2024-12-24 09:55:42,618] Trial 12 finished with value: 0.6339673891154777 and parameters: {'n_estimators': 113, 'max_depth': 6, 'min_samples_split': 4, 'min_samples_leaf': 8, 'max_features': 0.7423650869061589}. Best is trial 12 with value: 0.6339673891154777.\n",
      "[I 2024-12-24 09:55:46,061] Trial 13 finished with value: 0.6301048176897214 and parameters: {'n_estimators': 135, 'max_depth': 7, 'min_samples_split': 4, 'min_samples_leaf': 8, 'max_features': 0.8292112390636618}. Best is trial 12 with value: 0.6339673891154777.\n",
      "[I 2024-12-24 09:55:51,152] Trial 14 finished with value: 0.6226006584940152 and parameters: {'n_estimators': 184, 'max_depth': 9, 'min_samples_split': 4, 'min_samples_leaf': 8, 'max_features': 0.6985131844404526}. Best is trial 12 with value: 0.6339673891154777.\n",
      "[I 2024-12-24 09:55:53,576] Trial 15 finished with value: 0.6333371200871218 and parameters: {'n_estimators': 114, 'max_depth': 5, 'min_samples_split': 7, 'min_samples_leaf': 9, 'max_features': 0.8580157649127269}. Best is trial 12 with value: 0.6339673891154777.\n",
      "[I 2024-12-24 09:55:59,024] Trial 16 finished with value: 0.6022798692971257 and parameters: {'n_estimators': 175, 'max_depth': 20, 'min_samples_split': 4, 'min_samples_leaf': 6, 'max_features': 0.7627793628243504}. Best is trial 12 with value: 0.6339673891154777.\n",
      "[I 2024-12-24 09:56:02,951] Trial 17 finished with value: 0.6322539621484163 and parameters: {'n_estimators': 164, 'max_depth': 5, 'min_samples_split': 10, 'min_samples_leaf': 7, 'max_features': 0.9759938180301183}. Best is trial 12 with value: 0.6339673891154777.\n",
      "[I 2024-12-24 09:56:06,201] Trial 18 finished with value: 0.6134586891953754 and parameters: {'n_estimators': 125, 'max_depth': 12, 'min_samples_split': 3, 'min_samples_leaf': 9, 'max_features': 0.6008333690996263}. Best is trial 12 with value: 0.6339673891154777.\n",
      "[I 2024-12-24 09:56:08,065] Trial 19 finished with value: 0.6334743456053183 and parameters: {'n_estimators': 84, 'max_depth': 6, 'min_samples_split': 7, 'min_samples_leaf': 5, 'max_features': 0.6736098616371173}. Best is trial 12 with value: 0.6339673891154777.\n",
      "[I 2024-12-24 09:56:14,855] Trial 20 finished with value: 0.6210952033004896 and parameters: {'n_estimators': 252, 'max_depth': 9, 'min_samples_split': 6, 'min_samples_leaf': 7, 'max_features': 0.765382774207467}. Best is trial 12 with value: 0.6339673891154777.\n",
      "[I 2024-12-24 09:56:16,139] Trial 21 finished with value: 0.6316898638065708 and parameters: {'n_estimators': 76, 'max_depth': 4, 'min_samples_split': 3, 'min_samples_leaf': 1, 'max_features': 0.7516347883406341}. Best is trial 12 with value: 0.6339673891154777.\n",
      "[I 2024-12-24 09:56:18,207] Trial 22 finished with value: 0.6325879570154881 and parameters: {'n_estimators': 96, 'max_depth': 6, 'min_samples_split': 3, 'min_samples_leaf': 3, 'max_features': 0.7000168479281104}. Best is trial 12 with value: 0.6339673891154777.\n",
      "[I 2024-12-24 09:56:20,741] Trial 23 finished with value: 0.632787668317234 and parameters: {'n_estimators': 125, 'max_depth': 5, 'min_samples_split': 2, 'min_samples_leaf': 9, 'max_features': 0.8527084752476569}. Best is trial 12 with value: 0.6339673891154777.\n",
      "[I 2024-12-24 09:56:23,547] Trial 24 finished with value: 0.6261179259961657 and parameters: {'n_estimators': 109, 'max_depth': 8, 'min_samples_split': 5, 'min_samples_leaf': 4, 'max_features': 0.7701717216411997}. Best is trial 12 with value: 0.6339673891154777.\n",
      "[I 2024-12-24 09:56:24,595] Trial 25 finished with value: 0.6298530409039778 and parameters: {'n_estimators': 72, 'max_depth': 3, 'min_samples_split': 3, 'min_samples_leaf': 6, 'max_features': 0.7203074387292804}. Best is trial 12 with value: 0.6339673891154777.\n",
      "[I 2024-12-24 09:56:27,736] Trial 26 finished with value: 0.6309796333579811 and parameters: {'n_estimators': 150, 'max_depth': 7, 'min_samples_split': 4, 'min_samples_leaf': 8, 'max_features': 0.6460967282109398}. Best is trial 12 with value: 0.6339673891154777.\n",
      "[I 2024-12-24 09:56:29,333] Trial 27 finished with value: 0.6129991629475412 and parameters: {'n_estimators': 50, 'max_depth': 10, 'min_samples_split': 6, 'min_samples_leaf': 7, 'max_features': 0.7874031173078502}. Best is trial 12 with value: 0.6339673891154777.\n",
      "[I 2024-12-24 09:56:32,654] Trial 28 finished with value: 0.6324773201530322 and parameters: {'n_estimators': 196, 'max_depth': 4, 'min_samples_split': 2, 'min_samples_leaf': 2, 'max_features': 0.826159737009654}. Best is trial 12 with value: 0.6339673891154777.\n",
      "[I 2024-12-24 09:56:35,554] Trial 29 finished with value: 0.6082583506502078 and parameters: {'n_estimators': 93, 'max_depth': 15, 'min_samples_split': 8, 'min_samples_leaf': 9, 'max_features': 0.6802025213943087}. Best is trial 12 with value: 0.6339673891154777.\n",
      "[I 2024-12-24 09:56:37,656] Trial 30 finished with value: 0.6323709198161411 and parameters: {'n_estimators': 94, 'max_depth': 6, 'min_samples_split': 2, 'min_samples_leaf': 10, 'max_features': 0.7378148907173863}. Best is trial 12 with value: 0.6339673891154777.\n",
      "[I 2024-12-24 09:56:39,458] Trial 31 finished with value: 0.6333448976074691 and parameters: {'n_estimators': 82, 'max_depth': 6, 'min_samples_split': 7, 'min_samples_leaf': 5, 'max_features': 0.6697855937258317}. Best is trial 12 with value: 0.6339673891154777.\n",
      "[I 2024-12-24 09:56:41,450] Trial 32 finished with value: 0.62878312894359 and parameters: {'n_estimators': 87, 'max_depth': 8, 'min_samples_split': 9, 'min_samples_leaf': 4, 'max_features': 0.6628199483869814}. Best is trial 12 with value: 0.6339673891154777.\n",
      "[I 2024-12-24 09:56:43,616] Trial 33 finished with value: 0.6323787194014167 and parameters: {'n_estimators': 125, 'max_depth': 4, 'min_samples_split': 8, 'min_samples_leaf': 5, 'max_features': 0.6951335181268773}. Best is trial 12 with value: 0.6339673891154777.\n",
      "[I 2024-12-24 09:56:45,404] Trial 34 finished with value: 0.6184625339260632 and parameters: {'n_estimators': 71, 'max_depth': 10, 'min_samples_split': 9, 'min_samples_leaf': 7, 'max_features': 0.6371654345875802}. Best is trial 12 with value: 0.6339673891154777.\n",
      "[I 2024-12-24 09:56:47,794] Trial 35 finished with value: 0.6321099776461986 and parameters: {'n_estimators': 108, 'max_depth': 6, 'min_samples_split': 7, 'min_samples_leaf': 2, 'max_features': 0.7296843217060388}. Best is trial 12 with value: 0.6339673891154777.\n",
      "[I 2024-12-24 09:56:52,117] Trial 36 finished with value: 0.6292639783112973 and parameters: {'n_estimators': 159, 'max_depth': 7, 'min_samples_split': 5, 'min_samples_leaf': 3, 'max_features': 0.780856582342625}. Best is trial 12 with value: 0.6339673891154777.\n",
      "[I 2024-12-24 09:56:53,957] Trial 37 finished with value: 0.634056399226727 and parameters: {'n_estimators': 101, 'max_depth': 5, 'min_samples_split': 10, 'min_samples_leaf': 10, 'max_features': 0.7080358232261376}. Best is trial 37 with value: 0.634056399226727.\n",
      "[I 2024-12-24 09:57:00,534] Trial 38 finished with value: 0.611371003685215 and parameters: {'n_estimators': 220, 'max_depth': 17, 'min_samples_split': 10, 'min_samples_leaf': 10, 'max_features': 0.7513414668855309}. Best is trial 37 with value: 0.634056399226727.\n",
      "[I 2024-12-24 09:57:03,117] Trial 39 finished with value: 0.631928289692336 and parameters: {'n_estimators': 136, 'max_depth': 4, 'min_samples_split': 9, 'min_samples_leaf': 10, 'max_features': 0.8133832219042183}. Best is trial 37 with value: 0.634056399226727.\n",
      "[I 2024-12-24 09:57:06,113] Trial 40 finished with value: 0.6112665110555624 and parameters: {'n_estimators': 99, 'max_depth': 12, 'min_samples_split': 10, 'min_samples_leaf': 9, 'max_features': 0.6932424425021039}. Best is trial 37 with value: 0.634056399226727.\n",
      "[I 2024-12-24 09:57:07,246] Trial 41 finished with value: 0.6334785563045101 and parameters: {'n_estimators': 61, 'max_depth': 5, 'min_samples_split': 8, 'min_samples_leaf': 6, 'max_features': 0.7152978575257736}. Best is trial 37 with value: 0.634056399226727.\n",
      "[I 2024-12-24 09:57:08,412] Trial 42 finished with value: 0.6334311622646304 and parameters: {'n_estimators': 63, 'max_depth': 5, 'min_samples_split': 10, 'min_samples_leaf': 6, 'max_features': 0.7118210237848379}. Best is trial 37 with value: 0.634056399226727.\n",
      "[I 2024-12-24 09:57:10,028] Trial 43 finished with value: 0.6312764499392193 and parameters: {'n_estimators': 116, 'max_depth': 3, 'min_samples_split': 9, 'min_samples_leaf': 8, 'max_features': 0.7412082636237514}. Best is trial 37 with value: 0.634056399226727.\n",
      "[I 2024-12-24 09:57:17,856] Trial 44 finished with value: 0.627934859982536 and parameters: {'n_estimators': 295, 'max_depth': 8, 'min_samples_split': 8, 'min_samples_leaf': 7, 'max_features': 0.7209471161896432}. Best is trial 37 with value: 0.634056399226727.\n",
      "[I 2024-12-24 09:57:19,258] Trial 45 finished with value: 0.6319432471338237 and parameters: {'n_estimators': 67, 'max_depth': 5, 'min_samples_split': 8, 'min_samples_leaf': 8, 'max_features': 0.7955411552900152}. Best is trial 37 with value: 0.634056399226727.\n",
      "[I 2024-12-24 09:57:20,146] Trial 46 finished with value: 0.6328087138148347 and parameters: {'n_estimators': 50, 'max_depth': 4, 'min_samples_split': 10, 'min_samples_leaf': 6, 'max_features': 0.7113126706852004}. Best is trial 37 with value: 0.634056399226727.\n",
      "[I 2024-12-24 09:57:22,797] Trial 47 finished with value: 0.6237116444345803 and parameters: {'n_estimators': 104, 'max_depth': 9, 'min_samples_split': 9, 'min_samples_leaf': 9, 'max_features': 0.6567889628788842}. Best is trial 37 with value: 0.634056399226727.\n",
      "[I 2024-12-24 09:57:24,591] Trial 48 finished with value: 0.6298427653609351 and parameters: {'n_estimators': 84, 'max_depth': 7, 'min_samples_split': 10, 'min_samples_leaf': 4, 'max_features': 0.6270485464060617}. Best is trial 37 with value: 0.634056399226727.\n",
      "[I 2024-12-24 09:57:26,292] Trial 49 finished with value: 0.6313439297353447 and parameters: {'n_estimators': 117, 'max_depth': 3, 'min_samples_split': 6, 'min_samples_leaf': 10, 'max_features': 0.7527009588176622}. Best is trial 37 with value: 0.634056399226727.\n",
      "[I 2024-12-24 09:57:26,297] A new study created in memory with name: no-name-6f824dfb-7e4c-4e34-8fe0-8bd5db64426b\n"
     ]
    },
    {
     "name": "stdout",
     "output_type": "stream",
     "text": [
      "Best parameters for random_forest for control: {'n_estimators': 101, 'max_depth': 5, 'min_samples_split': 10, 'min_samples_leaf': 10, 'max_features': 0.7080358232261376}\n"
     ]
    },
    {
     "name": "stderr",
     "output_type": "stream",
     "text": [
      "[I 2024-12-24 09:57:27,089] Trial 0 finished with value: 0.6467908442969926 and parameters: {'n_estimators': 291, 'max_depth': 6, 'learning_rate': 0.023074735318433903, 'subsample': 0.8154140786461395, 'colsample_bytree': 0.8492148260692909, 'gamma': 0.936052195326052}. Best is trial 0 with value: 0.6467908442969926.\n",
      "[I 2024-12-24 09:57:27,875] Trial 1 finished with value: 0.6533685375907492 and parameters: {'n_estimators': 295, 'max_depth': 6, 'learning_rate': 0.012083113970563157, 'subsample': 0.8805581225811496, 'colsample_bytree': 0.6466884287843676, 'gamma': 2.6044487801446916}. Best is trial 1 with value: 0.6533685375907492.\n",
      "[I 2024-12-24 09:57:28,341] Trial 2 finished with value: 0.6548033500570012 and parameters: {'n_estimators': 235, 'max_depth': 7, 'learning_rate': 0.04421264367220951, 'subsample': 0.7970940667673752, 'colsample_bytree': 0.6559513576096782, 'gamma': 3.001826506057709}. Best is trial 2 with value: 0.6548033500570012.\n",
      "[I 2024-12-24 09:57:28,635] Trial 3 finished with value: 0.652467327035481 and parameters: {'n_estimators': 108, 'max_depth': 4, 'learning_rate': 0.08887733907405193, 'subsample': 0.7870341007577479, 'colsample_bytree': 0.7643514592556979, 'gamma': 0.9977466274665481}. Best is trial 2 with value: 0.6548033500570012.\n",
      "[I 2024-12-24 09:57:29,113] Trial 4 finished with value: 0.6488527625711549 and parameters: {'n_estimators': 133, 'max_depth': 8, 'learning_rate': 0.019935235619648033, 'subsample': 0.9588301020600081, 'colsample_bytree': 0.8558232460624997, 'gamma': 2.3763597797442175}. Best is trial 2 with value: 0.6548033500570012.\n",
      "[I 2024-12-24 09:57:29,695] Trial 5 finished with value: 0.6543199828938354 and parameters: {'n_estimators': 272, 'max_depth': 6, 'learning_rate': 0.036257887065637075, 'subsample': 0.8370492635994641, 'colsample_bytree': 0.7299760172110724, 'gamma': 2.7238600036637806}. Best is trial 2 with value: 0.6548033500570012.\n",
      "[I 2024-12-24 09:57:30,032] Trial 6 finished with value: 0.656287806373678 and parameters: {'n_estimators': 192, 'max_depth': 4, 'learning_rate': 0.08276296192933977, 'subsample': 0.8349265096270234, 'colsample_bytree': 0.657105053067059, 'gamma': 4.196404654829655}. Best is trial 6 with value: 0.656287806373678.\n",
      "[I 2024-12-24 09:57:30,291] Trial 7 finished with value: 0.6419408637476383 and parameters: {'n_estimators': 61, 'max_depth': 6, 'learning_rate': 0.15124553955192477, 'subsample': 0.8552103813122689, 'colsample_bytree': 0.8701964390596024, 'gamma': 0.8050737774265576}. Best is trial 6 with value: 0.656287806373678.\n",
      "[I 2024-12-24 09:57:30,513] Trial 8 finished with value: 0.6536343466258886 and parameters: {'n_estimators': 58, 'max_depth': 7, 'learning_rate': 0.11953216457369423, 'subsample': 0.6763478532339197, 'colsample_bytree': 0.7978575956714863, 'gamma': 3.266968940642825}. Best is trial 6 with value: 0.656287806373678.\n",
      "[I 2024-12-24 09:57:30,856] Trial 9 finished with value: 0.6514893630646544 and parameters: {'n_estimators': 85, 'max_depth': 5, 'learning_rate': 0.033490075615122517, 'subsample': 0.8701484732401912, 'colsample_bytree': 0.8131853987795175, 'gamma': 2.4606157982821157}. Best is trial 6 with value: 0.656287806373678.\n",
      "[I 2024-12-24 09:57:31,268] Trial 10 finished with value: 0.6530898534784524 and parameters: {'n_estimators': 190, 'max_depth': 10, 'learning_rate': 0.26745327125151386, 'subsample': 0.6058970516484073, 'colsample_bytree': 0.9703727797069459, 'gamma': 4.773495194659874}. Best is trial 6 with value: 0.656287806373678.\n",
      "[I 2024-12-24 09:57:31,761] Trial 11 finished with value: 0.6555747887245641 and parameters: {'n_estimators': 215, 'max_depth': 3, 'learning_rate': 0.05732452744565506, 'subsample': 0.7394749134094212, 'colsample_bytree': 0.6027342414134642, 'gamma': 4.334072881611624}. Best is trial 6 with value: 0.656287806373678.\n",
      "[I 2024-12-24 09:57:32,126] Trial 12 finished with value: 0.6556290586569317 and parameters: {'n_estimators': 181, 'max_depth': 3, 'learning_rate': 0.07512493504313397, 'subsample': 0.7323752209430833, 'colsample_bytree': 0.6051885632261513, 'gamma': 4.84291473656916}. Best is trial 6 with value: 0.656287806373678.\n",
      "[I 2024-12-24 09:57:32,486] Trial 13 finished with value: 0.6561800755291188 and parameters: {'n_estimators': 146, 'max_depth': 3, 'learning_rate': 0.08364883978309062, 'subsample': 0.7243233673895441, 'colsample_bytree': 0.6953216988014288, 'gamma': 3.9013825490411524}. Best is trial 6 with value: 0.656287806373678.\n",
      "[I 2024-12-24 09:57:32,801] Trial 14 finished with value: 0.6540829994526027 and parameters: {'n_estimators': 145, 'max_depth': 4, 'learning_rate': 0.20397017912822335, 'subsample': 0.9421590362568599, 'colsample_bytree': 0.7016696948654918, 'gamma': 3.9002493454610194}. Best is trial 6 with value: 0.656287806373678.\n",
      "[I 2024-12-24 09:57:33,179] Trial 15 finished with value: 0.6562553703124364 and parameters: {'n_estimators': 142, 'max_depth': 4, 'learning_rate': 0.10558115285932163, 'subsample': 0.6874071882107677, 'colsample_bytree': 0.6886945441683714, 'gamma': 3.645333383872093}. Best is trial 6 with value: 0.656287806373678.\n",
      "[I 2024-12-24 09:57:33,750] Trial 16 finished with value: 0.6522555494082926 and parameters: {'n_estimators': 230, 'max_depth': 4, 'learning_rate': 0.12874723052685622, 'subsample': 0.634984615175189, 'colsample_bytree': 0.6658409272013399, 'gamma': 1.8335105108110352}. Best is trial 6 with value: 0.656287806373678.\n",
      "[I 2024-12-24 09:57:34,205] Trial 17 finished with value: 0.6541336189475476 and parameters: {'n_estimators': 167, 'max_depth': 5, 'learning_rate': 0.05754098931050819, 'subsample': 0.920933427416038, 'colsample_bytree': 0.7499410737062673, 'gamma': 3.5797913915658084}. Best is trial 6 with value: 0.656287806373678.\n",
      "[I 2024-12-24 09:57:34,511] Trial 18 finished with value: 0.6504602713268913 and parameters: {'n_estimators': 113, 'max_depth': 9, 'learning_rate': 0.18001979503995852, 'subsample': 0.9986920880081287, 'colsample_bytree': 0.9349015361657614, 'gamma': 4.184967543509344}. Best is trial 6 with value: 0.656287806373678.\n",
      "[I 2024-12-24 09:57:35,072] Trial 19 finished with value: 0.6514371997186106 and parameters: {'n_estimators': 210, 'max_depth': 5, 'learning_rate': 0.10745865148013134, 'subsample': 0.6927399115936153, 'colsample_bytree': 0.703894444014882, 'gamma': 1.8385491262654732}. Best is trial 6 with value: 0.656287806373678.\n",
      "[I 2024-12-24 09:57:35,785] Trial 20 finished with value: 0.623733541617826 and parameters: {'n_estimators': 262, 'max_depth': 4, 'learning_rate': 0.2775041331796161, 'subsample': 0.7644219312848034, 'colsample_bytree': 0.6346328221956997, 'gamma': 0.09487917300147819}. Best is trial 6 with value: 0.656287806373678.\n",
      "[I 2024-12-24 09:57:36,209] Trial 21 finished with value: 0.6561895548031477 and parameters: {'n_estimators': 154, 'max_depth': 3, 'learning_rate': 0.077651498859425, 'subsample': 0.6903993538737894, 'colsample_bytree': 0.6937785401081659, 'gamma': 3.730999002302096}. Best is trial 6 with value: 0.656287806373678.\n",
      "[I 2024-12-24 09:57:36,589] Trial 22 finished with value: 0.6564987637151642 and parameters: {'n_estimators': 170, 'max_depth': 3, 'learning_rate': 0.068747690019144, 'subsample': 0.6615097213435569, 'colsample_bytree': 0.6695106628558227, 'gamma': 3.4486169343161626}. Best is trial 22 with value: 0.6564987637151642.\n",
      "[I 2024-12-24 09:57:37,045] Trial 23 finished with value: 0.6554399521995288 and parameters: {'n_estimators': 199, 'max_depth': 4, 'learning_rate': 0.057663747635074876, 'subsample': 0.6600486020836754, 'colsample_bytree': 0.7304382496178039, 'gamma': 3.3840486305652013}. Best is trial 22 with value: 0.6564987637151642.\n",
      "[I 2024-12-24 09:57:37,405] Trial 24 finished with value: 0.6557513491380207 and parameters: {'n_estimators': 171, 'max_depth': 5, 'learning_rate': 0.10478995915026162, 'subsample': 0.6118712583702703, 'colsample_bytree': 0.6717363326814256, 'gamma': 4.525417303349783}. Best is trial 22 with value: 0.6564987637151642.\n",
      "[I 2024-12-24 09:57:37,723] Trial 25 finished with value: 0.6557078006628535 and parameters: {'n_estimators': 121, 'max_depth': 3, 'learning_rate': 0.06825037061192259, 'subsample': 0.6494109087741046, 'colsample_bytree': 0.6266144416327594, 'gamma': 3.0431326922553184}. Best is trial 22 with value: 0.6564987637151642.\n",
      "[I 2024-12-24 09:57:38,139] Trial 26 finished with value: 0.6547960169263108 and parameters: {'n_estimators': 163, 'max_depth': 4, 'learning_rate': 0.044646377202297985, 'subsample': 0.7118374554598972, 'colsample_bytree': 0.7791025146617921, 'gamma': 4.106880384751153}. Best is trial 22 with value: 0.6564987637151642.\n",
      "[I 2024-12-24 09:57:38,418] Trial 27 finished with value: 0.6541108037328335 and parameters: {'n_estimators': 92, 'max_depth': 5, 'learning_rate': 0.135408568373705, 'subsample': 0.7636882133623202, 'colsample_bytree': 0.7298537600062781, 'gamma': 4.490411381685441}. Best is trial 22 with value: 0.6564987637151642.\n",
      "[I 2024-12-24 09:57:38,834] Trial 28 finished with value: 0.6566968986277034 and parameters: {'n_estimators': 237, 'max_depth': 3, 'learning_rate': 0.18386627321446009, 'subsample': 0.7641892540586966, 'colsample_bytree': 0.6668181529859585, 'gamma': 3.4690351298438658}. Best is trial 28 with value: 0.6566968986277034.\n",
      "[I 2024-12-24 09:57:39,392] Trial 29 finished with value: 0.6558705661901436 and parameters: {'n_estimators': 247, 'max_depth': 3, 'learning_rate': 0.024360271373021932, 'subsample': 0.8231375661658141, 'colsample_bytree': 0.897573343234441, 'gamma': 2.032465719135348}. Best is trial 28 with value: 0.6566968986277034.\n",
      "[I 2024-12-24 09:57:39,784] Trial 30 finished with value: 0.6555769871026337 and parameters: {'n_estimators': 213, 'max_depth': 3, 'learning_rate': 0.19521758224617744, 'subsample': 0.7838500969595229, 'colsample_bytree': 0.8192793233366418, 'gamma': 3.209459223179904}. Best is trial 28 with value: 0.6566968986277034.\n",
      "[I 2024-12-24 09:57:40,162] Trial 31 finished with value: 0.6564991478428827 and parameters: {'n_estimators': 191, 'max_depth': 4, 'learning_rate': 0.15565400436000337, 'subsample': 0.7516494689075591, 'colsample_bytree': 0.6753853195770864, 'gamma': 3.5612427849688255}. Best is trial 28 with value: 0.6566968986277034.\n",
      "[I 2024-12-24 09:57:40,597] Trial 32 finished with value: 0.6565333633741842 and parameters: {'n_estimators': 193, 'max_depth': 3, 'learning_rate': 0.15871612787216913, 'subsample': 0.8910519438909534, 'colsample_bytree': 0.6298199915529367, 'gamma': 2.858683303292587}. Best is trial 28 with value: 0.6566968986277034.\n",
      "[I 2024-12-24 09:57:41,034] Trial 33 finished with value: 0.6549500388333123 and parameters: {'n_estimators': 231, 'max_depth': 3, 'learning_rate': 0.2376201552898538, 'subsample': 0.7608185961061817, 'colsample_bytree': 0.6274302802247005, 'gamma': 2.8181658050742704}. Best is trial 28 with value: 0.6566968986277034.\n",
      "[I 2024-12-24 09:57:41,563] Trial 34 finished with value: 0.6563453140042554 and parameters: {'n_estimators': 276, 'max_depth': 3, 'learning_rate': 0.1511617273435317, 'subsample': 0.800484077857744, 'colsample_bytree': 0.6461627922012901, 'gamma': 3.4670799062737467}. Best is trial 28 with value: 0.6566968986277034.\n",
      "[I 2024-12-24 09:57:42,008] Trial 35 finished with value: 0.6548433173120737 and parameters: {'n_estimators': 244, 'max_depth': 4, 'learning_rate': 0.15971143967633497, 'subsample': 0.9061444753697127, 'colsample_bytree': 0.6699937373720178, 'gamma': 2.159439642894931}. Best is trial 28 with value: 0.6566968986277034.\n",
      "[I 2024-12-24 09:57:42,386] Trial 36 finished with value: 0.6530292009065085 and parameters: {'n_estimators': 181, 'max_depth': 8, 'learning_rate': 0.22264356165811613, 'subsample': 0.7089769116896594, 'colsample_bytree': 0.618560619682532, 'gamma': 2.9518247905760484}. Best is trial 28 with value: 0.6566968986277034.\n",
      "[I 2024-12-24 09:57:42,939] Trial 37 finished with value: 0.6554381641775738 and parameters: {'n_estimators': 298, 'max_depth': 3, 'learning_rate': 0.17239896011156416, 'subsample': 0.8109686171286167, 'colsample_bytree': 0.7182884464459192, 'gamma': 2.6390054401178156}. Best is trial 28 with value: 0.6566968986277034.\n",
      "[I 2024-12-24 09:57:43,601] Trial 38 finished with value: 0.652689029253508 and parameters: {'n_estimators': 208, 'max_depth': 5, 'learning_rate': 0.01692408534253431, 'subsample': 0.8887295068716704, 'colsample_bytree': 0.7551669700106499, 'gamma': 1.4074567827750195}. Best is trial 28 with value: 0.6566968986277034.\n",
      "[I 2024-12-24 09:57:44,003] Trial 39 finished with value: 0.655651312362841 and parameters: {'n_estimators': 196, 'max_depth': 4, 'learning_rate': 0.09827114751614933, 'subsample': 0.8541391587705066, 'colsample_bytree': 0.6520284231453822, 'gamma': 3.2734091437390096}. Best is trial 28 with value: 0.6566968986277034.\n",
      "[I 2024-12-24 09:57:44,701] Trial 40 finished with value: 0.6539614973395468 and parameters: {'n_estimators': 225, 'max_depth': 6, 'learning_rate': 0.013148140939218346, 'subsample': 0.7782601912309016, 'colsample_bytree': 0.6809302572773307, 'gamma': 3.0337203524728307}. Best is trial 28 with value: 0.6566968986277034.\n",
      "[I 2024-12-24 09:57:45,223] Trial 41 finished with value: 0.6563604867323186 and parameters: {'n_estimators': 280, 'max_depth': 3, 'learning_rate': 0.14954989219925485, 'subsample': 0.7465363153993174, 'colsample_bytree': 0.6431881795912504, 'gamma': 3.4795723638651563}. Best is trial 28 with value: 0.6566968986277034.\n",
      "[I 2024-12-24 09:57:45,701] Trial 42 finished with value: 0.6558073907831227 and parameters: {'n_estimators': 284, 'max_depth': 3, 'learning_rate': 0.29738722091901587, 'subsample': 0.75770715082004, 'colsample_bytree': 0.650825560047764, 'gamma': 3.8253895861625553}. Best is trial 28 with value: 0.6566968986277034.\n",
      "[I 2024-12-24 09:57:46,177] Trial 43 finished with value: 0.6555481876232468 and parameters: {'n_estimators': 262, 'max_depth': 3, 'learning_rate': 0.1378858624725493, 'subsample': 0.7426600899167259, 'colsample_bytree': 0.6398360561452632, 'gamma': 2.331809398683911}. Best is trial 28 with value: 0.6566968986277034.\n",
      "[I 2024-12-24 09:57:46,637] Trial 44 finished with value: 0.6543151785382527 and parameters: {'n_estimators': 252, 'max_depth': 4, 'learning_rate': 0.22613655391447898, 'subsample': 0.7960751777652022, 'colsample_bytree': 0.6026873373523891, 'gamma': 2.7930620049931205}. Best is trial 28 with value: 0.6566968986277034.\n",
      "[I 2024-12-24 09:57:47,048] Trial 45 finished with value: 0.6562596350126628 and parameters: {'n_estimators': 183, 'max_depth': 3, 'learning_rate': 0.12056644446081798, 'subsample': 0.8427164686158107, 'colsample_bytree': 0.6224383544343162, 'gamma': 3.160887601691167}. Best is trial 28 with value: 0.6566968986277034.\n",
      "[I 2024-12-24 09:57:47,585] Trial 46 finished with value: 0.6554580711569435 and parameters: {'n_estimators': 221, 'max_depth': 4, 'learning_rate': 0.033549026261670487, 'subsample': 0.714949198587382, 'colsample_bytree': 0.7147026753207695, 'gamma': 3.565654213813331}. Best is trial 28 with value: 0.6566968986277034.\n",
      "[I 2024-12-24 09:57:48,092] Trial 47 finished with value: 0.6546644070283042 and parameters: {'n_estimators': 287, 'max_depth': 7, 'learning_rate': 0.1834999009942706, 'subsample': 0.7449032619188752, 'colsample_bytree': 0.6607966781183896, 'gamma': 4.0126155717872996}. Best is trial 28 with value: 0.6566968986277034.\n",
      "[I 2024-12-24 09:57:48,473] Trial 48 finished with value: 0.6563045823931969 and parameters: {'n_estimators': 202, 'max_depth': 3, 'learning_rate': 0.154133075841703, 'subsample': 0.9676572625942227, 'colsample_bytree': 0.6753829177437344, 'gamma': 2.5309661855677508}. Best is trial 28 with value: 0.6566968986277034.\n",
      "[I 2024-12-24 09:57:48,950] Trial 49 finished with value: 0.6554275438701254 and parameters: {'n_estimators': 239, 'max_depth': 4, 'learning_rate': 0.09141636256313353, 'subsample': 0.8755466869069322, 'colsample_bytree': 0.6428996870414093, 'gamma': 3.4827699528697424}. Best is trial 28 with value: 0.6566968986277034.\n",
      "[I 2024-12-24 09:57:48,951] A new study created in memory with name: no-name-66500ea8-ff7f-4b75-a128-461997a5a033\n"
     ]
    },
    {
     "name": "stdout",
     "output_type": "stream",
     "text": [
      "Best parameters for xgboost for single: {'n_estimators': 237, 'max_depth': 3, 'learning_rate': 0.18386627321446009, 'subsample': 0.7641892540586966, 'colsample_bytree': 0.6668181529859585, 'gamma': 3.4690351298438658}\n"
     ]
    },
    {
     "name": "stderr",
     "output_type": "stream",
     "text": [
      "[I 2024-12-24 09:57:55,184] Trial 0 finished with value: 0.6446969800265528 and parameters: {'n_estimators': 146, 'max_depth': 6, 'min_samples_split': 10, 'min_samples_leaf': 7, 'max_features': 0.7265457161643938}. Best is trial 0 with value: 0.6446969800265528.\n",
      "[I 2024-12-24 09:58:10,397] Trial 1 finished with value: 0.6384435140425985 and parameters: {'n_estimators': 298, 'max_depth': 9, 'min_samples_split': 8, 'min_samples_leaf': 8, 'max_features': 0.6684689226884111}. Best is trial 0 with value: 0.6446969800265528.\n",
      "[I 2024-12-24 09:58:22,512] Trial 2 finished with value: 0.6210124464574959 and parameters: {'n_estimators': 200, 'max_depth': 20, 'min_samples_split': 8, 'min_samples_leaf': 9, 'max_features': 0.6962432886213047}. Best is trial 0 with value: 0.6446969800265528.\n",
      "[I 2024-12-24 09:58:31,445] Trial 3 finished with value: 0.6369145704307216 and parameters: {'n_estimators': 293, 'max_depth': 3, 'min_samples_split': 5, 'min_samples_leaf': 2, 'max_features': 0.900279001127513}. Best is trial 0 with value: 0.6446969800265528.\n",
      "[I 2024-12-24 09:58:35,101] Trial 4 finished with value: 0.6292286879973554 and parameters: {'n_estimators': 62, 'max_depth': 11, 'min_samples_split': 4, 'min_samples_leaf': 10, 'max_features': 0.6243558113372125}. Best is trial 0 with value: 0.6446969800265528.\n",
      "[I 2024-12-24 09:58:47,070] Trial 5 finished with value: 0.6231874839968534 and parameters: {'n_estimators': 205, 'max_depth': 20, 'min_samples_split': 2, 'min_samples_leaf': 10, 'max_features': 0.6999937075227817}. Best is trial 0 with value: 0.6446969800265528.\n",
      "[I 2024-12-24 09:59:04,197] Trial 6 finished with value: 0.6203892332133435 and parameters: {'n_estimators': 208, 'max_depth': 15, 'min_samples_split': 7, 'min_samples_leaf': 10, 'max_features': 0.964590386519624}. Best is trial 0 with value: 0.6446969800265528.\n",
      "[I 2024-12-24 09:59:11,553] Trial 7 finished with value: 0.6180331803563736 and parameters: {'n_estimators': 121, 'max_depth': 13, 'min_samples_split': 4, 'min_samples_leaf': 6, 'max_features': 0.6323829749267841}. Best is trial 0 with value: 0.6446969800265528.\n",
      "[I 2024-12-24 09:59:17,181] Trial 8 finished with value: 0.6435080070538451 and parameters: {'n_estimators': 123, 'max_depth': 5, 'min_samples_split': 2, 'min_samples_leaf': 2, 'max_features': 0.960216561346013}. Best is trial 0 with value: 0.6446969800265528.\n",
      "[I 2024-12-24 09:59:38,345] Trial 9 finished with value: 0.6193590766083069 and parameters: {'n_estimators': 257, 'max_depth': 12, 'min_samples_split': 10, 'min_samples_leaf': 3, 'max_features': 0.9340134615988943}. Best is trial 0 with value: 0.6446969800265528.\n",
      "[I 2024-12-24 09:59:45,051] Trial 10 finished with value: 0.6441837062338468 and parameters: {'n_estimators': 139, 'max_depth': 7, 'min_samples_split': 9, 'min_samples_leaf': 6, 'max_features': 0.7998839078660209}. Best is trial 0 with value: 0.6446969800265528.\n",
      "[I 2024-12-24 09:59:51,545] Trial 11 finished with value: 0.644266301055012 and parameters: {'n_estimators': 135, 'max_depth': 7, 'min_samples_split': 10, 'min_samples_leaf': 6, 'max_features': 0.7956556968900664}. Best is trial 0 with value: 0.6446969800265528.\n",
      "[I 2024-12-24 09:59:53,832] Trial 12 finished with value: 0.6440674325837304 and parameters: {'n_estimators': 60, 'max_depth': 6, 'min_samples_split': 10, 'min_samples_leaf': 4, 'max_features': 0.7903548043902487}. Best is trial 0 with value: 0.6446969800265528.\n",
      "[I 2024-12-24 10:00:02,836] Trial 13 finished with value: 0.640253721403233 and parameters: {'n_estimators': 161, 'max_depth': 8, 'min_samples_split': 10, 'min_samples_leaf': 7, 'max_features': 0.8584162761926332}. Best is trial 0 with value: 0.6446969800265528.\n",
      "[I 2024-12-24 10:00:06,255] Trial 14 finished with value: 0.6447400068972885 and parameters: {'n_estimators': 93, 'max_depth': 5, 'min_samples_split': 7, 'min_samples_leaf': 5, 'max_features': 0.7501349712801164}. Best is trial 14 with value: 0.6447400068972885.\n",
      "[I 2024-12-24 10:00:08,960] Trial 15 finished with value: 0.6412679614571252 and parameters: {'n_estimators': 90, 'max_depth': 4, 'min_samples_split': 6, 'min_samples_leaf': 4, 'max_features': 0.7526158612920367}. Best is trial 14 with value: 0.6447400068972885.\n",
      "[I 2024-12-24 10:00:14,421] Trial 16 finished with value: 0.6298282333644639 and parameters: {'n_estimators': 93, 'max_depth': 10, 'min_samples_split': 7, 'min_samples_leaf': 4, 'max_features': 0.7400732214178216}. Best is trial 14 with value: 0.6447400068972885.\n",
      "[I 2024-12-24 10:00:18,998] Trial 17 finished with value: 0.637236565489227 and parameters: {'n_estimators': 171, 'max_depth': 3, 'min_samples_split': 8, 'min_samples_leaf': 8, 'max_features': 0.8537292342351969}. Best is trial 14 with value: 0.6447400068972885.\n",
      "[I 2024-12-24 10:00:25,473] Trial 18 finished with value: 0.6089164998847938 and parameters: {'n_estimators': 93, 'max_depth': 17, 'min_samples_split': 6, 'min_samples_leaf': 5, 'max_features': 0.7475972746907404}. Best is trial 14 with value: 0.6447400068972885.\n",
      "[I 2024-12-24 10:00:34,870] Trial 19 finished with value: 0.6441851767197294 and parameters: {'n_estimators': 233, 'max_depth': 5, 'min_samples_split': 9, 'min_samples_leaf': 7, 'max_features': 0.841407049158585}. Best is trial 14 with value: 0.6447400068972885.\n",
      "[I 2024-12-24 10:00:42,818] Trial 20 finished with value: 0.6375492620342411 and parameters: {'n_estimators': 153, 'max_depth': 9, 'min_samples_split': 4, 'min_samples_leaf': 5, 'max_features': 0.6975552269621214}. Best is trial 14 with value: 0.6447400068972885.\n",
      "[I 2024-12-24 10:00:48,891] Trial 21 finished with value: 0.6437642551837927 and parameters: {'n_estimators': 131, 'max_depth': 7, 'min_samples_split': 9, 'min_samples_leaf': 7, 'max_features': 0.7813316298150432}. Best is trial 14 with value: 0.6447400068972885.\n",
      "[I 2024-12-24 10:00:53,018] Trial 22 finished with value: 0.6445979035593702 and parameters: {'n_estimators': 103, 'max_depth': 6, 'min_samples_split': 10, 'min_samples_leaf': 6, 'max_features': 0.730249217064746}. Best is trial 14 with value: 0.6447400068972885.\n",
      "[I 2024-12-24 10:00:56,684] Trial 23 finished with value: 0.6445850423135991 and parameters: {'n_estimators': 102, 'max_depth': 5, 'min_samples_split': 9, 'min_samples_leaf': 8, 'max_features': 0.7192276418855766}. Best is trial 14 with value: 0.6447400068972885.\n",
      "[I 2024-12-24 10:00:58,602] Trial 24 finished with value: 0.6389110953534923 and parameters: {'n_estimators': 77, 'max_depth': 3, 'min_samples_split': 7, 'min_samples_leaf': 5, 'max_features': 0.6634629464306915}. Best is trial 14 with value: 0.6447400068972885.\n",
      "[I 2024-12-24 10:01:03,226] Trial 25 finished with value: 0.6445616661731972 and parameters: {'n_estimators': 111, 'max_depth': 6, 'min_samples_split': 8, 'min_samples_leaf': 1, 'max_features': 0.7651148144656837}. Best is trial 14 with value: 0.6447400068972885.\n",
      "[I 2024-12-24 10:01:14,825] Trial 26 finished with value: 0.6361110218404427 and parameters: {'n_estimators': 184, 'max_depth': 9, 'min_samples_split': 5, 'min_samples_leaf': 7, 'max_features': 0.830416067841086}. Best is trial 14 with value: 0.6447400068972885.\n",
      "[I 2024-12-24 10:01:19,264] Trial 27 finished with value: 0.6150912160416139 and parameters: {'n_estimators': 74, 'max_depth': 14, 'min_samples_split': 9, 'min_samples_leaf': 6, 'max_features': 0.6587678357904606}. Best is trial 14 with value: 0.6447400068972885.\n",
      "[I 2024-12-24 10:01:23,795] Trial 28 finished with value: 0.6418998815729572 and parameters: {'n_estimators': 145, 'max_depth': 4, 'min_samples_split': 10, 'min_samples_leaf': 9, 'max_features': 0.7236185860689559}. Best is trial 14 with value: 0.6447400068972885.\n",
      "[I 2024-12-24 10:01:26,414] Trial 29 finished with value: 0.6396245317486211 and parameters: {'n_estimators': 52, 'max_depth': 8, 'min_samples_split': 8, 'min_samples_leaf': 3, 'max_features': 0.6045459074917745}. Best is trial 14 with value: 0.6447400068972885.\n",
      "[I 2024-12-24 10:01:33,959] Trial 30 finished with value: 0.6296995987600437 and parameters: {'n_estimators': 111, 'max_depth': 10, 'min_samples_split': 3, 'min_samples_leaf': 5, 'max_features': 0.8155809375302118}. Best is trial 14 with value: 0.6447400068972885.\n",
      "[I 2024-12-24 10:01:37,682] Trial 31 finished with value: 0.6449341196601049 and parameters: {'n_estimators': 98, 'max_depth': 5, 'min_samples_split': 9, 'min_samples_leaf': 7, 'max_features': 0.7237254838495976}. Best is trial 31 with value: 0.6449341196601049.\n",
      "[I 2024-12-24 10:01:40,359] Trial 32 finished with value: 0.6462015659622896 and parameters: {'n_estimators': 71, 'max_depth': 6, 'min_samples_split': 9, 'min_samples_leaf': 8, 'max_features': 0.6839645101285281}. Best is trial 32 with value: 0.6462015659622896.\n",
      "[I 2024-12-24 10:01:42,204] Trial 33 finished with value: 0.642689943605509 and parameters: {'n_estimators': 66, 'max_depth': 4, 'min_samples_split': 7, 'min_samples_leaf': 9, 'max_features': 0.6813799895087662}. Best is trial 32 with value: 0.6462015659622896.\n",
      "[I 2024-12-24 10:01:46,218] Trial 34 finished with value: 0.6419143888812012 and parameters: {'n_estimators': 88, 'max_depth': 8, 'min_samples_split': 8, 'min_samples_leaf': 8, 'max_features': 0.6525658777275007}. Best is trial 32 with value: 0.6462015659622896.\n",
      "[I 2024-12-24 10:01:49,023] Trial 35 finished with value: 0.6442821318132874 and parameters: {'n_estimators': 79, 'max_depth': 5, 'min_samples_split': 9, 'min_samples_leaf': 9, 'max_features': 0.7073797440696368}. Best is trial 32 with value: 0.6462015659622896.\n",
      "[I 2024-12-24 10:01:56,982] Trial 36 finished with value: 0.6447949179733032 and parameters: {'n_estimators': 188, 'max_depth': 6, 'min_samples_split': 9, 'min_samples_leaf': 8, 'max_features': 0.7658992122171249}. Best is trial 32 with value: 0.6462015659622896.\n",
      "[I 2024-12-24 10:02:11,816] Trial 37 finished with value: 0.6175218010551838 and parameters: {'n_estimators': 220, 'max_depth': 18, 'min_samples_split': 6, 'min_samples_leaf': 8, 'max_features': 0.7770408816971095}. Best is trial 32 with value: 0.6462015659622896.\n",
      "[I 2024-12-24 10:02:16,188] Trial 38 finished with value: 0.6386408816928826 and parameters: {'n_estimators': 188, 'max_depth': 3, 'min_samples_split': 8, 'min_samples_leaf': 7, 'max_features': 0.6821159118666634}. Best is trial 32 with value: 0.6462015659622896.\n",
      "[I 2024-12-24 10:02:27,144] Trial 39 finished with value: 0.6448565636270944 and parameters: {'n_estimators': 271, 'max_depth': 6, 'min_samples_split': 7, 'min_samples_leaf': 9, 'max_features': 0.7612609454690039}. Best is trial 32 with value: 0.6462015659622896.\n",
      "[I 2024-12-24 10:02:41,220] Trial 40 finished with value: 0.6436868442582656 and parameters: {'n_estimators': 283, 'max_depth': 7, 'min_samples_split': 5, 'min_samples_leaf': 10, 'max_features': 0.8873064028813964}. Best is trial 32 with value: 0.6462015659622896.\n",
      "[I 2024-12-24 10:02:51,277] Trial 41 finished with value: 0.6447778212443097 and parameters: {'n_estimators': 249, 'max_depth': 6, 'min_samples_split': 7, 'min_samples_leaf': 9, 'max_features': 0.7618814607388195}. Best is trial 32 with value: 0.6462015659622896.\n",
      "[I 2024-12-24 10:03:02,057] Trial 42 finished with value: 0.6447963860163851 and parameters: {'n_estimators': 264, 'max_depth': 6, 'min_samples_split': 7, 'min_samples_leaf': 9, 'max_features': 0.7637370154667433}. Best is trial 32 with value: 0.6462015659622896.\n",
      "[I 2024-12-24 10:03:20,496] Trial 43 finished with value: 0.6358289607405577 and parameters: {'n_estimators': 276, 'max_depth': 9, 'min_samples_split': 8, 'min_samples_leaf': 8, 'max_features': 0.9942253419361907}. Best is trial 32 with value: 0.6462015659622896.\n",
      "[I 2024-12-24 10:03:29,279] Trial 44 finished with value: 0.6418102338602798 and parameters: {'n_estimators': 256, 'max_depth': 4, 'min_samples_split': 9, 'min_samples_leaf': 10, 'max_features': 0.8183779314711495}. Best is trial 32 with value: 0.6462015659622896.\n",
      "[I 2024-12-24 10:03:43,188] Trial 45 finished with value: 0.644230706472382 and parameters: {'n_estimators': 295, 'max_depth': 7, 'min_samples_split': 9, 'min_samples_leaf': 9, 'max_features': 0.714503472598839}. Best is trial 32 with value: 0.6462015659622896.\n",
      "[I 2024-12-24 10:03:53,692] Trial 46 finished with value: 0.6457586503587254 and parameters: {'n_estimators': 273, 'max_depth': 6, 'min_samples_split': 5, 'min_samples_leaf': 8, 'max_features': 0.6347031625679525}. Best is trial 32 with value: 0.6462015659622896.\n",
      "[I 2024-12-24 10:04:09,484] Trial 47 finished with value: 0.6294073742250603 and parameters: {'n_estimators': 277, 'max_depth': 11, 'min_samples_split': 5, 'min_samples_leaf': 9, 'max_features': 0.6424501075988728}. Best is trial 32 with value: 0.6462015659622896.\n",
      "[I 2024-12-24 10:04:20,555] Trial 48 finished with value: 0.6419298501728293 and parameters: {'n_estimators': 242, 'max_depth': 8, 'min_samples_split': 5, 'min_samples_leaf': 10, 'max_features': 0.6219984950832671}. Best is trial 32 with value: 0.6462015659622896.\n",
      "[I 2024-12-24 10:04:34,669] Trial 49 finished with value: 0.6329341499117341 and parameters: {'n_estimators': 268, 'max_depth': 10, 'min_samples_split': 6, 'min_samples_leaf': 7, 'max_features': 0.6777248000762017}. Best is trial 32 with value: 0.6462015659622896.\n"
     ]
    },
    {
     "name": "stdout",
     "output_type": "stream",
     "text": [
      "Best parameters for random_forest for single: {'n_estimators': 71, 'max_depth': 6, 'min_samples_split': 9, 'min_samples_leaf': 8, 'max_features': 0.6839645101285281}\n",
      "xgboost AUC for treatment: 0.6215\n",
      "xgboost Log Loss for treatment: 0.4092\n",
      "random_forest AUC for treatment: 0.6183\n",
      "random_forest Log Loss for treatment: 0.4099\n",
      "xgboost AUC for control: 0.6207\n",
      "xgboost Log Loss for control: 0.4140\n",
      "random_forest AUC for control: 0.6153\n",
      "random_forest Log Loss for control: 0.4166\n",
      "xgboost AUC for single_1: 0.6253\n",
      "xgboost Log Loss for single_1: 0.4087\n",
      "random_forest AUC for single_1: 0.6180\n",
      "random_forest Log Loss for single_1: 0.4101\n",
      "xgboost AUC for single_0: 0.6216\n",
      "xgboost Log Loss for single_0: 0.4134\n",
      "random_forest AUC for single_0: 0.6148\n",
      "random_forest Log Loss for single_0: 0.4160\n",
      "CPU times: total: 27min 6s\n",
      "Wall time: 14min 47s\n"
     ]
    }
   ],
   "source": [
    "%%time\n",
    "# Execute the Two-Model Approach with Optuna usng function \"two_model_approach_with_optuna\"\n",
    "model_treatment_xgboost, preds_treatment_xgboost, model_treatment_randomforest, preds_treatment_randomforest, model_control_xgboost, preds_control_xgboost, model_control_randomforest, preds_control_randomforest, model_single_1_xgboost, preds_single_1_xgboost, model_single_1_randomforest, preds_single_1_randomforest, model_single_0_xgboost, preds_single_0_xgboost, model_single_0_randomforest, preds_single_0_randomforest = two_model_approach_with_optuna(X_train, X_test, y_train, y_test, t_train)"
   ]
  },
  {
   "cell_type": "code",
   "execution_count": 24,
   "metadata": {},
   "outputs": [],
   "source": [
    "# Uplift scores\n",
    "def create_uplift_scores(preds_treatment_xgboost,\n",
    "                        preds_control_xgboost,\n",
    "                        preds_treatment_randomforest,\n",
    "                        preds_control_randomforest,\n",
    "                        preds_single_1_xgboost,\n",
    "                        preds_single_1_randomforest,\n",
    "                        preds_single_0_xgboost,\n",
    "                        preds_single_0_randomforest):\n",
    "\n",
    "    uplift_two_model_rf = preds_treatment_randomforest - preds_control_randomforest\n",
    "\n",
    "    uplift_two_model_xg = preds_treatment_xgboost - preds_control_xgboost\n",
    "\n",
    "    uplift_single_model_xg = preds_single_1_xgboost - preds_single_0_xgboost\n",
    "    \n",
    "    uplift_single_model_rf = preds_single_1_randomforest - preds_single_0_randomforest\n",
    "    \n",
    "    return uplift_two_model_rf, uplift_two_model_xg, uplift_single_model_xg, uplift_single_model_rf\n",
    "\n",
    "uplift_two_model_rf, uplift_two_model_xg, uplift_single_model_xg, uplift_single_model_rf = create_uplift_scores(preds_treatment_xgboost,\n",
    "                                                                                                                preds_control_xgboost,\n",
    "                                                                                                                preds_treatment_randomforest,\n",
    "                                                                                                                preds_control_randomforest,\n",
    "                                                                                                                preds_single_1_xgboost,\n",
    "                                                                                                                preds_single_1_randomforest,\n",
    "                                                                                                                preds_single_0_xgboost,\n",
    "                                                                                                                preds_single_0_randomforest\n",
    "                                                                                                                )"
   ]
  },
  {
   "cell_type": "markdown",
   "metadata": {},
   "source": [
    "## Compare Two-Model Approaches and Single-Model Approaches"
   ]
  },
  {
   "cell_type": "markdown",
   "metadata": {},
   "source": [
    "### sklift Qini AUC Score"
   ]
  },
  {
   "cell_type": "code",
   "execution_count": 49,
   "metadata": {},
   "outputs": [
    {
     "name": "stdout",
     "output_type": "stream",
     "text": [
      "\n",
      "### Qini Score Comparison ###\n",
      "             Model  Qini Score\n",
      "0     Two-Model RF    0.019583\n",
      "1     Two-Model XG    0.009820\n",
      "2  Single-Model RF    0.019218\n",
      "3  Single-Model XG    0.015047\n"
     ]
    }
   ],
   "source": [
    "# Let's try sklift's qini auc score\n",
    "qini_two_model_rf = qini_auc_score(y_test, uplift_two_model_rf, t_test)\n",
    "qini_two_model_xg = qini_auc_score(y_test, uplift_two_model_xg, t_test)\n",
    "qini_single_model_rf = qini_auc_score(y_test, uplift_single_model_rf, t_test)\n",
    "qini_single_model_xg = qini_auc_score(y_test, uplift_single_model_xg, t_test)\n",
    "\n",
    "comparison_df = pd.DataFrame({\n",
    "    'Model': ['Two-Model RF', 'Two-Model XG', 'Single-Model RF', 'Single-Model XG'],\n",
    "    'Qini Score': [qini_two_model_rf, qini_two_model_xg, qini_single_model_rf, qini_single_model_xg]\n",
    "})\n",
    "print(\"\\n### Qini Score Comparison ###\")\n",
    "print(comparison_df)\n",
    "\n",
    "# We can see initially that the XG, despite outperforming the RF on the individual models by a bit, does not outperform the random forest in the uplift model scenario\n",
    "# The Two-Model RF beats out the single model RF by a little bit as well. Let's continue on."
   ]
  },
  {
   "cell_type": "markdown",
   "metadata": {},
   "source": [
    "### Manual Qini Score"
   ]
  },
  {
   "cell_type": "code",
   "execution_count": 50,
   "metadata": {},
   "outputs": [],
   "source": [
    "# Let's now try a manual calculation of the Qini Score\n",
    "def calculate_uplift_metrics(df,uplift, n_groups=5):\n",
    "    \"\"\"\n",
    "    Calculate common uplift model evaluation metrics.\n",
    "    \n",
    "    Parameters:\n",
    "    y_true: array-like, actual outcome (visits)\n",
    "    treatment: array-like, treatment indicator (0/1)\n",
    "    uplift_scores: array-like, predicted uplift scores\n",
    "    n_groups: int, number of groups for AUUC calculation\n",
    "    \n",
    "    Returns:\n",
    "    dict with uplift metrics\n",
    "    \"\"\"\n",
    "    # Sort by uplift scores\n",
    "    df = df.sort_values(by=uplift, ascending=False)\n",
    "    y_true = df['y_true'].values\n",
    "    treatment = df['treatment'].values\n",
    "    \n",
    "    # Calculate cumulative gains\n",
    "    n_samples = len(y_true)\n",
    "    group_size = n_samples // n_groups\n",
    "    \n",
    "    gains = []\n",
    "    for i in range(n_groups):\n",
    "        start_idx = i * group_size\n",
    "        end_idx = (i + 1) * group_size if i < n_groups - 1 else n_samples\n",
    "        \n",
    "        group_treat = treatment[start_idx:end_idx]\n",
    "        group_outcome = y_true[start_idx:end_idx]\n",
    "        \n",
    "        # Calculate treatment and control response rates\n",
    "        treat_rate = np.mean(group_outcome[group_treat == 1])\n",
    "        ctrl_rate = np.mean(group_outcome[group_treat == 0])\n",
    "        \n",
    "        # Calculate uplift\n",
    "        uplift = treat_rate - ctrl_rate\n",
    "        gains.append(uplift)\n",
    "    \n",
    "    # Calculate metrics\n",
    "    metrics = {\n",
    "        'AUUC': np.trapz(gains) / len(gains),  # Area Under the Uplift Curve\n",
    "        'Qini': np.sum(gains),  # Qini coefficient\n",
    "        'top_group_uplift': gains[0],  # Uplift in highest scored group\n",
    "        'uplift_by_group': gains\n",
    "    }\n",
    "    \n",
    "    return metrics"
   ]
  },
  {
   "cell_type": "code",
   "execution_count": 71,
   "metadata": {},
   "outputs": [
    {
     "data": {
      "text/html": [
       "<div>\n",
       "<style scoped>\n",
       "    .dataframe tbody tr th:only-of-type {\n",
       "        vertical-align: middle;\n",
       "    }\n",
       "\n",
       "    .dataframe tbody tr th {\n",
       "        vertical-align: top;\n",
       "    }\n",
       "\n",
       "    .dataframe thead th {\n",
       "        text-align: right;\n",
       "    }\n",
       "</style>\n",
       "<table border=\"1\" class=\"dataframe\">\n",
       "  <thead>\n",
       "    <tr style=\"text-align: right;\">\n",
       "      <th></th>\n",
       "      <th>y_true</th>\n",
       "      <th>treatment</th>\n",
       "      <th>uplift_tm_rf</th>\n",
       "      <th>uplift_tm_xg</th>\n",
       "      <th>uplift_sm_rf</th>\n",
       "      <th>uplift_sm_xg</th>\n",
       "    </tr>\n",
       "  </thead>\n",
       "  <tbody>\n",
       "    <tr>\n",
       "      <th>493</th>\n",
       "      <td>0</td>\n",
       "      <td>0</td>\n",
       "      <td>0.078133</td>\n",
       "      <td>0.084332</td>\n",
       "      <td>0.086003</td>\n",
       "      <td>0.093250</td>\n",
       "    </tr>\n",
       "    <tr>\n",
       "      <th>21569</th>\n",
       "      <td>0</td>\n",
       "      <td>1</td>\n",
       "      <td>0.046404</td>\n",
       "      <td>0.049315</td>\n",
       "      <td>0.047965</td>\n",
       "      <td>0.062254</td>\n",
       "    </tr>\n",
       "    <tr>\n",
       "      <th>3531</th>\n",
       "      <td>0</td>\n",
       "      <td>0</td>\n",
       "      <td>0.082047</td>\n",
       "      <td>0.090028</td>\n",
       "      <td>0.109094</td>\n",
       "      <td>0.063480</td>\n",
       "    </tr>\n",
       "    <tr>\n",
       "      <th>50370</th>\n",
       "      <td>1</td>\n",
       "      <td>1</td>\n",
       "      <td>0.056380</td>\n",
       "      <td>0.098193</td>\n",
       "      <td>0.060075</td>\n",
       "      <td>0.079123</td>\n",
       "    </tr>\n",
       "    <tr>\n",
       "      <th>38375</th>\n",
       "      <td>0</td>\n",
       "      <td>1</td>\n",
       "      <td>0.105107</td>\n",
       "      <td>0.093774</td>\n",
       "      <td>0.065867</td>\n",
       "      <td>0.208003</td>\n",
       "    </tr>\n",
       "  </tbody>\n",
       "</table>\n",
       "</div>"
      ],
      "text/plain": [
       "       y_true  treatment  uplift_tm_rf  uplift_tm_xg  uplift_sm_rf  \\\n",
       "493         0          0      0.078133      0.084332      0.086003   \n",
       "21569       0          1      0.046404      0.049315      0.047965   \n",
       "3531        0          0      0.082047      0.090028      0.109094   \n",
       "50370       1          1      0.056380      0.098193      0.060075   \n",
       "38375       0          1      0.105107      0.093774      0.065867   \n",
       "\n",
       "       uplift_sm_xg  \n",
       "493        0.093250  \n",
       "21569      0.062254  \n",
       "3531       0.063480  \n",
       "50370      0.079123  \n",
       "38375      0.208003  "
      ]
     },
     "execution_count": 71,
     "metadata": {},
     "output_type": "execute_result"
    }
   ],
   "source": [
    "# Create a dataframe with test results\n",
    "results_df = pd.DataFrame({\n",
    "    'y_true': y_test,               # Actual outcomes\n",
    "    'treatment': t_test,            # Treatment indicators\n",
    "    'uplift_tm_rf': uplift_two_model_rf,         # Uplift predictions from Random Forest\n",
    "    'uplift_tm_xg': uplift_two_model_xg,        # Uplift predictions from XGBoost\n",
    "    'uplift_sm_rf' : uplift_single_model_rf,\n",
    "    'uplift_sm_xg' : uplift_single_model_xg\n",
    "})\n",
    "results_df.head()"
   ]
  },
  {
   "cell_type": "code",
   "execution_count": 58,
   "metadata": {},
   "outputs": [],
   "source": [
    "xg_tm_metrics = calculate_uplift_metrics(\n",
    "   df=results_df,\n",
    "   uplift='uplift_tm_xg'\n",
    "   )\n",
    "\n",
    "rf_tm_metrics = calculate_uplift_metrics(\n",
    "   df=results_df,\n",
    "   uplift='uplift_tm_rf'\n",
    "   )\n",
    "\n",
    "xg_sm_metrics = calculate_uplift_metrics(\n",
    "   df=results_df,\n",
    "   uplift='uplift_sm_xg'\n",
    "   )\n",
    "\n",
    "rf_sm_metrics = calculate_uplift_metrics(\n",
    "   df=results_df,\n",
    "   uplift='uplift_sm_rf'\n",
    "   )"
   ]
  },
  {
   "cell_type": "code",
   "execution_count": 62,
   "metadata": {},
   "outputs": [
    {
     "name": "stdout",
     "output_type": "stream",
     "text": [
      "{'AUUC': 0.055813282759623696, 'Qini': 0.3684180832920917, 'top_group_uplift': 0.10781466685034671, 'uplift_by_group': [0.10781466685034671, 0.05518571586024469, 0.06543209876543209, 0.06909692967846857, 0.0708886721375996]}\n",
      "{'AUUC': 0.0534942393093916, 'Qini': 0.3688020017568995, 'top_group_uplift': 0.10947781550113728, 'uplift_by_group': [0.10947781550113728, 0.05880699820911971, 0.05659557383530449, 0.0507378192925923, 0.09318379491874569]}\n",
      "{'AUUC': 0.05454698103451481, 'Qini': 0.3648979634344608, 'top_group_uplift': 0.10336674914990823, 'uplift_by_group': [0.10336674914990823, 0.06329613812738209, 0.07554858934169278, 0.04172711944161242, 0.08095936737386522]}\n",
      "{'AUUC': 0.05738932052525234, 'Qini': 0.3685485320329818, 'top_group_uplift': 0.1030154633489952, 'uplift_by_group': [0.1030154633489952, 0.04754638791465016, 0.07720442286583104, 0.08059386243906033, 0.06018839546444512]}\n"
     ]
    }
   ],
   "source": [
    "print(rf_tm_metrics)\n",
    "print(xg_tm_metrics)\n",
    "print(rf_sm_metrics)\n",
    "print(xg_sm_metrics)\n",
    "# So here we are seeing the qini scores much higher and more similar.\n",
    "# The XGBoost models win in this scenario\n",
    "# For the AUUC, the RF wins for the TM but the XG wins for the SM"
   ]
  },
  {
   "cell_type": "markdown",
   "metadata": {},
   "source": [
    "### CausalML AUUC Score"
   ]
  },
  {
   "cell_type": "code",
   "execution_count": 91,
   "metadata": {},
   "outputs": [
    {
     "name": "stdout",
     "output_type": "stream",
     "text": [
      "uplift_tm_rf    0.532856\n",
      "uplift_tm_xg    0.518863\n",
      "uplift_sm_rf    0.532925\n",
      "uplift_sm_xg    0.526695\n",
      "Random          0.514123\n",
      "dtype: float64\n"
     ]
    }
   ],
   "source": [
    "auuc_calc = auuc_score(\n",
    "        df=results_df,\n",
    "        outcome_col=\"y_true\",\n",
    "        treatment_col=\"treatment\",\n",
    "        treatment_effect_col=None\n",
    "    )\n",
    "print(auuc_calc)\n",
    "# Boy this a bummer, looks like the RF win in this case with the two model RF coming in first, but not much better than random, yikes."
   ]
  },
  {
   "cell_type": "markdown",
   "metadata": {},
   "source": [
    "### Decile Chart?"
   ]
  },
  {
   "cell_type": "code",
   "execution_count": 108,
   "metadata": {},
   "outputs": [],
   "source": [
    "results_df = results_df.sort_values(by='uplift_tm_rf', ascending=False)"
   ]
  },
  {
   "cell_type": "code",
   "execution_count": 109,
   "metadata": {},
   "outputs": [],
   "source": [
    "results_df['decile_tm_rf'] = pd.qcut(results_df['uplift_tm_rf'], 10, labels=False, duplicates='drop', ) + 1\n"
   ]
  },
  {
   "cell_type": "code",
   "execution_count": 111,
   "metadata": {},
   "outputs": [
    {
     "name": "stderr",
     "output_type": "stream",
     "text": [
      "C:\\Users\\wallj\\AppData\\Local\\Temp\\ipykernel_20352\\3131367042.py:7: DeprecationWarning: DataFrameGroupBy.apply operated on the grouping columns. This behavior is deprecated, and in a future version of pandas the grouping columns will be excluded from the operation. Either pass `include_groups=False` to exclude the groupings or explicitly select the grouping columns after groupby to silence this warning.\n",
      "  decile_uplift = results_df.groupby('decile_tm_rf').apply(calculate_uplift).reset_index(name='observed_uplift_tm_rf')\n"
     ]
    }
   ],
   "source": [
    "def calculate_uplift(df):\n",
    "    treated = df[df['treatment'] == 1]['y_true'].mean()\n",
    "    control = df[df['treatment'] == 0]['y_true'].mean()\n",
    "    return treated - control\n",
    "\n",
    "# Group by decile and calculate observed uplift\n",
    "decile_uplift = results_df.groupby('decile_tm_rf').apply(calculate_uplift).reset_index(name='observed_uplift_tm_rf')"
   ]
  },
  {
   "cell_type": "code",
   "execution_count": 112,
   "metadata": {},
   "outputs": [
    {
     "name": "stderr",
     "output_type": "stream",
     "text": [
      "C:\\Users\\wallj\\AppData\\Local\\Temp\\ipykernel_20352\\1261464934.py:2: FutureWarning: \n",
      "\n",
      "Passing `palette` without assigning `hue` is deprecated and will be removed in v0.14.0. Assign the `x` variable to `hue` and set `legend=False` for the same effect.\n",
      "\n",
      "  sns.barplot(x='decile_tm_rf', y='observed_uplift_tm_rf', data=decile_uplift, palette='Blues_d')\n"
     ]
    },
    {
     "data": {
      "image/png": "[encoded data removed]",
      "text/plain": [
       "<Figure size 640x480 with 1 Axes>"
      ]
     },
     "metadata": {},
     "output_type": "display_data"
    }
   ],
   "source": [
    "# Plot the observed uplift by decile\n",
    "sns.barplot(x='decile_tm_rf', y='observed_uplift_tm_rf', data=decile_uplift, palette='Blues_d')\n",
    "plt.title('Uplift Decile Chart')\n",
    "plt.xlabel('Decile (Ranked by Predicted Uplift)')\n",
    "plt.ylabel('Observed Uplift')\n",
    "plt.show()"
   ]
  },
  {
   "cell_type": "markdown",
   "metadata": {},
   "source": [
    "This is terrible"
   ]
  },
  {
   "cell_type": "markdown",
   "metadata": {},
   "source": [
    "### Fake Qini Curve"
   ]
  },
  {
   "cell_type": "code",
   "execution_count": 113,
   "metadata": {},
   "outputs": [
    {
     "data": {
      "image/png": "[encoded data removed]",
      "text/plain": [
       "<Figure size 800x600 with 1 Axes>"
      ]
     },
     "metadata": {},
     "output_type": "display_data"
    }
   ],
   "source": [
    "import matplotlib.pyplot as plt\n",
    "import numpy as np\n",
    "\n",
    "# Create data for a Qini curve\n",
    "population_targeted = np.linspace(0, 1, 100)  # Proportion of population targeted (X-axis)\n",
    "random_gain = population_targeted  # Baseline (random targeting)\n",
    "ideal_gain = np.minimum(population_targeted * 1.5, 1.0)  # Ideal model (optimistic upper bound)\n",
    "model_gain = np.minimum(population_targeted * 1.2, 1.0)  # Typical uplift model\n",
    "\n",
    "# Plot the Qini curve\n",
    "plt.figure(figsize=(8, 6))\n",
    "plt.plot(population_targeted, ideal_gain, label=\"Ideal Model\", linestyle=\"--\", color=\"green\")\n",
    "plt.plot(population_targeted, model_gain, label=\"Actual Model\", color=\"blue\")\n",
    "plt.plot(population_targeted, random_gain, label=\"Random Targeting\", linestyle=\"--\", color=\"red\")\n",
    "plt.fill_between(population_targeted, random_gain, model_gain, color=\"blue\", alpha=0.2, label=\"Qini Gain Area\")\n",
    "\n",
    "# Customize plot\n",
    "plt.title(\"Qini Curve (Theoretical)\")\n",
    "plt.xlabel(\"Proportion of Population Targeted\")\n",
    "plt.ylabel(\"Cumulative Uplift\")\n",
    "plt.legend(loc=\"lower right\")\n",
    "plt.grid(True)\n",
    "plt.show()\n"
   ]
  },
  {
   "cell_type": "markdown",
   "metadata": {},
   "source": []
  }
 ],
 "metadata": {
  "kernelspec": {
   "display_name": "pymc_env",
   "language": "python",
   "name": "python3"
  },
  "language_info": {
   "codemirror_mode": {
    "name": "ipython",
    "version": 3
   },
   "file_extension": ".py",
   "mimetype": "text/x-python",
   "name": "python",
   "nbconvert_exporter": "python",
   "pygments_lexer": "ipython3",
   "version": "3.11.9"
  }
 },
 "nbformat": 4,
 "nbformat_minor": 2
}
